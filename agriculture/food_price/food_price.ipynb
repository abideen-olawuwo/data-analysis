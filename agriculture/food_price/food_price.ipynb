{
 "cells": [
  {
   "cell_type": "markdown",
   "id": "8fe029b1",
   "metadata": {},
   "source": [
    "# Analytic Report on Food Price and Sales in 14 States in Nigeria"
   ]
  },
  {
   "cell_type": "markdown",
   "id": "a8107e52",
   "metadata": {},
   "source": [
    "#### Data Source \n",
    "The dataset was downloaded from data.humdata.org[https://data.humdata.org/dataset/42db041f-7aaf-4ab4-961f-2a12096861e7/resource/12b51155-0cd3-4806-9924-61ede4077591/download/wfp_food_prices_nga.csv]"
   ]
  },
  {
   "cell_type": "code",
   "execution_count": 1,
   "id": "ba93b8d1",
   "metadata": {},
   "outputs": [],
   "source": [
    "import numpy as np\n",
    "import pandas as pd\n",
    "import seaborn as sns\n",
    "import matplotlib as plt\n",
    "\n",
    "import warnings\n",
    "\n",
    "warnings.filterwarnings(\"ignore\")"
   ]
  },
  {
   "cell_type": "code",
   "execution_count": 2,
   "id": "a256a9a9",
   "metadata": {},
   "outputs": [
    {
     "data": {
      "text/plain": [
       "(74422, 14)"
      ]
     },
     "execution_count": 2,
     "metadata": {},
     "output_type": "execute_result"
    }
   ],
   "source": [
    "df = pd.read_csv('data/wfp_food_prices_nga.csv')\n",
    "df.shape"
   ]
  },
  {
   "cell_type": "code",
   "execution_count": 3,
   "id": "ea5fcb77",
   "metadata": {},
   "outputs": [
    {
     "name": "stdout",
     "output_type": "stream",
     "text": [
      "date :\n",
      " ['#date' '2002-01-15' '2002-02-15' '2002-03-15' '2002-04-15' '2002-05-15'\n",
      " '2002-06-15' '2002-07-15' '2002-08-15' '2002-09-15' '2002-10-15'\n",
      " '2002-11-15' '2002-12-15' '2003-01-15' '2003-02-15' '2003-03-15'\n",
      " '2003-04-15' '2003-05-15' '2003-06-15' '2003-07-15' '2003-08-15'\n",
      " '2003-09-15' '2003-10-15' '2003-11-15' '2003-12-15' '2004-01-15'\n",
      " '2004-02-15' '2004-03-15' '2004-04-15' '2004-05-15' '2004-06-15'\n",
      " '2004-07-15' '2004-08-15' '2004-09-15' '2004-10-15' '2004-11-15'\n",
      " '2004-12-15' '2005-01-15' '2005-02-15' '2005-03-15' '2005-04-15'\n",
      " '2005-05-15' '2005-06-15' '2005-07-15' '2005-08-15' '2005-09-15'\n",
      " '2005-10-15' '2005-11-15' '2005-12-15' '2006-01-15' '2006-02-15'\n",
      " '2006-03-15' '2006-04-15' '2006-05-15' '2006-06-15' '2006-07-15'\n",
      " '2006-08-15' '2006-09-15' '2006-10-15' '2006-11-15' '2006-12-15'\n",
      " '2007-01-15' '2007-02-15' '2007-03-15' '2007-04-15' '2007-05-15'\n",
      " '2007-06-15' '2007-07-15' '2007-08-15' '2007-09-15' '2007-10-15'\n",
      " '2007-11-15' '2007-12-15' '2008-01-15' '2008-02-15' '2008-03-15'\n",
      " '2008-04-15' '2008-05-15' '2008-06-15' '2008-07-15' '2008-08-15'\n",
      " '2008-09-15' '2008-10-15' '2008-11-15' '2008-12-15' '2009-01-15'\n",
      " '2009-02-15' '2009-03-15' '2009-04-15' '2009-05-15' '2009-06-15'\n",
      " '2009-07-15' '2009-08-15' '2009-09-15' '2009-10-15' '2009-11-15'\n",
      " '2009-12-15' '2010-01-15' '2010-02-15' '2010-03-15' '2010-04-15'\n",
      " '2010-05-15' '2010-06-15' '2010-07-15' '2010-08-15' '2010-09-15'\n",
      " '2010-10-15' '2010-11-15' '2010-12-15' '2011-01-15' '2011-02-15'\n",
      " '2011-03-15' '2011-04-15' '2011-05-15' '2011-06-15' '2011-07-15'\n",
      " '2011-08-15' '2011-09-15' '2011-10-15' '2011-11-15' '2011-12-15'\n",
      " '2012-01-15' '2012-02-15' '2012-03-15' '2012-04-15' '2012-05-15'\n",
      " '2012-06-15' '2012-07-15' '2012-08-15' '2012-09-15' '2012-10-15'\n",
      " '2012-11-15' '2012-12-15' '2013-01-15' '2013-02-15' '2013-03-15'\n",
      " '2013-04-15' '2013-05-15' '2013-06-15' '2013-07-15' '2013-08-15'\n",
      " '2013-09-15' '2013-10-15' '2013-11-15' '2013-12-15' '2014-01-15'\n",
      " '2014-02-15' '2014-03-15' '2014-04-15' '2014-05-15' '2014-06-15'\n",
      " '2014-07-15' '2014-08-15' '2014-09-15' '2014-10-15' '2014-11-15'\n",
      " '2014-12-15' '2015-01-15' '2015-02-15' '2015-03-15' '2015-04-15'\n",
      " '2015-05-15' '2015-06-15' '2015-07-15' '2015-08-15' '2015-09-15'\n",
      " '2015-10-15' '2015-11-15' '2015-12-15' '2016-01-15' '2016-02-15'\n",
      " '2016-03-15' '2016-04-15' '2016-05-15' '2016-06-15' '2016-07-15'\n",
      " '2016-08-15' '2016-09-15' '2016-10-15' '2016-11-15' '2016-12-15'\n",
      " '2017-01-15' '2017-02-15' '2017-03-15' '2017-04-15' '2017-05-15'\n",
      " '2017-06-15' '2017-07-15' '2017-08-15' '2017-09-15' '2017-10-15'\n",
      " '2017-11-15' '2017-12-15' '2018-01-15' '2018-02-15' '2018-03-15'\n",
      " '2018-04-15' '2018-05-15' '2018-06-15' '2018-07-15' '2018-08-15'\n",
      " '2018-09-15' '2018-10-15' '2018-11-15' '2018-12-15' '2019-01-15'\n",
      " '2019-02-15' '2019-03-15' '2019-04-15' '2019-05-15' '2019-06-15'\n",
      " '2019-07-15' '2019-08-15' '2019-09-15' '2019-10-15' '2019-11-15'\n",
      " '2019-12-15' '2020-01-15' '2020-02-15' '2020-03-15' '2020-04-15'\n",
      " '2020-05-15' '2020-06-15' '2020-07-15' '2020-08-15' '2020-09-15'\n",
      " '2020-10-15' '2020-11-15' '2020-12-15' '2021-01-15' '2021-02-15'\n",
      " '2021-03-15' '2021-04-15' '2021-05-15' '2021-06-15' '2021-07-15'\n",
      " '2021-08-15' '2021-09-15' '2021-10-15' '2021-11-15' '2021-12-15'\n",
      " '2022-01-15' '2022-02-15' '2022-03-15' '2022-04-15' '2022-05-15'\n",
      " '2022-06-15' '2022-07-15' '2022-08-15' '2022-09-15' '2022-10-15'\n",
      " '2022-11-15' '2022-12-15' '2023-01-15' '2023-02-15' '2023-03-15'\n",
      " '2023-04-15' '2023-05-15' '2023-06-15' '2023-07-15']\n",
      "2021-11-15    1772\n",
      "2021-10-15    1748\n",
      "2022-03-15    1728\n",
      "2022-02-15    1720\n",
      "2022-05-15    1720\n",
      "              ... \n",
      "2007-07-15       2\n",
      "2006-11-15       2\n",
      "2006-10-15       2\n",
      "2004-08-15       2\n",
      "#date            1\n",
      "Name: date, Length: 260, dtype: int64\n",
      "\n",
      " **************************************** \n",
      "\n",
      "admin1 :\n",
      " ['#adm1+name' 'Katsina' 'Sokoto' 'Borno' 'Kano' 'Jigawa' 'Oyo' 'Lagos'\n",
      " 'Kaduna' 'Zamfara' 'Abia' 'Gombe' 'Kebbi' 'Adamawa' 'Yobe']\n",
      "Yobe          22753\n",
      "Borno         19388\n",
      "Kaduna         4847\n",
      "Katsina        3639\n",
      "Kano           2956\n",
      "Oyo            2837\n",
      "Jigawa         2734\n",
      "Zamfara        2716\n",
      "Kebbi          2702\n",
      "Gombe          2699\n",
      "Lagos          2556\n",
      "Adamawa        2359\n",
      "Abia           1602\n",
      "Sokoto          633\n",
      "#adm1+name        1\n",
      "Name: admin1, dtype: int64\n",
      "\n",
      " **************************************** \n",
      "\n",
      "admin2 :\n",
      " ['#adm2+name' 'Jibia' 'Gada' \"Mai'Adua\" 'Mobbar' 'Dawakin Tofa'\n",
      " 'Maigatari' 'Ibadan North' 'Maiduguri' 'Kosofe' 'Giwa' 'Kaura Namoda'\n",
      " 'Oboma Ngwa' 'Akko' 'Kaugama' 'Lere' 'Dandume' 'Gwandu' 'Hong' 'Biu'\n",
      " 'Damaturu' 'Potiskum' 'Konduga' 'Geidam' 'Gujba' 'Jakusko' 'Karasuwa'\n",
      " 'Nguru' 'Yunusari' 'Yusufari' 'Borsari' 'Gulani']\n",
      "Maiduguri       11422\n",
      "Konduga          5153\n",
      "Damaturu         4226\n",
      "Potiskum         3888\n",
      "Dawakin Tofa     2956\n",
      "Ibadan North     2837\n",
      "Kaura Namoda     2716\n",
      "Gwandu           2702\n",
      "Akko             2699\n",
      "Kosofe           2556\n",
      "Dandume          2529\n",
      "Giwa             2499\n",
      "Biu              2452\n",
      "Kaugama          2385\n",
      "Hong             2359\n",
      "Lere             2348\n",
      "Geidam           1689\n",
      "Nguru            1684\n",
      "Karasuwa         1683\n",
      "Borsari          1654\n",
      "Yunusari         1648\n",
      "Jakusko          1629\n",
      "Yusufari         1621\n",
      "Oboma Ngwa       1602\n",
      "Gujba            1525\n",
      "Gulani           1506\n",
      "Gada              633\n",
      "Mai'Adua          584\n",
      "Jibia             526\n",
      "Mobbar            361\n",
      "Maigatari         349\n",
      "#adm2+name          1\n",
      "Name: admin2, dtype: int64\n",
      "\n",
      " **************************************** \n",
      "\n",
      "market :\n",
      " ['#loc+market+name' 'Jibia (CBM)' 'Illela (CBM)' 'Mai Adoua (CBM)'\n",
      " 'Damassack (CBM)' 'Dawanau' 'Mai Gatari (CBM)' 'Ibadan' 'Maiduguri'\n",
      " 'Lagos' 'Giwa' 'Kaura Namoda' 'Aba' 'Gombe' 'Gujungu' 'Saminaka'\n",
      " 'Dandume' 'Gwandu' 'Mubi' 'Biu' 'Damaturu' 'Potiskum' 'Abba Gamaram'\n",
      " 'Baga Road' 'Bullunkutu' 'Budum' 'Custom' 'Kusawam Shanu' 'Monday'\n",
      " 'Tashan Bama' 'Bolori Stores' 'Damaturu (Sunday Market)' 'Geidam'\n",
      " 'Gujba (Buni Yadi)' 'Jakusko' 'Bade (Gashua)' 'Nguru' 'Yunusari'\n",
      " 'Yusufari' 'Bursari' 'Gulani (Tettaba)']\n",
      "Potiskum                    3888\n",
      "Dawanau                     2956\n",
      "Ibadan                      2837\n",
      "Maiduguri                   2766\n",
      "Kaura Namoda                2716\n",
      "Gwandu                      2702\n",
      "Gombe                       2699\n",
      "Lagos                       2556\n",
      "Damaturu                    2548\n",
      "Dandume                     2529\n",
      "Giwa                        2499\n",
      "Biu                         2452\n",
      "Gujungu                     2385\n",
      "Mubi                        2359\n",
      "Saminaka                    2348\n",
      "Baga Road                   1825\n",
      "Budum                       1812\n",
      "Abba Gamaram                1810\n",
      "Monday                      1806\n",
      "Tashan Bama                 1799\n",
      "Custom                      1797\n",
      "Geidam                      1689\n",
      "Nguru                       1684\n",
      "Bade (Gashua)               1683\n",
      "Damaturu (Sunday Market)    1678\n",
      "Bursari                     1654\n",
      "Yunusari                    1648\n",
      "Jakusko                     1629\n",
      "Yusufari                    1621\n",
      "Aba                         1602\n",
      "Gujba (Buni Yadi)           1525\n",
      "Gulani (Tettaba)            1506\n",
      "Kusawam Shanu               1442\n",
      "Bullunkutu                  1440\n",
      "Illela (CBM)                 633\n",
      "Mai Adoua (CBM)              584\n",
      "Jibia (CBM)                  526\n",
      "Damassack (CBM)              361\n",
      "Mai Gatari (CBM)             349\n",
      "Bolori Stores                 78\n",
      "#loc+market+name               1\n",
      "Name: market, dtype: int64\n",
      "\n",
      " **************************************** \n",
      "\n",
      "latitude :\n",
      " ['#geo+lat' '13.08' '13.645' '13.18' '13.01' '12.090120315551758' '12.78'\n",
      " '7.4019598960876465' '11.831100463867188' '6.61216402053833'\n",
      " '11.280159950256348' '12.595190048217773' '5.147640228271484'\n",
      " '10.283329963684082' '12.362299919128418' '10.416500091552734'\n",
      " '11.416669845581055' '12.493820190429688' '10.267609596252441'\n",
      " '10.611100196838379' '11.744440078735352' '11.707240104675293'\n",
      " '11.858181953430176' '11.867950439453125' '11.829812049865723'\n",
      " '11.84973430633545' '11.850709915161133' '11.85888671875'\n",
      " '11.834550857543945' '11.810953140258789' '11.85260253'\n",
      " '11.739766120910645' '12.890277862548828' '11.285202026367188'\n",
      " '12.201859474182129' '12.868664741516113' '12.872964859008789'\n",
      " '13.149833679199219' '13.062664985656738' '12.496692657470703'\n",
      " '10.813901901245117' 5.147640228271484 10.26760959625244\n",
      " 10.61110019683838 11.858181953430176 11.867950439453123 11.84973430633545\n",
      " 11.850709915161133 11.831100463867188 11.834550857543944\n",
      " 11.810953140258787 10.283329963684082 12.362299919128418\n",
      " 11.280159950256348 10.416500091552734 12.090120315551758\n",
      " 11.416669845581056 12.493820190429688 6.61216402053833 7.4019598960876465\n",
      " 12.496692657470703 11.744440078735352 11.739766120910645\n",
      " 12.890277862548828 11.285202026367188 10.813901901245115\n",
      " 12.201859474182127 12.868664741516112 12.872964859008787\n",
      " 11.707240104675291 13.14983367919922 13.062664985656738\n",
      " 12.595190048217772]\n",
      "11.707240104675293    3323\n",
      "12.090120315551758    2579\n",
      "7.4019598960876465    2452\n",
      "11.831100463867188    2376\n",
      "12.595190048217773    2326\n",
      "                      ... \n",
      "13.062664985656738     171\n",
      "11.285202026367188     170\n",
      "12.201859474182127     168\n",
      "11.85260253             78\n",
      "#geo+lat                 1\n",
      "Name: latitude, Length: 73, dtype: int64\n",
      "\n",
      " **************************************** \n",
      "\n",
      "longitude :\n",
      " ['#geo+lon' '7.24' '5.278' '8.23' '12.56' '8.429120063781738' '9.44'\n",
      " '3.9173099994659424' '13.150970458984375' '3.4018969535827637'\n",
      " '7.41786003112793' '6.586349964141846' '7.356719970703125'\n",
      " '11.166669845581055' '9.583600044250488' '8.681380271911621'\n",
      " '7.199999809265137' '4.642270088195801' '13.264360427856445'\n",
      " '12.194999694824219' '11.96111011505127' '11.082489967346191'\n",
      " '13.154891967773438' '13.123313903808594' '13.092645645141602'\n",
      " '13.16344165802002' '13.171241760253906' '13.175995826721191'\n",
      " '13.152417182922363' '13.182149887084961' '13.14149168' '11.955810546875'\n",
      " '11.92116641998291' '11.99950122833252' '10.878244400024414'\n",
      " '11.039624214172363' '10.445594787597656' '11.54023551940918'\n",
      " '11.171370506286621' '11.499503135681152' '11.728192329406738'\n",
      " 7.356719970703125 13.264360427856444 12.19499969482422 13.154891967773438\n",
      " 13.123313903808594 13.16344165802002 13.171241760253906\n",
      " 13.150970458984377 13.152417182922363 13.18214988708496\n",
      " 11.166669845581056 9.583600044250488 7.41786003112793 8.681380271911621\n",
      " 8.429120063781738 7.199999809265137 4.642270088195801 3.401896953582764\n",
      " 3.9173099994659424 11.499503135681152 11.96111011505127 11.955810546875\n",
      " 11.92116641998291 11.99950122833252 11.728192329406738 10.878244400024414\n",
      " 11.039624214172363 10.445594787597656 11.082489967346191\n",
      " 11.54023551940918 11.17137050628662 6.586349964141846]\n",
      "11.082489967346191    3323\n",
      "8.429120063781738     2579\n",
      "3.9173099994659424    2452\n",
      "13.150970458984375    2376\n",
      "6.586349964141846     2326\n",
      "                      ... \n",
      "11.17137050628662      171\n",
      "11.99950122833252      170\n",
      "10.878244400024414     168\n",
      "13.14149168             78\n",
      "#geo+lon                 1\n",
      "Name: longitude, Length: 73, dtype: int64\n",
      "\n",
      " **************************************** \n",
      "\n",
      "category :\n",
      " ['#item+type' 'cereals and tubers' 'pulses and nuts' 'non-food'\n",
      " 'oil and fats' 'meat, fish and eggs' 'milk and dairy'\n",
      " 'vegetables and fruits' 'miscellaneous food']\n",
      "cereals and tubers       37762\n",
      "pulses and nuts          12661\n",
      "vegetables and fruits     7437\n",
      "meat, fish and eggs       5259\n",
      "oil and fats              4381\n",
      "non-food                  3295\n",
      "miscellaneous food        2304\n",
      "milk and dairy            1322\n",
      "#item+type                   1\n",
      "Name: category, dtype: int64\n",
      "\n",
      " **************************************** \n",
      "\n",
      "commodity :\n",
      " ['#item+name' 'Maize' 'Millet' 'Rice (imported)' 'Sorghum' 'Beans (niebe)'\n",
      " 'Wheat' 'Maize (white)' 'Sorghum (white)' 'Rice (milled, local)' 'Bread'\n",
      " 'Cassava meal (gari, yellow)' 'Gari (white)' 'Maize (yellow)'\n",
      " 'Rice (local)' 'Sorghum (brown)' 'Yam (Abuja)' 'Fuel (diesel)'\n",
      " 'Fuel (petrol-gasoline)' 'Oil (palm)' 'Cowpeas (brown)' 'Cowpeas (white)'\n",
      " 'Yam' 'Groundnuts (shelled)' 'Maize flour' 'Meat (beef)' 'Meat (goat)'\n",
      " 'Milk' 'Oil (vegetable)' 'Beans (red)' 'Beans (white)' 'Groundnuts'\n",
      " 'Onions' 'Fish' 'Eggs' 'Bananas' 'Oranges' 'Spinach' 'Watermelons'\n",
      " 'Cowpeas' 'Tomatoes' 'Salt' 'Sugar']\n",
      "Millet                         4631\n",
      "Rice (imported)                4307\n",
      "Rice (local)                   3863\n",
      "Yam                            3694\n",
      "Oil (palm)                     3052\n",
      "Maize (white)                  2856\n",
      "Sorghum (white)                2786\n",
      "Cowpeas (white)                2608\n",
      "Groundnuts (shelled)           2565\n",
      "Sorghum (brown)                2556\n",
      "Gari (white)                   2500\n",
      "Maize (yellow)                 2465\n",
      "Cowpeas (brown)                2425\n",
      "Cassava meal (gari, yellow)    2223\n",
      "Sorghum                        1882\n",
      "Fuel (petrol-gasoline)         1652\n",
      "Fuel (diesel)                  1643\n",
      "Bread                          1561\n",
      "Beans (white)                  1339\n",
      "Groundnuts                     1333\n",
      "Oil (vegetable)                1329\n",
      "Meat (beef)                    1328\n",
      "Meat (goat)                    1325\n",
      "Milk                           1322\n",
      "Beans (red)                    1320\n",
      "Maize flour                    1320\n",
      "Onions                         1313\n",
      "Fish                           1313\n",
      "Oranges                        1293\n",
      "Eggs                           1293\n",
      "Watermelons                    1292\n",
      "Bananas                        1280\n",
      "Tomatoes                       1186\n",
      "Salt                           1152\n",
      "Sugar                          1152\n",
      "Spinach                        1073\n",
      "Cowpeas                        1047\n",
      "Maize                           592\n",
      "Rice (milled, local)            375\n",
      "Yam (Abuja)                      82\n",
      "Wheat                            69\n",
      "Beans (niebe)                    24\n",
      "#item+name                        1\n",
      "Name: commodity, dtype: int64\n",
      "\n",
      " **************************************** \n",
      "\n",
      "unit :\n",
      " ['#item+unit' 'KG' '100 KG' '50 KG' 'Unit' 'L' '100 L' '1.3 KG' '1.4 KG'\n",
      " '3.4 KG' '20 G' '750 ML' '1.1 KG' '0.5 KG' '1.5 KG' '30 pcs' '400 G'\n",
      " '300 G' '2.1 KG' '3.1 KG' '1.2 KG' '250 G' '100 Tubers']\n",
      "100 KG        18389\n",
      "KG            17807\n",
      "1.3 KG         5999\n",
      "L              4907\n",
      "1.4 KG         4376\n",
      "1.2 KG         3647\n",
      "750 ML         2664\n",
      "400 G          2018\n",
      "50 KG          1892\n",
      "0.5 KG         1774\n",
      "Unit           1561\n",
      "20 G           1322\n",
      "30 pcs         1293\n",
      "2.1 KG         1292\n",
      "250 G          1152\n",
      "300 G          1073\n",
      "3.1 KG          728\n",
      "100 Tubers      650\n",
      "1.1 KG          600\n",
      "3.4 KG          594\n",
      "1.5 KG          590\n",
      "100 L            93\n",
      "#item+unit        1\n",
      "Name: unit, dtype: int64\n",
      "\n",
      " **************************************** \n",
      "\n",
      "priceflag :\n",
      " ['#item+price+flag' 'actual' 'actual,aggregate' 'aggregate' 'forecast']\n",
      "actual              48107\n",
      "aggregate           14116\n",
      "forecast            11744\n",
      "actual,aggregate      454\n",
      "#item+price+flag        1\n",
      "Name: priceflag, dtype: int64\n",
      "\n",
      " **************************************** \n",
      "\n",
      "pricetype :\n",
      " ['#item+price+type' 'Wholesale' 'Retail']\n",
      "Retail              50472\n",
      "Wholesale           23949\n",
      "#item+price+type        1\n",
      "Name: pricetype, dtype: int64\n",
      "\n",
      " **************************************** \n",
      "\n",
      "currency :\n",
      " ['#currency' 'NGN']\n",
      "NGN          74421\n",
      "#currency        1\n",
      "Name: currency, dtype: int64\n",
      "\n",
      " **************************************** \n",
      "\n",
      "price :\n",
      " ['#value' '175.92' '150.18' ... '467.66' '0.0' 0.0]\n"
     ]
    },
    {
     "name": "stdout",
     "output_type": "stream",
     "text": [
      "0.0        8886\n",
      "0.0        2858\n",
      "50.0       1961\n",
      "200.0      1461\n",
      "100.0      1337\n",
      "           ... \n",
      "21675.0       1\n",
      "149.89        1\n",
      "25950.0       1\n",
      "351.03        1\n",
      "502.73        1\n",
      "Name: price, Length: 19447, dtype: int64\n",
      "\n",
      " **************************************** \n",
      "\n",
      "usdprice :\n",
      " ['#value+usd' '1.5525' '1.3254' ... '1.0151' '0.0' 0.0]\n",
      "0.0           8886\n",
      "0.0           2858\n",
      "0.1629         205\n",
      "0.1397         150\n",
      "0.1401         142\n",
      "              ... \n",
      "0.206            1\n",
      "90.9091          1\n",
      "0.9341           1\n",
      "1.9231           1\n",
      "#value+usd       1\n",
      "Name: usdprice, Length: 28636, dtype: int64\n",
      "\n",
      " **************************************** \n",
      "\n"
     ]
    }
   ],
   "source": [
    "# let's check unique values\n",
    "columns=df.columns\n",
    "for col in columns:\n",
    "    print(col,':\\n',df[col].unique())\n",
    "    print(df[col].value_counts())\n",
    "    print('\\n',20*'**','\\n')"
   ]
  },
  {
   "cell_type": "code",
   "execution_count": 4,
   "id": "dd3b6744",
   "metadata": {},
   "outputs": [
    {
     "data": {
      "text/html": [
       "<div>\n",
       "<style scoped>\n",
       "    .dataframe tbody tr th:only-of-type {\n",
       "        vertical-align: middle;\n",
       "    }\n",
       "\n",
       "    .dataframe tbody tr th {\n",
       "        vertical-align: top;\n",
       "    }\n",
       "\n",
       "    .dataframe thead th {\n",
       "        text-align: right;\n",
       "    }\n",
       "</style>\n",
       "<table border=\"1\" class=\"dataframe\">\n",
       "  <thead>\n",
       "    <tr style=\"text-align: right;\">\n",
       "      <th></th>\n",
       "      <th>date</th>\n",
       "      <th>admin1</th>\n",
       "      <th>admin2</th>\n",
       "      <th>market</th>\n",
       "      <th>latitude</th>\n",
       "      <th>longitude</th>\n",
       "      <th>category</th>\n",
       "      <th>commodity</th>\n",
       "      <th>unit</th>\n",
       "      <th>priceflag</th>\n",
       "      <th>pricetype</th>\n",
       "      <th>currency</th>\n",
       "      <th>price</th>\n",
       "      <th>usdprice</th>\n",
       "    </tr>\n",
       "  </thead>\n",
       "  <tbody>\n",
       "    <tr>\n",
       "      <th>0</th>\n",
       "      <td>#date</td>\n",
       "      <td>#adm1+name</td>\n",
       "      <td>#adm2+name</td>\n",
       "      <td>#loc+market+name</td>\n",
       "      <td>#geo+lat</td>\n",
       "      <td>#geo+lon</td>\n",
       "      <td>#item+type</td>\n",
       "      <td>#item+name</td>\n",
       "      <td>#item+unit</td>\n",
       "      <td>#item+price+flag</td>\n",
       "      <td>#item+price+type</td>\n",
       "      <td>#currency</td>\n",
       "      <td>#value</td>\n",
       "      <td>#value+usd</td>\n",
       "    </tr>\n",
       "    <tr>\n",
       "      <th>1</th>\n",
       "      <td>2002-01-15</td>\n",
       "      <td>Katsina</td>\n",
       "      <td>Jibia</td>\n",
       "      <td>Jibia (CBM)</td>\n",
       "      <td>13.08</td>\n",
       "      <td>7.24</td>\n",
       "      <td>cereals and tubers</td>\n",
       "      <td>Maize</td>\n",
       "      <td>KG</td>\n",
       "      <td>actual</td>\n",
       "      <td>Wholesale</td>\n",
       "      <td>NGN</td>\n",
       "      <td>175.92</td>\n",
       "      <td>1.5525</td>\n",
       "    </tr>\n",
       "    <tr>\n",
       "      <th>2</th>\n",
       "      <td>2002-01-15</td>\n",
       "      <td>Katsina</td>\n",
       "      <td>Jibia</td>\n",
       "      <td>Jibia (CBM)</td>\n",
       "      <td>13.08</td>\n",
       "      <td>7.24</td>\n",
       "      <td>cereals and tubers</td>\n",
       "      <td>Millet</td>\n",
       "      <td>KG</td>\n",
       "      <td>actual</td>\n",
       "      <td>Wholesale</td>\n",
       "      <td>NGN</td>\n",
       "      <td>150.18</td>\n",
       "      <td>1.3254</td>\n",
       "    </tr>\n",
       "    <tr>\n",
       "      <th>3</th>\n",
       "      <td>2002-01-15</td>\n",
       "      <td>Katsina</td>\n",
       "      <td>Jibia</td>\n",
       "      <td>Jibia (CBM)</td>\n",
       "      <td>13.08</td>\n",
       "      <td>7.24</td>\n",
       "      <td>cereals and tubers</td>\n",
       "      <td>Rice (imported)</td>\n",
       "      <td>KG</td>\n",
       "      <td>actual</td>\n",
       "      <td>Wholesale</td>\n",
       "      <td>NGN</td>\n",
       "      <td>358.7</td>\n",
       "      <td>3.1656</td>\n",
       "    </tr>\n",
       "    <tr>\n",
       "      <th>4</th>\n",
       "      <td>2002-01-15</td>\n",
       "      <td>Katsina</td>\n",
       "      <td>Jibia</td>\n",
       "      <td>Jibia (CBM)</td>\n",
       "      <td>13.08</td>\n",
       "      <td>7.24</td>\n",
       "      <td>cereals and tubers</td>\n",
       "      <td>Sorghum</td>\n",
       "      <td>KG</td>\n",
       "      <td>actual</td>\n",
       "      <td>Wholesale</td>\n",
       "      <td>NGN</td>\n",
       "      <td>155.61</td>\n",
       "      <td>1.3733</td>\n",
       "    </tr>\n",
       "  </tbody>\n",
       "</table>\n",
       "</div>"
      ],
      "text/plain": [
       "         date      admin1      admin2            market  latitude longitude  \\\n",
       "0       #date  #adm1+name  #adm2+name  #loc+market+name  #geo+lat  #geo+lon   \n",
       "1  2002-01-15     Katsina       Jibia       Jibia (CBM)     13.08      7.24   \n",
       "2  2002-01-15     Katsina       Jibia       Jibia (CBM)     13.08      7.24   \n",
       "3  2002-01-15     Katsina       Jibia       Jibia (CBM)     13.08      7.24   \n",
       "4  2002-01-15     Katsina       Jibia       Jibia (CBM)     13.08      7.24   \n",
       "\n",
       "             category        commodity        unit         priceflag  \\\n",
       "0          #item+type       #item+name  #item+unit  #item+price+flag   \n",
       "1  cereals and tubers            Maize          KG            actual   \n",
       "2  cereals and tubers           Millet          KG            actual   \n",
       "3  cereals and tubers  Rice (imported)          KG            actual   \n",
       "4  cereals and tubers          Sorghum          KG            actual   \n",
       "\n",
       "          pricetype   currency   price    usdprice  \n",
       "0  #item+price+type  #currency  #value  #value+usd  \n",
       "1         Wholesale        NGN  175.92      1.5525  \n",
       "2         Wholesale        NGN  150.18      1.3254  \n",
       "3         Wholesale        NGN   358.7      3.1656  \n",
       "4         Wholesale        NGN  155.61      1.3733  "
      ]
     },
     "execution_count": 4,
     "metadata": {},
     "output_type": "execute_result"
    }
   ],
   "source": [
    "df.head()"
   ]
  },
  {
   "cell_type": "markdown",
   "id": "2cf293e3",
   "metadata": {},
   "source": [
    "### Data cleaning"
   ]
  },
  {
   "cell_type": "markdown",
   "id": "b4505090",
   "metadata": {},
   "source": [
    "###### Check For Missing Value"
   ]
  },
  {
   "cell_type": "code",
   "execution_count": 5,
   "id": "8ce9619a",
   "metadata": {},
   "outputs": [
    {
     "data": {
      "text/plain": [
       "date         0\n",
       "admin1       0\n",
       "admin2       0\n",
       "market       0\n",
       "latitude     0\n",
       "longitude    0\n",
       "category     0\n",
       "commodity    0\n",
       "unit         0\n",
       "priceflag    0\n",
       "pricetype    0\n",
       "currency     0\n",
       "price        0\n",
       "usdprice     0\n",
       "dtype: int64"
      ]
     },
     "execution_count": 5,
     "metadata": {},
     "output_type": "execute_result"
    }
   ],
   "source": [
    "#There is No Missing Value\n",
    "df.isna().sum()"
   ]
  },
  {
   "cell_type": "markdown",
   "id": "13973f9a",
   "metadata": {},
   "source": [
    "###### Removing The First Row and Reset the index"
   ]
  },
  {
   "cell_type": "code",
   "execution_count": 6,
   "id": "50ec1fd4",
   "metadata": {},
   "outputs": [],
   "source": [
    "#Drop the first Row\n",
    "df = df.iloc[1:]"
   ]
  },
  {
   "cell_type": "code",
   "execution_count": 7,
   "id": "2442b8bb",
   "metadata": {},
   "outputs": [],
   "source": [
    "# Reset the index\n",
    "df = df.reset_index(drop=True)"
   ]
  },
  {
   "cell_type": "code",
   "execution_count": 8,
   "id": "19c5464f",
   "metadata": {},
   "outputs": [
    {
     "data": {
      "text/html": [
       "<div>\n",
       "<style scoped>\n",
       "    .dataframe tbody tr th:only-of-type {\n",
       "        vertical-align: middle;\n",
       "    }\n",
       "\n",
       "    .dataframe tbody tr th {\n",
       "        vertical-align: top;\n",
       "    }\n",
       "\n",
       "    .dataframe thead th {\n",
       "        text-align: right;\n",
       "    }\n",
       "</style>\n",
       "<table border=\"1\" class=\"dataframe\">\n",
       "  <thead>\n",
       "    <tr style=\"text-align: right;\">\n",
       "      <th></th>\n",
       "      <th>date</th>\n",
       "      <th>admin1</th>\n",
       "      <th>admin2</th>\n",
       "      <th>market</th>\n",
       "      <th>latitude</th>\n",
       "      <th>longitude</th>\n",
       "      <th>category</th>\n",
       "      <th>commodity</th>\n",
       "      <th>unit</th>\n",
       "      <th>priceflag</th>\n",
       "      <th>pricetype</th>\n",
       "      <th>currency</th>\n",
       "      <th>price</th>\n",
       "      <th>usdprice</th>\n",
       "    </tr>\n",
       "  </thead>\n",
       "  <tbody>\n",
       "    <tr>\n",
       "      <th>0</th>\n",
       "      <td>2002-01-15</td>\n",
       "      <td>Katsina</td>\n",
       "      <td>Jibia</td>\n",
       "      <td>Jibia (CBM)</td>\n",
       "      <td>13.08</td>\n",
       "      <td>7.24</td>\n",
       "      <td>cereals and tubers</td>\n",
       "      <td>Maize</td>\n",
       "      <td>KG</td>\n",
       "      <td>actual</td>\n",
       "      <td>Wholesale</td>\n",
       "      <td>NGN</td>\n",
       "      <td>175.92</td>\n",
       "      <td>1.5525</td>\n",
       "    </tr>\n",
       "    <tr>\n",
       "      <th>1</th>\n",
       "      <td>2002-01-15</td>\n",
       "      <td>Katsina</td>\n",
       "      <td>Jibia</td>\n",
       "      <td>Jibia (CBM)</td>\n",
       "      <td>13.08</td>\n",
       "      <td>7.24</td>\n",
       "      <td>cereals and tubers</td>\n",
       "      <td>Millet</td>\n",
       "      <td>KG</td>\n",
       "      <td>actual</td>\n",
       "      <td>Wholesale</td>\n",
       "      <td>NGN</td>\n",
       "      <td>150.18</td>\n",
       "      <td>1.3254</td>\n",
       "    </tr>\n",
       "    <tr>\n",
       "      <th>2</th>\n",
       "      <td>2002-01-15</td>\n",
       "      <td>Katsina</td>\n",
       "      <td>Jibia</td>\n",
       "      <td>Jibia (CBM)</td>\n",
       "      <td>13.08</td>\n",
       "      <td>7.24</td>\n",
       "      <td>cereals and tubers</td>\n",
       "      <td>Rice (imported)</td>\n",
       "      <td>KG</td>\n",
       "      <td>actual</td>\n",
       "      <td>Wholesale</td>\n",
       "      <td>NGN</td>\n",
       "      <td>358.7</td>\n",
       "      <td>3.1656</td>\n",
       "    </tr>\n",
       "    <tr>\n",
       "      <th>3</th>\n",
       "      <td>2002-01-15</td>\n",
       "      <td>Katsina</td>\n",
       "      <td>Jibia</td>\n",
       "      <td>Jibia (CBM)</td>\n",
       "      <td>13.08</td>\n",
       "      <td>7.24</td>\n",
       "      <td>cereals and tubers</td>\n",
       "      <td>Sorghum</td>\n",
       "      <td>KG</td>\n",
       "      <td>actual</td>\n",
       "      <td>Wholesale</td>\n",
       "      <td>NGN</td>\n",
       "      <td>155.61</td>\n",
       "      <td>1.3733</td>\n",
       "    </tr>\n",
       "    <tr>\n",
       "      <th>4</th>\n",
       "      <td>2002-01-15</td>\n",
       "      <td>Katsina</td>\n",
       "      <td>Jibia</td>\n",
       "      <td>Jibia (CBM)</td>\n",
       "      <td>13.08</td>\n",
       "      <td>7.24</td>\n",
       "      <td>pulses and nuts</td>\n",
       "      <td>Beans (niebe)</td>\n",
       "      <td>KG</td>\n",
       "      <td>actual</td>\n",
       "      <td>Wholesale</td>\n",
       "      <td>NGN</td>\n",
       "      <td>196.87</td>\n",
       "      <td>1.7374</td>\n",
       "    </tr>\n",
       "  </tbody>\n",
       "</table>\n",
       "</div>"
      ],
      "text/plain": [
       "         date   admin1 admin2       market latitude longitude  \\\n",
       "0  2002-01-15  Katsina  Jibia  Jibia (CBM)    13.08      7.24   \n",
       "1  2002-01-15  Katsina  Jibia  Jibia (CBM)    13.08      7.24   \n",
       "2  2002-01-15  Katsina  Jibia  Jibia (CBM)    13.08      7.24   \n",
       "3  2002-01-15  Katsina  Jibia  Jibia (CBM)    13.08      7.24   \n",
       "4  2002-01-15  Katsina  Jibia  Jibia (CBM)    13.08      7.24   \n",
       "\n",
       "             category        commodity unit priceflag  pricetype currency  \\\n",
       "0  cereals and tubers            Maize   KG    actual  Wholesale      NGN   \n",
       "1  cereals and tubers           Millet   KG    actual  Wholesale      NGN   \n",
       "2  cereals and tubers  Rice (imported)   KG    actual  Wholesale      NGN   \n",
       "3  cereals and tubers          Sorghum   KG    actual  Wholesale      NGN   \n",
       "4     pulses and nuts    Beans (niebe)   KG    actual  Wholesale      NGN   \n",
       "\n",
       "    price usdprice  \n",
       "0  175.92   1.5525  \n",
       "1  150.18   1.3254  \n",
       "2   358.7   3.1656  \n",
       "3  155.61   1.3733  \n",
       "4  196.87   1.7374  "
      ]
     },
     "execution_count": 8,
     "metadata": {},
     "output_type": "execute_result"
    }
   ],
   "source": [
    "df.head()"
   ]
  },
  {
   "cell_type": "code",
   "execution_count": 9,
   "id": "cd2b6806",
   "metadata": {},
   "outputs": [
    {
     "data": {
      "text/plain": [
       "Index(['date', 'admin1', 'admin2', 'market', 'latitude', 'longitude',\n",
       "       'category', 'commodity', 'unit', 'priceflag', 'pricetype', 'currency',\n",
       "       'price', 'usdprice'],\n",
       "      dtype='object')"
      ]
     },
     "execution_count": 9,
     "metadata": {},
     "output_type": "execute_result"
    }
   ],
   "source": [
    "df.columns"
   ]
  },
  {
   "cell_type": "markdown",
   "id": "6993ba3b",
   "metadata": {},
   "source": [
    "###### Rename Admin1 and 2 to State and Local Government"
   ]
  },
  {
   "cell_type": "code",
   "execution_count": 10,
   "id": "eba9b419",
   "metadata": {},
   "outputs": [],
   "source": [
    "df.rename(columns={'admin1': \"state\"}, inplace=True)\n",
    "df.rename(columns={'admin2': \"lga\"}, inplace=True)"
   ]
  },
  {
   "cell_type": "code",
   "execution_count": 11,
   "id": "b86ec84f",
   "metadata": {},
   "outputs": [
    {
     "data": {
      "text/plain": [
       "Index(['date', 'state', 'lga', 'market', 'latitude', 'longitude', 'category',\n",
       "       'commodity', 'unit', 'priceflag', 'pricetype', 'currency', 'price',\n",
       "       'usdprice'],\n",
       "      dtype='object')"
      ]
     },
     "execution_count": 11,
     "metadata": {},
     "output_type": "execute_result"
    }
   ],
   "source": [
    "df.columns"
   ]
  },
  {
   "cell_type": "code",
   "execution_count": 12,
   "id": "102564b1",
   "metadata": {},
   "outputs": [
    {
     "data": {
      "text/html": [
       "<div>\n",
       "<style scoped>\n",
       "    .dataframe tbody tr th:only-of-type {\n",
       "        vertical-align: middle;\n",
       "    }\n",
       "\n",
       "    .dataframe tbody tr th {\n",
       "        vertical-align: top;\n",
       "    }\n",
       "\n",
       "    .dataframe thead th {\n",
       "        text-align: right;\n",
       "    }\n",
       "</style>\n",
       "<table border=\"1\" class=\"dataframe\">\n",
       "  <thead>\n",
       "    <tr style=\"text-align: right;\">\n",
       "      <th></th>\n",
       "      <th>date</th>\n",
       "      <th>state</th>\n",
       "      <th>lga</th>\n",
       "      <th>market</th>\n",
       "      <th>latitude</th>\n",
       "      <th>longitude</th>\n",
       "      <th>category</th>\n",
       "      <th>commodity</th>\n",
       "      <th>unit</th>\n",
       "      <th>priceflag</th>\n",
       "      <th>pricetype</th>\n",
       "      <th>currency</th>\n",
       "      <th>price</th>\n",
       "      <th>usdprice</th>\n",
       "    </tr>\n",
       "  </thead>\n",
       "  <tbody>\n",
       "    <tr>\n",
       "      <th>0</th>\n",
       "      <td>2002-01-15</td>\n",
       "      <td>Katsina</td>\n",
       "      <td>Jibia</td>\n",
       "      <td>Jibia (CBM)</td>\n",
       "      <td>13.08</td>\n",
       "      <td>7.24</td>\n",
       "      <td>cereals and tubers</td>\n",
       "      <td>Maize</td>\n",
       "      <td>KG</td>\n",
       "      <td>actual</td>\n",
       "      <td>Wholesale</td>\n",
       "      <td>NGN</td>\n",
       "      <td>175.92</td>\n",
       "      <td>1.5525</td>\n",
       "    </tr>\n",
       "    <tr>\n",
       "      <th>1</th>\n",
       "      <td>2002-01-15</td>\n",
       "      <td>Katsina</td>\n",
       "      <td>Jibia</td>\n",
       "      <td>Jibia (CBM)</td>\n",
       "      <td>13.08</td>\n",
       "      <td>7.24</td>\n",
       "      <td>cereals and tubers</td>\n",
       "      <td>Millet</td>\n",
       "      <td>KG</td>\n",
       "      <td>actual</td>\n",
       "      <td>Wholesale</td>\n",
       "      <td>NGN</td>\n",
       "      <td>150.18</td>\n",
       "      <td>1.3254</td>\n",
       "    </tr>\n",
       "    <tr>\n",
       "      <th>2</th>\n",
       "      <td>2002-01-15</td>\n",
       "      <td>Katsina</td>\n",
       "      <td>Jibia</td>\n",
       "      <td>Jibia (CBM)</td>\n",
       "      <td>13.08</td>\n",
       "      <td>7.24</td>\n",
       "      <td>cereals and tubers</td>\n",
       "      <td>Rice (imported)</td>\n",
       "      <td>KG</td>\n",
       "      <td>actual</td>\n",
       "      <td>Wholesale</td>\n",
       "      <td>NGN</td>\n",
       "      <td>358.7</td>\n",
       "      <td>3.1656</td>\n",
       "    </tr>\n",
       "    <tr>\n",
       "      <th>3</th>\n",
       "      <td>2002-01-15</td>\n",
       "      <td>Katsina</td>\n",
       "      <td>Jibia</td>\n",
       "      <td>Jibia (CBM)</td>\n",
       "      <td>13.08</td>\n",
       "      <td>7.24</td>\n",
       "      <td>cereals and tubers</td>\n",
       "      <td>Sorghum</td>\n",
       "      <td>KG</td>\n",
       "      <td>actual</td>\n",
       "      <td>Wholesale</td>\n",
       "      <td>NGN</td>\n",
       "      <td>155.61</td>\n",
       "      <td>1.3733</td>\n",
       "    </tr>\n",
       "    <tr>\n",
       "      <th>4</th>\n",
       "      <td>2002-01-15</td>\n",
       "      <td>Katsina</td>\n",
       "      <td>Jibia</td>\n",
       "      <td>Jibia (CBM)</td>\n",
       "      <td>13.08</td>\n",
       "      <td>7.24</td>\n",
       "      <td>pulses and nuts</td>\n",
       "      <td>Beans (niebe)</td>\n",
       "      <td>KG</td>\n",
       "      <td>actual</td>\n",
       "      <td>Wholesale</td>\n",
       "      <td>NGN</td>\n",
       "      <td>196.87</td>\n",
       "      <td>1.7374</td>\n",
       "    </tr>\n",
       "  </tbody>\n",
       "</table>\n",
       "</div>"
      ],
      "text/plain": [
       "         date    state    lga       market latitude longitude  \\\n",
       "0  2002-01-15  Katsina  Jibia  Jibia (CBM)    13.08      7.24   \n",
       "1  2002-01-15  Katsina  Jibia  Jibia (CBM)    13.08      7.24   \n",
       "2  2002-01-15  Katsina  Jibia  Jibia (CBM)    13.08      7.24   \n",
       "3  2002-01-15  Katsina  Jibia  Jibia (CBM)    13.08      7.24   \n",
       "4  2002-01-15  Katsina  Jibia  Jibia (CBM)    13.08      7.24   \n",
       "\n",
       "             category        commodity unit priceflag  pricetype currency  \\\n",
       "0  cereals and tubers            Maize   KG    actual  Wholesale      NGN   \n",
       "1  cereals and tubers           Millet   KG    actual  Wholesale      NGN   \n",
       "2  cereals and tubers  Rice (imported)   KG    actual  Wholesale      NGN   \n",
       "3  cereals and tubers          Sorghum   KG    actual  Wholesale      NGN   \n",
       "4     pulses and nuts    Beans (niebe)   KG    actual  Wholesale      NGN   \n",
       "\n",
       "    price usdprice  \n",
       "0  175.92   1.5525  \n",
       "1  150.18   1.3254  \n",
       "2   358.7   3.1656  \n",
       "3  155.61   1.3733  \n",
       "4  196.87   1.7374  "
      ]
     },
     "execution_count": 12,
     "metadata": {},
     "output_type": "execute_result"
    }
   ],
   "source": [
    "df.head()"
   ]
  },
  {
   "cell_type": "code",
   "execution_count": 13,
   "id": "e2dde160",
   "metadata": {},
   "outputs": [
    {
     "name": "stdout",
     "output_type": "stream",
     "text": [
      "<class 'pandas.core.frame.DataFrame'>\n",
      "RangeIndex: 74421 entries, 0 to 74420\n",
      "Data columns (total 14 columns):\n",
      " #   Column     Non-Null Count  Dtype \n",
      "---  ------     --------------  ----- \n",
      " 0   date       74421 non-null  object\n",
      " 1   state      74421 non-null  object\n",
      " 2   lga        74421 non-null  object\n",
      " 3   market     74421 non-null  object\n",
      " 4   latitude   74421 non-null  object\n",
      " 5   longitude  74421 non-null  object\n",
      " 6   category   74421 non-null  object\n",
      " 7   commodity  74421 non-null  object\n",
      " 8   unit       74421 non-null  object\n",
      " 9   priceflag  74421 non-null  object\n",
      " 10  pricetype  74421 non-null  object\n",
      " 11  currency   74421 non-null  object\n",
      " 12  price      74421 non-null  object\n",
      " 13  usdprice   74421 non-null  object\n",
      "dtypes: object(14)\n",
      "memory usage: 7.9+ MB\n"
     ]
    }
   ],
   "source": [
    "df.info()"
   ]
  },
  {
   "cell_type": "markdown",
   "id": "def22191",
   "metadata": {},
   "source": [
    "###### Convert date to datetime"
   ]
  },
  {
   "cell_type": "code",
   "execution_count": 14,
   "id": "4aa22473",
   "metadata": {},
   "outputs": [],
   "source": [
    "df[\"date\"] = pd.to_datetime(df['date'])\n",
    "\n",
    "df['month']=df['date'].dt.month\n",
    "df['day']=df['date'].dt.day\n",
    "df['year'] = df['date'].dt.year"
   ]
  },
  {
   "cell_type": "code",
   "execution_count": 15,
   "id": "114959ed",
   "metadata": {},
   "outputs": [
    {
     "data": {
      "text/html": [
       "<div>\n",
       "<style scoped>\n",
       "    .dataframe tbody tr th:only-of-type {\n",
       "        vertical-align: middle;\n",
       "    }\n",
       "\n",
       "    .dataframe tbody tr th {\n",
       "        vertical-align: top;\n",
       "    }\n",
       "\n",
       "    .dataframe thead th {\n",
       "        text-align: right;\n",
       "    }\n",
       "</style>\n",
       "<table border=\"1\" class=\"dataframe\">\n",
       "  <thead>\n",
       "    <tr style=\"text-align: right;\">\n",
       "      <th></th>\n",
       "      <th>date</th>\n",
       "      <th>state</th>\n",
       "      <th>lga</th>\n",
       "      <th>market</th>\n",
       "      <th>latitude</th>\n",
       "      <th>longitude</th>\n",
       "      <th>category</th>\n",
       "      <th>commodity</th>\n",
       "      <th>unit</th>\n",
       "      <th>priceflag</th>\n",
       "      <th>pricetype</th>\n",
       "      <th>currency</th>\n",
       "      <th>price</th>\n",
       "      <th>usdprice</th>\n",
       "      <th>month</th>\n",
       "      <th>day</th>\n",
       "      <th>year</th>\n",
       "    </tr>\n",
       "  </thead>\n",
       "  <tbody>\n",
       "    <tr>\n",
       "      <th>0</th>\n",
       "      <td>2002-01-15</td>\n",
       "      <td>Katsina</td>\n",
       "      <td>Jibia</td>\n",
       "      <td>Jibia (CBM)</td>\n",
       "      <td>13.08</td>\n",
       "      <td>7.24</td>\n",
       "      <td>cereals and tubers</td>\n",
       "      <td>Maize</td>\n",
       "      <td>KG</td>\n",
       "      <td>actual</td>\n",
       "      <td>Wholesale</td>\n",
       "      <td>NGN</td>\n",
       "      <td>175.92</td>\n",
       "      <td>1.5525</td>\n",
       "      <td>1</td>\n",
       "      <td>15</td>\n",
       "      <td>2002</td>\n",
       "    </tr>\n",
       "    <tr>\n",
       "      <th>1</th>\n",
       "      <td>2002-01-15</td>\n",
       "      <td>Katsina</td>\n",
       "      <td>Jibia</td>\n",
       "      <td>Jibia (CBM)</td>\n",
       "      <td>13.08</td>\n",
       "      <td>7.24</td>\n",
       "      <td>cereals and tubers</td>\n",
       "      <td>Millet</td>\n",
       "      <td>KG</td>\n",
       "      <td>actual</td>\n",
       "      <td>Wholesale</td>\n",
       "      <td>NGN</td>\n",
       "      <td>150.18</td>\n",
       "      <td>1.3254</td>\n",
       "      <td>1</td>\n",
       "      <td>15</td>\n",
       "      <td>2002</td>\n",
       "    </tr>\n",
       "    <tr>\n",
       "      <th>2</th>\n",
       "      <td>2002-01-15</td>\n",
       "      <td>Katsina</td>\n",
       "      <td>Jibia</td>\n",
       "      <td>Jibia (CBM)</td>\n",
       "      <td>13.08</td>\n",
       "      <td>7.24</td>\n",
       "      <td>cereals and tubers</td>\n",
       "      <td>Rice (imported)</td>\n",
       "      <td>KG</td>\n",
       "      <td>actual</td>\n",
       "      <td>Wholesale</td>\n",
       "      <td>NGN</td>\n",
       "      <td>358.7</td>\n",
       "      <td>3.1656</td>\n",
       "      <td>1</td>\n",
       "      <td>15</td>\n",
       "      <td>2002</td>\n",
       "    </tr>\n",
       "    <tr>\n",
       "      <th>3</th>\n",
       "      <td>2002-01-15</td>\n",
       "      <td>Katsina</td>\n",
       "      <td>Jibia</td>\n",
       "      <td>Jibia (CBM)</td>\n",
       "      <td>13.08</td>\n",
       "      <td>7.24</td>\n",
       "      <td>cereals and tubers</td>\n",
       "      <td>Sorghum</td>\n",
       "      <td>KG</td>\n",
       "      <td>actual</td>\n",
       "      <td>Wholesale</td>\n",
       "      <td>NGN</td>\n",
       "      <td>155.61</td>\n",
       "      <td>1.3733</td>\n",
       "      <td>1</td>\n",
       "      <td>15</td>\n",
       "      <td>2002</td>\n",
       "    </tr>\n",
       "    <tr>\n",
       "      <th>4</th>\n",
       "      <td>2002-01-15</td>\n",
       "      <td>Katsina</td>\n",
       "      <td>Jibia</td>\n",
       "      <td>Jibia (CBM)</td>\n",
       "      <td>13.08</td>\n",
       "      <td>7.24</td>\n",
       "      <td>pulses and nuts</td>\n",
       "      <td>Beans (niebe)</td>\n",
       "      <td>KG</td>\n",
       "      <td>actual</td>\n",
       "      <td>Wholesale</td>\n",
       "      <td>NGN</td>\n",
       "      <td>196.87</td>\n",
       "      <td>1.7374</td>\n",
       "      <td>1</td>\n",
       "      <td>15</td>\n",
       "      <td>2002</td>\n",
       "    </tr>\n",
       "  </tbody>\n",
       "</table>\n",
       "</div>"
      ],
      "text/plain": [
       "        date    state    lga       market latitude longitude  \\\n",
       "0 2002-01-15  Katsina  Jibia  Jibia (CBM)    13.08      7.24   \n",
       "1 2002-01-15  Katsina  Jibia  Jibia (CBM)    13.08      7.24   \n",
       "2 2002-01-15  Katsina  Jibia  Jibia (CBM)    13.08      7.24   \n",
       "3 2002-01-15  Katsina  Jibia  Jibia (CBM)    13.08      7.24   \n",
       "4 2002-01-15  Katsina  Jibia  Jibia (CBM)    13.08      7.24   \n",
       "\n",
       "             category        commodity unit priceflag  pricetype currency  \\\n",
       "0  cereals and tubers            Maize   KG    actual  Wholesale      NGN   \n",
       "1  cereals and tubers           Millet   KG    actual  Wholesale      NGN   \n",
       "2  cereals and tubers  Rice (imported)   KG    actual  Wholesale      NGN   \n",
       "3  cereals and tubers          Sorghum   KG    actual  Wholesale      NGN   \n",
       "4     pulses and nuts    Beans (niebe)   KG    actual  Wholesale      NGN   \n",
       "\n",
       "    price usdprice  month  day  year  \n",
       "0  175.92   1.5525      1   15  2002  \n",
       "1  150.18   1.3254      1   15  2002  \n",
       "2   358.7   3.1656      1   15  2002  \n",
       "3  155.61   1.3733      1   15  2002  \n",
       "4  196.87   1.7374      1   15  2002  "
      ]
     },
     "execution_count": 15,
     "metadata": {},
     "output_type": "execute_result"
    }
   ],
   "source": [
    "df.head()"
   ]
  },
  {
   "cell_type": "code",
   "execution_count": 16,
   "id": "f3ba6777",
   "metadata": {},
   "outputs": [],
   "source": [
    "df['month'] = df['month'].replace({ 1: 'January', 2 : 'February' , 3 : 'March', 4: 'April', 5 : 'May', 6 : 'June', 7 :'July', 8 : 'August', 9: 'September', 10 : 'October', 11 : 'November', 12 : 'December'})"
   ]
  },
  {
   "cell_type": "code",
   "execution_count": 17,
   "id": "887b97e2",
   "metadata": {},
   "outputs": [
    {
     "data": {
      "text/html": [
       "<div>\n",
       "<style scoped>\n",
       "    .dataframe tbody tr th:only-of-type {\n",
       "        vertical-align: middle;\n",
       "    }\n",
       "\n",
       "    .dataframe tbody tr th {\n",
       "        vertical-align: top;\n",
       "    }\n",
       "\n",
       "    .dataframe thead th {\n",
       "        text-align: right;\n",
       "    }\n",
       "</style>\n",
       "<table border=\"1\" class=\"dataframe\">\n",
       "  <thead>\n",
       "    <tr style=\"text-align: right;\">\n",
       "      <th></th>\n",
       "      <th>date</th>\n",
       "      <th>state</th>\n",
       "      <th>lga</th>\n",
       "      <th>market</th>\n",
       "      <th>latitude</th>\n",
       "      <th>longitude</th>\n",
       "      <th>category</th>\n",
       "      <th>commodity</th>\n",
       "      <th>unit</th>\n",
       "      <th>priceflag</th>\n",
       "      <th>pricetype</th>\n",
       "      <th>currency</th>\n",
       "      <th>price</th>\n",
       "      <th>usdprice</th>\n",
       "      <th>month</th>\n",
       "      <th>day</th>\n",
       "      <th>year</th>\n",
       "    </tr>\n",
       "  </thead>\n",
       "  <tbody>\n",
       "    <tr>\n",
       "      <th>0</th>\n",
       "      <td>2002-01-15</td>\n",
       "      <td>Katsina</td>\n",
       "      <td>Jibia</td>\n",
       "      <td>Jibia (CBM)</td>\n",
       "      <td>13.08</td>\n",
       "      <td>7.24</td>\n",
       "      <td>cereals and tubers</td>\n",
       "      <td>Maize</td>\n",
       "      <td>KG</td>\n",
       "      <td>actual</td>\n",
       "      <td>Wholesale</td>\n",
       "      <td>NGN</td>\n",
       "      <td>175.92</td>\n",
       "      <td>1.5525</td>\n",
       "      <td>January</td>\n",
       "      <td>15</td>\n",
       "      <td>2002</td>\n",
       "    </tr>\n",
       "    <tr>\n",
       "      <th>1</th>\n",
       "      <td>2002-01-15</td>\n",
       "      <td>Katsina</td>\n",
       "      <td>Jibia</td>\n",
       "      <td>Jibia (CBM)</td>\n",
       "      <td>13.08</td>\n",
       "      <td>7.24</td>\n",
       "      <td>cereals and tubers</td>\n",
       "      <td>Millet</td>\n",
       "      <td>KG</td>\n",
       "      <td>actual</td>\n",
       "      <td>Wholesale</td>\n",
       "      <td>NGN</td>\n",
       "      <td>150.18</td>\n",
       "      <td>1.3254</td>\n",
       "      <td>January</td>\n",
       "      <td>15</td>\n",
       "      <td>2002</td>\n",
       "    </tr>\n",
       "    <tr>\n",
       "      <th>2</th>\n",
       "      <td>2002-01-15</td>\n",
       "      <td>Katsina</td>\n",
       "      <td>Jibia</td>\n",
       "      <td>Jibia (CBM)</td>\n",
       "      <td>13.08</td>\n",
       "      <td>7.24</td>\n",
       "      <td>cereals and tubers</td>\n",
       "      <td>Rice (imported)</td>\n",
       "      <td>KG</td>\n",
       "      <td>actual</td>\n",
       "      <td>Wholesale</td>\n",
       "      <td>NGN</td>\n",
       "      <td>358.7</td>\n",
       "      <td>3.1656</td>\n",
       "      <td>January</td>\n",
       "      <td>15</td>\n",
       "      <td>2002</td>\n",
       "    </tr>\n",
       "    <tr>\n",
       "      <th>3</th>\n",
       "      <td>2002-01-15</td>\n",
       "      <td>Katsina</td>\n",
       "      <td>Jibia</td>\n",
       "      <td>Jibia (CBM)</td>\n",
       "      <td>13.08</td>\n",
       "      <td>7.24</td>\n",
       "      <td>cereals and tubers</td>\n",
       "      <td>Sorghum</td>\n",
       "      <td>KG</td>\n",
       "      <td>actual</td>\n",
       "      <td>Wholesale</td>\n",
       "      <td>NGN</td>\n",
       "      <td>155.61</td>\n",
       "      <td>1.3733</td>\n",
       "      <td>January</td>\n",
       "      <td>15</td>\n",
       "      <td>2002</td>\n",
       "    </tr>\n",
       "    <tr>\n",
       "      <th>4</th>\n",
       "      <td>2002-01-15</td>\n",
       "      <td>Katsina</td>\n",
       "      <td>Jibia</td>\n",
       "      <td>Jibia (CBM)</td>\n",
       "      <td>13.08</td>\n",
       "      <td>7.24</td>\n",
       "      <td>pulses and nuts</td>\n",
       "      <td>Beans (niebe)</td>\n",
       "      <td>KG</td>\n",
       "      <td>actual</td>\n",
       "      <td>Wholesale</td>\n",
       "      <td>NGN</td>\n",
       "      <td>196.87</td>\n",
       "      <td>1.7374</td>\n",
       "      <td>January</td>\n",
       "      <td>15</td>\n",
       "      <td>2002</td>\n",
       "    </tr>\n",
       "  </tbody>\n",
       "</table>\n",
       "</div>"
      ],
      "text/plain": [
       "        date    state    lga       market latitude longitude  \\\n",
       "0 2002-01-15  Katsina  Jibia  Jibia (CBM)    13.08      7.24   \n",
       "1 2002-01-15  Katsina  Jibia  Jibia (CBM)    13.08      7.24   \n",
       "2 2002-01-15  Katsina  Jibia  Jibia (CBM)    13.08      7.24   \n",
       "3 2002-01-15  Katsina  Jibia  Jibia (CBM)    13.08      7.24   \n",
       "4 2002-01-15  Katsina  Jibia  Jibia (CBM)    13.08      7.24   \n",
       "\n",
       "             category        commodity unit priceflag  pricetype currency  \\\n",
       "0  cereals and tubers            Maize   KG    actual  Wholesale      NGN   \n",
       "1  cereals and tubers           Millet   KG    actual  Wholesale      NGN   \n",
       "2  cereals and tubers  Rice (imported)   KG    actual  Wholesale      NGN   \n",
       "3  cereals and tubers          Sorghum   KG    actual  Wholesale      NGN   \n",
       "4     pulses and nuts    Beans (niebe)   KG    actual  Wholesale      NGN   \n",
       "\n",
       "    price usdprice    month  day  year  \n",
       "0  175.92   1.5525  January   15  2002  \n",
       "1  150.18   1.3254  January   15  2002  \n",
       "2   358.7   3.1656  January   15  2002  \n",
       "3  155.61   1.3733  January   15  2002  \n",
       "4  196.87   1.7374  January   15  2002  "
      ]
     },
     "execution_count": 17,
     "metadata": {},
     "output_type": "execute_result"
    }
   ],
   "source": [
    "df.head()"
   ]
  },
  {
   "cell_type": "markdown",
   "id": "de2c06a5",
   "metadata": {},
   "source": [
    "#### Export the Clean Data"
   ]
  },
  {
   "cell_type": "code",
   "execution_count": 19,
   "id": "45bb889d",
   "metadata": {},
   "outputs": [],
   "source": [
    "# Export current tmp dataframe\n",
    "df.to_csv(\"data/df_clean.csv\" , index=False)"
   ]
  },
  {
   "cell_type": "markdown",
   "id": "b9906dc5",
   "metadata": {},
   "source": [
    "#### import the Clean Data"
   ]
  },
  {
   "cell_type": "code",
   "execution_count": 22,
   "id": "cedb606f",
   "metadata": {},
   "outputs": [],
   "source": [
    "df_clean = pd.read_csv(\"data/df_clean.csv\")"
   ]
  },
  {
   "cell_type": "code",
   "execution_count": 23,
   "id": "3dffaf1b",
   "metadata": {},
   "outputs": [
    {
     "ename": "NameError",
     "evalue": "name 'df_clen' is not defined",
     "output_type": "error",
     "traceback": [
      "\u001b[1;31m---------------------------------------------------------------------------\u001b[0m",
      "\u001b[1;31mNameError\u001b[0m                                 Traceback (most recent call last)",
      "\u001b[1;32m~\\AppData\\Local\\Temp/ipykernel_15180/669586361.py\u001b[0m in \u001b[0;36m<module>\u001b[1;34m\u001b[0m\n\u001b[1;32m----> 1\u001b[1;33m \u001b[0mdf_clen\u001b[0m\u001b[1;33m.\u001b[0m\u001b[0mhead\u001b[0m\u001b[1;33m(\u001b[0m\u001b[1;33m)\u001b[0m\u001b[1;33m\u001b[0m\u001b[1;33m\u001b[0m\u001b[0m\n\u001b[0m",
      "\u001b[1;31mNameError\u001b[0m: name 'df_clen' is not defined"
     ]
    }
   ],
   "source": [
    "df_clen.head()"
   ]
  },
  {
   "cell_type": "code",
   "execution_count": 159,
   "id": "3b93c887",
   "metadata": {},
   "outputs": [
    {
     "data": {
      "text/plain": [
       "array(['January', 'February', 'March', 'April', 'May', 'June', 'July',\n",
       "       'August', 'September', 'October', 'November', 'December'],\n",
       "      dtype=object)"
      ]
     },
     "execution_count": 159,
     "metadata": {},
     "output_type": "execute_result"
    }
   ],
   "source": [
    "df['month'].unique()"
   ]
  },
  {
   "cell_type": "code",
   "execution_count": 160,
   "id": "2ad2b88c",
   "metadata": {},
   "outputs": [
    {
     "data": {
      "text/plain": [
       "February     6777\n",
       "May          6627\n",
       "March        6551\n",
       "January      6393\n",
       "October      6350\n",
       "April        6294\n",
       "December     6283\n",
       "November     6220\n",
       "June         6078\n",
       "September    5924\n",
       "July         5487\n",
       "August       5437\n",
       "Name: month, dtype: int64"
      ]
     },
     "execution_count": 160,
     "metadata": {},
     "output_type": "execute_result"
    }
   ],
   "source": [
    "df['month'].value_counts()"
   ]
  },
  {
   "cell_type": "code",
   "execution_count": 175,
   "id": "4d38cdb8",
   "metadata": {},
   "outputs": [
    {
     "data": {
      "image/png": "[encoded data removed]",
      "text/plain": [
       "<Figure size 432x288 with 1 Axes>"
      ]
     },
     "metadata": {
      "needs_background": "light"
     },
     "output_type": "display_data"
    }
   ],
   "source": [
    "import matplotlib.pyplot as plt\n",
    "import pandas as pd\n",
    "\n",
    "# Sample data\n",
    "data = df['month']\n",
    "\n",
    "# Count occurrences of each category\n",
    "category_counts = pd.Series(data).value_counts()\n",
    "\n",
    "# Define colors for the bars\n",
    "colors = ['red', 'green', 'blue', 'orange']\n",
    "# Create the horizontal bar plot\n",
    "plt.barh(category_counts.index, category_counts.values)\n",
    "\n",
    "# Add labels and title\n",
    "plt.xlabel('Count')\n",
    "plt.ylabel('Categories')\n",
    "plt.title('Horizontal Bar Graph')\n",
    "\n",
    "# Display the plot\n",
    "plt.show()\n"
   ]
  },
  {
   "cell_type": "code",
   "execution_count": 173,
   "id": "f5a41676",
   "metadata": {},
   "outputs": [
    {
     "data": {
      "image/png": "[encoded data removed]",
      "text/plain": [
       "<Figure size 432x288 with 1 Axes>"
      ]
     },
     "metadata": {
      "needs_background": "light"
     },
     "output_type": "display_data"
    }
   ],
   "source": [
    "import matplotlib.pyplot as plt\n",
    "import pandas as pd\n",
    "\n",
    "# Sample data\n",
    "data = ['Category A', 'Category B', 'Category C', 'Category D']\n",
    "\n",
    "# Count occurrences of each category\n",
    "category_counts = pd.Series(data).value_counts()\n",
    "\n",
    "# Define colors for the bars\n",
    "colors = ['red', 'green', 'blue', 'orange']\n",
    "\n",
    "# Create the horizontal bar plot with colors\n",
    "plt.barh(category_counts.index, category_counts.values, color=colors)\n",
    "\n",
    "# Add labels and title\n",
    "plt.xlabel('Count')\n",
    "plt.ylabel('Categories')\n",
    "plt.title('Horizontal Bar Graph')\n",
    "\n",
    "# Display the plot\n",
    "plt.show()\n"
   ]
  },
  {
   "cell_type": "code",
   "execution_count": 168,
   "id": "d0a2de9e",
   "metadata": {},
   "outputs": [
    {
     "data": {
      "text/plain": [
       "<AxesSubplot:xlabel='month', ylabel='count'>"
      ]
     },
     "execution_count": 168,
     "metadata": {},
     "output_type": "execute_result"
    },
    {
     "data": {
      "image/png": "[encoded data removed]",
      "text/plain": [
       "<Figure size 432x288 with 1 Axes>"
      ]
     },
     "metadata": {
      "needs_background": "light"
     },
     "output_type": "display_data"
    }
   ],
   "source": [
    "sns.countplot(x=\"month\", data=df)"
   ]
  },
  {
   "cell_type": "code",
   "execution_count": 172,
   "id": "10ca028f",
   "metadata": {},
   "outputs": [
    {
     "data": {
      "text/plain": [
       "<AxesSubplot:ylabel='month'>"
      ]
     },
     "execution_count": 172,
     "metadata": {},
     "output_type": "execute_result"
    },
    {
     "data": {
      "image/png": "[encoded data removed]",
      "text/plain": [
       "<Figure size 432x288 with 1 Axes>"
      ]
     },
     "metadata": {},
     "output_type": "display_data"
    }
   ],
   "source": [
    "df['month'].value_counts().plot(kind='pie',autopct='%1.1f%%')"
   ]
  },
  {
   "cell_type": "code",
   "execution_count": 121,
   "id": "71890c0a",
   "metadata": {},
   "outputs": [
    {
     "data": {
      "text/plain": [
       "array([2002, 2003, 2004, 2005, 2006, 2007, 2008, 2009, 2010, 2011, 2012,\n",
       "       2013, 2014, 2015, 2016, 2017, 2018, 2019, 2020, 2021, 2022, 2023],\n",
       "      dtype=int64)"
      ]
     },
     "execution_count": 121,
     "metadata": {},
     "output_type": "execute_result"
    }
   ],
   "source": [
    "df['year'].unique()"
   ]
  },
  {
   "cell_type": "code",
   "execution_count": 122,
   "id": "147784b0",
   "metadata": {},
   "outputs": [
    {
     "data": {
      "text/plain": [
       "2021    13414\n",
       "2022    12565\n",
       "2020     9655\n",
       "2019     9054\n",
       "2018     7990\n",
       "2017     7355\n",
       "2016     4296\n",
       "2023     3222\n",
       "2015     3064\n",
       "2014     1464\n",
       "2013      401\n",
       "2012      320\n",
       "2010      267\n",
       "2011      264\n",
       "2008      214\n",
       "2009      191\n",
       "2005      186\n",
       "2003      171\n",
       "2002      120\n",
       "2006       99\n",
       "2007       74\n",
       "2004       34\n",
       "Name: year, dtype: int64"
      ]
     },
     "execution_count": 122,
     "metadata": {},
     "output_type": "execute_result"
    }
   ],
   "source": [
    "df['year'].value_counts()"
   ]
  },
  {
   "cell_type": "code",
   "execution_count": 123,
   "id": "5941aec5",
   "metadata": {},
   "outputs": [
    {
     "data": {
      "text/plain": [
       "<AxesSubplot:xlabel='year', ylabel='count'>"
      ]
     },
     "execution_count": 123,
     "metadata": {},
     "output_type": "execute_result"
    },
    {
     "data": {
      "image/png": "[encoded data removed]",
      "text/plain": [
       "<Figure size 432x288 with 1 Axes>"
      ]
     },
     "metadata": {
      "needs_background": "light"
     },
     "output_type": "display_data"
    }
   ],
   "source": [
    "sns.countplot(x=\"year\", data=df)"
   ]
  },
  {
   "cell_type": "code",
   "execution_count": 124,
   "id": "c8926089",
   "metadata": {},
   "outputs": [
    {
     "data": {
      "text/plain": [
       "<AxesSubplot:ylabel='year'>"
      ]
     },
     "execution_count": 124,
     "metadata": {},
     "output_type": "execute_result"
    },
    {
     "data": {
      "image/png": "[encoded data removed]",
      "text/plain": [
       "<Figure size 432x288 with 1 Axes>"
      ]
     },
     "metadata": {},
     "output_type": "display_data"
    }
   ],
   "source": [
    "df['year'].value_counts().plot(kind='pie',autopct='%1.1f%%')"
   ]
  },
  {
   "cell_type": "code",
   "execution_count": null,
   "id": "2a6b0d6c",
   "metadata": {},
   "outputs": [],
   "source": []
  },
  {
   "cell_type": "code",
   "execution_count": null,
   "id": "a0794ace",
   "metadata": {},
   "outputs": [],
   "source": []
  },
  {
   "cell_type": "code",
   "execution_count": 95,
   "id": "e4040e8a",
   "metadata": {},
   "outputs": [
    {
     "data": {
      "text/plain": [
       "array(['Katsina', 'Sokoto', 'Borno', 'Kano', 'Jigawa', 'Oyo', 'Lagos',\n",
       "       'Kaduna', 'Zamfara', 'Abia', 'Gombe', 'Kebbi', 'Adamawa', 'Yobe'],\n",
       "      dtype=object)"
      ]
     },
     "execution_count": 95,
     "metadata": {},
     "output_type": "execute_result"
    }
   ],
   "source": [
    "df['state'].unique()"
   ]
  },
  {
   "cell_type": "code",
   "execution_count": 96,
   "id": "7eaeb21f",
   "metadata": {},
   "outputs": [
    {
     "data": {
      "text/plain": [
       "Yobe       22753\n",
       "Borno      19388\n",
       "Kaduna      4847\n",
       "Katsina     3638\n",
       "Kano        2956\n",
       "Oyo         2837\n",
       "Jigawa      2734\n",
       "Zamfara     2716\n",
       "Kebbi       2702\n",
       "Gombe       2699\n",
       "Lagos       2556\n",
       "Adamawa     2359\n",
       "Abia        1602\n",
       "Sokoto       633\n",
       "Name: state, dtype: int64"
      ]
     },
     "execution_count": 96,
     "metadata": {},
     "output_type": "execute_result"
    }
   ],
   "source": [
    "df['state'].value_counts()"
   ]
  },
  {
   "cell_type": "code",
   "execution_count": 97,
   "id": "b60dc594",
   "metadata": {},
   "outputs": [
    {
     "data": {
      "text/plain": [
       "<AxesSubplot:xlabel='state', ylabel='count'>"
      ]
     },
     "execution_count": 97,
     "metadata": {},
     "output_type": "execute_result"
    },
    {
     "data": {
      "image/png": "[encoded data removed]",
      "text/plain": [
       "<Figure size 432x288 with 1 Axes>"
      ]
     },
     "metadata": {
      "needs_background": "light"
     },
     "output_type": "display_data"
    }
   ],
   "source": [
    "sns.countplot(x=\"state\", data=df)"
   ]
  },
  {
   "cell_type": "code",
   "execution_count": 98,
   "id": "f7d1c3c3",
   "metadata": {},
   "outputs": [
    {
     "data": {
      "text/plain": [
       "<AxesSubplot:ylabel='state'>"
      ]
     },
     "execution_count": 98,
     "metadata": {},
     "output_type": "execute_result"
    },
    {
     "data": {
      "image/png": "[encoded data removed]",
      "text/plain": [
       "<Figure size 432x288 with 1 Axes>"
      ]
     },
     "metadata": {},
     "output_type": "display_data"
    }
   ],
   "source": [
    "df['state'].value_counts().plot(kind='pie',autopct='%1.1f%%')"
   ]
  },
  {
   "cell_type": "code",
   "execution_count": 99,
   "id": "f9de5a9c",
   "metadata": {},
   "outputs": [
    {
     "data": {
      "text/plain": [
       "array(['Jibia (CBM)', 'Illela (CBM)', 'Mai Adoua (CBM)',\n",
       "       'Damassack (CBM)', 'Dawanau', 'Mai Gatari (CBM)', 'Ibadan',\n",
       "       'Maiduguri', 'Lagos', 'Giwa', 'Kaura Namoda', 'Aba', 'Gombe',\n",
       "       'Gujungu', 'Saminaka', 'Dandume', 'Gwandu', 'Mubi', 'Biu',\n",
       "       'Damaturu', 'Potiskum', 'Abba Gamaram', 'Baga Road', 'Bullunkutu',\n",
       "       'Budum', 'Custom', 'Kusawam Shanu', 'Monday', 'Tashan Bama',\n",
       "       'Bolori Stores', 'Damaturu (Sunday Market)', 'Geidam',\n",
       "       'Gujba (Buni Yadi)', 'Jakusko', 'Bade (Gashua)', 'Nguru',\n",
       "       'Yunusari', 'Yusufari', 'Bursari', 'Gulani (Tettaba)'],\n",
       "      dtype=object)"
      ]
     },
     "execution_count": 99,
     "metadata": {},
     "output_type": "execute_result"
    }
   ],
   "source": [
    "df['market'].unique()"
   ]
  },
  {
   "cell_type": "code",
   "execution_count": 162,
   "id": "679e4f6a",
   "metadata": {},
   "outputs": [
    {
     "data": {
      "image/png": "[encoded data removed]",
      "text/plain": [
       "<Figure size 432x288 with 1 Axes>"
      ]
     },
     "metadata": {
      "needs_background": "light"
     },
     "output_type": "display_data"
    }
   ],
   "source": [
    "import matplotlib.pyplot as plt\n",
    "\n",
    "# Sample data\n",
    "categories = ['Category A', 'Category B', 'Category C', 'Category D']\n",
    "values = [25, 40, 30, 35]\n",
    "\n",
    "# Create the horizontal bar plot\n",
    "plt.barh(categories, values)\n",
    "\n",
    "# Add labels and title\n",
    "plt.xlabel('Count')\n",
    "plt.ylabel('Categories')\n",
    "plt.title('Horizontal Bar Graph')\n",
    "\n",
    "# Display the plot\n",
    "plt.show()\n"
   ]
  },
  {
   "cell_type": "code",
   "execution_count": 100,
   "id": "a91cf7d9",
   "metadata": {},
   "outputs": [
    {
     "data": {
      "text/plain": [
       "Potiskum                    3888\n",
       "Dawanau                     2956\n",
       "Ibadan                      2837\n",
       "Maiduguri                   2766\n",
       "Kaura Namoda                2716\n",
       "Gwandu                      2702\n",
       "Gombe                       2699\n",
       "Lagos                       2556\n",
       "Damaturu                    2548\n",
       "Dandume                     2529\n",
       "Giwa                        2499\n",
       "Biu                         2452\n",
       "Gujungu                     2385\n",
       "Mubi                        2359\n",
       "Saminaka                    2348\n",
       "Baga Road                   1825\n",
       "Budum                       1812\n",
       "Abba Gamaram                1810\n",
       "Monday                      1806\n",
       "Tashan Bama                 1799\n",
       "Custom                      1797\n",
       "Geidam                      1689\n",
       "Nguru                       1684\n",
       "Bade (Gashua)               1683\n",
       "Damaturu (Sunday Market)    1678\n",
       "Bursari                     1654\n",
       "Yunusari                    1648\n",
       "Jakusko                     1629\n",
       "Yusufari                    1621\n",
       "Aba                         1602\n",
       "Gujba (Buni Yadi)           1525\n",
       "Gulani (Tettaba)            1506\n",
       "Kusawam Shanu               1442\n",
       "Bullunkutu                  1440\n",
       "Illela (CBM)                 633\n",
       "Mai Adoua (CBM)              584\n",
       "Jibia (CBM)                  525\n",
       "Damassack (CBM)              361\n",
       "Mai Gatari (CBM)             349\n",
       "Bolori Stores                 78\n",
       "Name: market, dtype: int64"
      ]
     },
     "execution_count": 100,
     "metadata": {},
     "output_type": "execute_result"
    }
   ],
   "source": [
    "df['market'].value_counts()"
   ]
  },
  {
   "cell_type": "code",
   "execution_count": 37,
   "id": "174b5b0f",
   "metadata": {},
   "outputs": [
    {
     "data": {
      "text/plain": [
       "<AxesSubplot:xlabel='market', ylabel='count'>"
      ]
     },
     "execution_count": 37,
     "metadata": {},
     "output_type": "execute_result"
    },
    {
     "data": {
      "image/png": "[encoded data removed]",
      "text/plain": [
       "<Figure size 432x288 with 1 Axes>"
      ]
     },
     "metadata": {
      "needs_background": "light"
     },
     "output_type": "display_data"
    }
   ],
   "source": [
    "sns.countplot(x=\"market\", data=df)"
   ]
  },
  {
   "cell_type": "code",
   "execution_count": 38,
   "id": "5225f65f",
   "metadata": {},
   "outputs": [
    {
     "data": {
      "text/plain": [
       "<AxesSubplot:ylabel='market'>"
      ]
     },
     "execution_count": 38,
     "metadata": {},
     "output_type": "execute_result"
    },
    {
     "data": {
      "image/png": "[encoded data removed]",
      "text/plain": [
       "<Figure size 432x288 with 1 Axes>"
      ]
     },
     "metadata": {},
     "output_type": "display_data"
    }
   ],
   "source": [
    "df['market'].value_counts().plot(kind='pie',autopct='%1.1f%%')"
   ]
  },
  {
   "cell_type": "code",
   "execution_count": 39,
   "id": "00560bb0",
   "metadata": {},
   "outputs": [
    {
     "data": {
      "text/plain": [
       "array(['cereals and tubers', 'pulses and nuts', 'non-food',\n",
       "       'oil and fats', 'meat, fish and eggs', 'milk and dairy',\n",
       "       'vegetables and fruits', 'miscellaneous food'], dtype=object)"
      ]
     },
     "execution_count": 39,
     "metadata": {},
     "output_type": "execute_result"
    }
   ],
   "source": [
    "df['category'].unique()"
   ]
  },
  {
   "cell_type": "code",
   "execution_count": 40,
   "id": "7d779178",
   "metadata": {},
   "outputs": [
    {
     "data": {
      "text/plain": [
       "cereals and tubers       37761\n",
       "pulses and nuts          12661\n",
       "vegetables and fruits     7437\n",
       "meat, fish and eggs       5259\n",
       "oil and fats              4381\n",
       "non-food                  3295\n",
       "miscellaneous food        2304\n",
       "milk and dairy            1322\n",
       "Name: category, dtype: int64"
      ]
     },
     "execution_count": 40,
     "metadata": {},
     "output_type": "execute_result"
    }
   ],
   "source": [
    "df['category'].value_counts()"
   ]
  },
  {
   "cell_type": "code",
   "execution_count": 41,
   "id": "31d5180f",
   "metadata": {},
   "outputs": [
    {
     "data": {
      "text/plain": [
       "<AxesSubplot:xlabel='category', ylabel='count'>"
      ]
     },
     "execution_count": 41,
     "metadata": {},
     "output_type": "execute_result"
    },
    {
     "data": {
      "image/png": "[encoded data removed]",
      "text/plain": [
       "<Figure size 432x288 with 1 Axes>"
      ]
     },
     "metadata": {
      "needs_background": "light"
     },
     "output_type": "display_data"
    }
   ],
   "source": [
    "sns.countplot(x='category', data=df)"
   ]
  },
  {
   "cell_type": "code",
   "execution_count": 42,
   "id": "a7afa4b0",
   "metadata": {},
   "outputs": [
    {
     "data": {
      "text/plain": [
       "<AxesSubplot:ylabel='category'>"
      ]
     },
     "execution_count": 42,
     "metadata": {},
     "output_type": "execute_result"
    },
    {
     "data": {
      "image/png": "[encoded data removed]",
      "text/plain": [
       "<Figure size 432x288 with 1 Axes>"
      ]
     },
     "metadata": {},
     "output_type": "display_data"
    }
   ],
   "source": [
    "df['category'].value_counts().plot(kind='pie',autopct='%1.1f%%')"
   ]
  },
  {
   "cell_type": "code",
   "execution_count": 43,
   "id": "9970d7fe",
   "metadata": {},
   "outputs": [
    {
     "data": {
      "text/plain": [
       "array(['Millet', 'Rice (imported)', 'Sorghum', 'Beans (niebe)', 'Maize',\n",
       "       'Wheat', 'Maize (white)', 'Sorghum (white)',\n",
       "       'Rice (milled, local)', 'Bread', 'Cassava meal (gari, yellow)',\n",
       "       'Gari (white)', 'Maize (yellow)', 'Rice (local)',\n",
       "       'Sorghum (brown)', 'Yam (Abuja)', 'Fuel (diesel)',\n",
       "       'Fuel (petrol-gasoline)', 'Oil (palm)', 'Cowpeas (brown)',\n",
       "       'Cowpeas (white)', 'Yam', 'Groundnuts (shelled)', 'Maize flour',\n",
       "       'Meat (beef)', 'Meat (goat)', 'Milk', 'Oil (vegetable)',\n",
       "       'Beans (red)', 'Beans (white)', 'Groundnuts', 'Onions', 'Fish',\n",
       "       'Eggs', 'Bananas', 'Oranges', 'Spinach', 'Watermelons', 'Cowpeas',\n",
       "       'Tomatoes', 'Salt', 'Sugar'], dtype=object)"
      ]
     },
     "execution_count": 43,
     "metadata": {},
     "output_type": "execute_result"
    }
   ],
   "source": [
    "df['commodity'].unique()"
   ]
  },
  {
   "cell_type": "code",
   "execution_count": 44,
   "id": "46bd22ab",
   "metadata": {},
   "outputs": [
    {
     "data": {
      "text/plain": [
       "Millet                         4631\n",
       "Rice (imported)                4307\n",
       "Rice (local)                   3863\n",
       "Yam                            3694\n",
       "Oil (palm)                     3052\n",
       "Maize (white)                  2856\n",
       "Sorghum (white)                2786\n",
       "Cowpeas (white)                2608\n",
       "Groundnuts (shelled)           2565\n",
       "Sorghum (brown)                2556\n",
       "Gari (white)                   2500\n",
       "Maize (yellow)                 2465\n",
       "Cowpeas (brown)                2425\n",
       "Cassava meal (gari, yellow)    2223\n",
       "Sorghum                        1882\n",
       "Fuel (petrol-gasoline)         1652\n",
       "Fuel (diesel)                  1643\n",
       "Bread                          1561\n",
       "Beans (white)                  1339\n",
       "Groundnuts                     1333\n",
       "Oil (vegetable)                1329\n",
       "Meat (beef)                    1328\n",
       "Meat (goat)                    1325\n",
       "Milk                           1322\n",
       "Beans (red)                    1320\n",
       "Maize flour                    1320\n",
       "Onions                         1313\n",
       "Fish                           1313\n",
       "Oranges                        1293\n",
       "Eggs                           1293\n",
       "Watermelons                    1292\n",
       "Bananas                        1280\n",
       "Tomatoes                       1186\n",
       "Salt                           1152\n",
       "Sugar                          1152\n",
       "Spinach                        1073\n",
       "Cowpeas                        1047\n",
       "Maize                           591\n",
       "Rice (milled, local)            375\n",
       "Yam (Abuja)                      82\n",
       "Wheat                            69\n",
       "Beans (niebe)                    24\n",
       "Name: commodity, dtype: int64"
      ]
     },
     "execution_count": 44,
     "metadata": {},
     "output_type": "execute_result"
    }
   ],
   "source": [
    "df['commodity'].value_counts()"
   ]
  },
  {
   "cell_type": "code",
   "execution_count": 45,
   "id": "eee9c13f",
   "metadata": {},
   "outputs": [
    {
     "data": {
      "text/plain": [
       "<AxesSubplot:xlabel='commodity', ylabel='count'>"
      ]
     },
     "execution_count": 45,
     "metadata": {},
     "output_type": "execute_result"
    },
    {
     "data": {
      "image/png": "[encoded data removed]",
      "text/plain": [
       "<Figure size 432x288 with 1 Axes>"
      ]
     },
     "metadata": {
      "needs_background": "light"
     },
     "output_type": "display_data"
    }
   ],
   "source": [
    "sns.countplot(x=\"commodity\", data=df)"
   ]
  },
  {
   "cell_type": "code",
   "execution_count": 46,
   "id": "9ac89c80",
   "metadata": {},
   "outputs": [
    {
     "data": {
      "text/plain": [
       "<AxesSubplot:ylabel='commodity'>"
      ]
     },
     "execution_count": 46,
     "metadata": {},
     "output_type": "execute_result"
    },
    {
     "data": {
      "image/png": "[encoded data removed]",
      "text/plain": [
       "<Figure size 432x288 with 1 Axes>"
      ]
     },
     "metadata": {},
     "output_type": "display_data"
    }
   ],
   "source": [
    "df['commodity'].value_counts().plot(kind='pie',autopct='%1.1f%%')"
   ]
  },
  {
   "cell_type": "code",
   "execution_count": 47,
   "id": "b9097fba",
   "metadata": {},
   "outputs": [
    {
     "data": {
      "text/plain": [
       "array(['KG', '100 KG', '50 KG', 'Unit', 'L', '100 L', '1.3 KG', '1.4 KG',\n",
       "       '3.4 KG', '20 G', '750 ML', '1.1 KG', '0.5 KG', '1.5 KG', '30 pcs',\n",
       "       '400 G', '300 G', '2.1 KG', '3.1 KG', '1.2 KG', '250 G',\n",
       "       '100 Tubers'], dtype=object)"
      ]
     },
     "execution_count": 47,
     "metadata": {},
     "output_type": "execute_result"
    }
   ],
   "source": [
    "df['unit'].unique()"
   ]
  },
  {
   "cell_type": "code",
   "execution_count": 48,
   "id": "d8819dbf",
   "metadata": {},
   "outputs": [
    {
     "data": {
      "text/plain": [
       "100 KG        18389\n",
       "KG            17806\n",
       "1.3 KG         5999\n",
       "L              4907\n",
       "1.4 KG         4376\n",
       "1.2 KG         3647\n",
       "750 ML         2664\n",
       "400 G          2018\n",
       "50 KG          1892\n",
       "0.5 KG         1774\n",
       "Unit           1561\n",
       "20 G           1322\n",
       "30 pcs         1293\n",
       "2.1 KG         1292\n",
       "250 G          1152\n",
       "300 G          1073\n",
       "3.1 KG          728\n",
       "100 Tubers      650\n",
       "1.1 KG          600\n",
       "3.4 KG          594\n",
       "1.5 KG          590\n",
       "100 L            93\n",
       "Name: unit, dtype: int64"
      ]
     },
     "execution_count": 48,
     "metadata": {},
     "output_type": "execute_result"
    }
   ],
   "source": [
    "df['unit'].value_counts()"
   ]
  },
  {
   "cell_type": "code",
   "execution_count": 49,
   "id": "6f5acb0e",
   "metadata": {},
   "outputs": [
    {
     "data": {
      "text/plain": [
       "<AxesSubplot:xlabel='unit', ylabel='count'>"
      ]
     },
     "execution_count": 49,
     "metadata": {},
     "output_type": "execute_result"
    },
    {
     "data": {
      "image/png": "[encoded data removed]",
      "text/plain": [
       "<Figure size 432x288 with 1 Axes>"
      ]
     },
     "metadata": {
      "needs_background": "light"
     },
     "output_type": "display_data"
    }
   ],
   "source": [
    "sns.countplot(x=\"unit\", data=df)"
   ]
  },
  {
   "cell_type": "code",
   "execution_count": 50,
   "id": "f6265e74",
   "metadata": {},
   "outputs": [
    {
     "data": {
      "text/plain": [
       "<AxesSubplot:ylabel='unit'>"
      ]
     },
     "execution_count": 50,
     "metadata": {},
     "output_type": "execute_result"
    },
    {
     "data": {
      "image/png": "[encoded data removed]",
      "text/plain": [
       "<Figure size 432x288 with 1 Axes>"
      ]
     },
     "metadata": {},
     "output_type": "display_data"
    }
   ],
   "source": [
    "df['unit'].value_counts().plot(kind='pie',autopct='%1.1f%%')"
   ]
  },
  {
   "cell_type": "code",
   "execution_count": 51,
   "id": "72562d7e",
   "metadata": {},
   "outputs": [
    {
     "data": {
      "text/plain": [
       "array(['actual', 'actual,aggregate', 'aggregate', 'forecast'],\n",
       "      dtype=object)"
      ]
     },
     "execution_count": 51,
     "metadata": {},
     "output_type": "execute_result"
    }
   ],
   "source": [
    "df['priceflag'].unique()"
   ]
  },
  {
   "cell_type": "code",
   "execution_count": 52,
   "id": "44b4dcdd",
   "metadata": {},
   "outputs": [
    {
     "data": {
      "text/plain": [
       "actual              48106\n",
       "aggregate           14116\n",
       "forecast            11744\n",
       "actual,aggregate      454\n",
       "Name: priceflag, dtype: int64"
      ]
     },
     "execution_count": 52,
     "metadata": {},
     "output_type": "execute_result"
    }
   ],
   "source": [
    "df['priceflag'].value_counts()"
   ]
  },
  {
   "cell_type": "code",
   "execution_count": 53,
   "id": "61d57b06",
   "metadata": {},
   "outputs": [
    {
     "data": {
      "text/plain": [
       "<AxesSubplot:xlabel='priceflag', ylabel='count'>"
      ]
     },
     "execution_count": 53,
     "metadata": {},
     "output_type": "execute_result"
    },
    {
     "data": {
      "image/png": "[encoded data removed]",
      "text/plain": [
       "<Figure size 432x288 with 1 Axes>"
      ]
     },
     "metadata": {
      "needs_background": "light"
     },
     "output_type": "display_data"
    }
   ],
   "source": [
    "sns.countplot(x=\"priceflag\", data=df)"
   ]
  },
  {
   "cell_type": "code",
   "execution_count": 54,
   "id": "90d63096",
   "metadata": {},
   "outputs": [
    {
     "data": {
      "text/plain": [
       "<AxesSubplot:ylabel='priceflag'>"
      ]
     },
     "execution_count": 54,
     "metadata": {},
     "output_type": "execute_result"
    },
    {
     "data": {
      "image/png": "[encoded data removed]",
      "text/plain": [
       "<Figure size 432x288 with 1 Axes>"
      ]
     },
     "metadata": {},
     "output_type": "display_data"
    }
   ],
   "source": [
    "df['priceflag'].value_counts().plot(kind='pie',autopct='%1.1f%%')"
   ]
  },
  {
   "cell_type": "code",
   "execution_count": 55,
   "id": "32e22c5b",
   "metadata": {},
   "outputs": [
    {
     "data": {
      "text/plain": [
       "array(['Wholesale', 'Retail'], dtype=object)"
      ]
     },
     "execution_count": 55,
     "metadata": {},
     "output_type": "execute_result"
    }
   ],
   "source": [
    "df['pricetype'].unique()"
   ]
  },
  {
   "cell_type": "code",
   "execution_count": 56,
   "id": "b883af8b",
   "metadata": {},
   "outputs": [
    {
     "data": {
      "text/plain": [
       "Retail       50472\n",
       "Wholesale    23948\n",
       "Name: pricetype, dtype: int64"
      ]
     },
     "execution_count": 56,
     "metadata": {},
     "output_type": "execute_result"
    }
   ],
   "source": [
    "df['pricetype'].value_counts()"
   ]
  },
  {
   "cell_type": "code",
   "execution_count": 57,
   "id": "bbd9633c",
   "metadata": {},
   "outputs": [
    {
     "data": {
      "text/plain": [
       "<AxesSubplot:xlabel='pricetype', ylabel='count'>"
      ]
     },
     "execution_count": 57,
     "metadata": {},
     "output_type": "execute_result"
    },
    {
     "data": {
      "image/png": "[encoded data removed]",
      "text/plain": [
       "<Figure size 432x288 with 1 Axes>"
      ]
     },
     "metadata": {
      "needs_background": "light"
     },
     "output_type": "display_data"
    }
   ],
   "source": [
    "sns.countplot(x=\"pricetype\", data=df)"
   ]
  },
  {
   "cell_type": "code",
   "execution_count": 58,
   "id": "98e3bc07",
   "metadata": {},
   "outputs": [
    {
     "data": {
      "text/plain": [
       "<AxesSubplot:ylabel='pricetype'>"
      ]
     },
     "execution_count": 58,
     "metadata": {},
     "output_type": "execute_result"
    },
    {
     "data": {
      "image/png": "[encoded data removed]",
      "text/plain": [
       "<Figure size 432x288 with 1 Axes>"
      ]
     },
     "metadata": {},
     "output_type": "display_data"
    }
   ],
   "source": [
    "df['pricetype'].value_counts().plot(kind='pie',autopct='%1.1f%%')"
   ]
  },
  {
   "cell_type": "code",
   "execution_count": 59,
   "id": "2d1cf260",
   "metadata": {},
   "outputs": [
    {
     "data": {
      "text/plain": [
       "array(['NGN'], dtype=object)"
      ]
     },
     "execution_count": 59,
     "metadata": {},
     "output_type": "execute_result"
    }
   ],
   "source": [
    "df['currency'].unique()"
   ]
  },
  {
   "cell_type": "code",
   "execution_count": 60,
   "id": "b833ea80",
   "metadata": {},
   "outputs": [
    {
     "data": {
      "text/plain": [
       "NGN    74420\n",
       "Name: currency, dtype: int64"
      ]
     },
     "execution_count": 60,
     "metadata": {},
     "output_type": "execute_result"
    }
   ],
   "source": [
    "df['currency'].value_counts()"
   ]
  },
  {
   "cell_type": "code",
   "execution_count": 61,
   "id": "5d5fe561",
   "metadata": {},
   "outputs": [
    {
     "data": {
      "text/plain": [
       "<AxesSubplot:xlabel='currency', ylabel='count'>"
      ]
     },
     "execution_count": 61,
     "metadata": {},
     "output_type": "execute_result"
    },
    {
     "data": {
      "image/png": "[encoded data removed]",
      "text/plain": [
       "<Figure size 432x288 with 1 Axes>"
      ]
     },
     "metadata": {
      "needs_background": "light"
     },
     "output_type": "display_data"
    }
   ],
   "source": [
    "sns.countplot(x=\"currency\", data=df)"
   ]
  },
  {
   "cell_type": "code",
   "execution_count": 62,
   "id": "49908c6c",
   "metadata": {},
   "outputs": [
    {
     "data": {
      "text/plain": [
       "<AxesSubplot:ylabel='currency'>"
      ]
     },
     "execution_count": 62,
     "metadata": {},
     "output_type": "execute_result"
    },
    {
     "data": {
      "image/png": "[encoded data removed]",
      "text/plain": [
       "<Figure size 432x288 with 1 Axes>"
      ]
     },
     "metadata": {},
     "output_type": "display_data"
    }
   ],
   "source": [
    "df['currency'].value_counts().plot(kind='pie',autopct='%1.1f%%')"
   ]
  },
  {
   "cell_type": "code",
   "execution_count": 63,
   "id": "4d1d4538",
   "metadata": {},
   "outputs": [
    {
     "data": {
      "text/plain": [
       "array(['150.18', '358.7', '155.61', ..., '467.66', '0.0', 0.0],\n",
       "      dtype=object)"
      ]
     },
     "execution_count": 63,
     "metadata": {},
     "output_type": "execute_result"
    }
   ],
   "source": [
    "df['price'].unique()"
   ]
  },
  {
   "cell_type": "code",
   "execution_count": 64,
   "id": "746381db",
   "metadata": {},
   "outputs": [
    {
     "data": {
      "text/plain": [
       "0.0        8886\n",
       "0.0        2858\n",
       "50.0       1961\n",
       "200.0      1461\n",
       "100.0      1337\n",
       "           ... \n",
       "25950.0       1\n",
       "351.03        1\n",
       "114.83        1\n",
       "181.73        1\n",
       "59250.0       1\n",
       "Name: price, Length: 19446, dtype: int64"
      ]
     },
     "execution_count": 64,
     "metadata": {},
     "output_type": "execute_result"
    }
   ],
   "source": [
    "df['price'].value_counts()"
   ]
  },
  {
   "cell_type": "code",
   "execution_count": 65,
   "id": "951953b8",
   "metadata": {},
   "outputs": [
    {
     "data": {
      "text/plain": [
       "0.0        8886\n",
       "0.0        2858\n",
       "0.1629      205\n",
       "0.1397      150\n",
       "0.1401      142\n",
       "           ... \n",
       "21.4372       1\n",
       "17.9393       1\n",
       "0.6537        1\n",
       "18.2715       1\n",
       "2.3227        1\n",
       "Name: usdprice, Length: 28635, dtype: int64"
      ]
     },
     "execution_count": 65,
     "metadata": {},
     "output_type": "execute_result"
    }
   ],
   "source": [
    "df['usdprice'].value_counts()"
   ]
  },
  {
   "cell_type": "code",
   "execution_count": 125,
   "id": "bff39350",
   "metadata": {},
   "outputs": [
    {
     "ename": "ModuleNotFoundError",
     "evalue": "No module named 'mpl_toolkits.basemap'",
     "output_type": "error",
     "traceback": [
      "\u001b[1;31m---------------------------------------------------------------------------\u001b[0m",
      "\u001b[1;31mModuleNotFoundError\u001b[0m                       Traceback (most recent call last)",
      "\u001b[1;32m~\\AppData\\Local\\Temp/ipykernel_2448/3237438045.py\u001b[0m in \u001b[0;36m<module>\u001b[1;34m\u001b[0m\n\u001b[0;32m      1\u001b[0m \u001b[1;32mimport\u001b[0m \u001b[0mmatplotlib\u001b[0m\u001b[1;33m.\u001b[0m\u001b[0mpyplot\u001b[0m \u001b[1;32mas\u001b[0m \u001b[0mplt\u001b[0m\u001b[1;33m\u001b[0m\u001b[1;33m\u001b[0m\u001b[0m\n\u001b[1;32m----> 2\u001b[1;33m \u001b[1;32mfrom\u001b[0m \u001b[0mmpl_toolkits\u001b[0m\u001b[1;33m.\u001b[0m\u001b[0mbasemap\u001b[0m \u001b[1;32mimport\u001b[0m \u001b[0mBasemap\u001b[0m\u001b[1;33m\u001b[0m\u001b[1;33m\u001b[0m\u001b[0m\n\u001b[0m\u001b[0;32m      3\u001b[0m \u001b[1;33m\u001b[0m\u001b[0m\n\u001b[0;32m      4\u001b[0m \u001b[1;31m# Latitude and Longitude coordinates\u001b[0m\u001b[1;33m\u001b[0m\u001b[1;33m\u001b[0m\u001b[0m\n\u001b[0;32m      5\u001b[0m \u001b[0mlatitudes\u001b[0m \u001b[1;33m=\u001b[0m \u001b[1;33m[\u001b[0m\u001b[1;36m40.7128\u001b[0m\u001b[1;33m,\u001b[0m \u001b[1;36m51.5074\u001b[0m\u001b[1;33m,\u001b[0m \u001b[1;36m35.6895\u001b[0m\u001b[1;33m]\u001b[0m  \u001b[1;31m# Example latitude values (New York, London, Tokyo)\u001b[0m\u001b[1;33m\u001b[0m\u001b[1;33m\u001b[0m\u001b[0m\n",
      "\u001b[1;31mModuleNotFoundError\u001b[0m: No module named 'mpl_toolkits.basemap'"
     ]
    }
   ],
   "source": [
    "import matplotlib.pyplot as plt\n",
    "from mpl_toolkits.basemap import Basemap\n",
    "\n",
    "# Latitude and Longitude coordinates\n",
    "latitudes = [40.7128, 51.5074, 35.6895]  # Example latitude values (New York, London, Tokyo)\n",
    "longitudes = [-74.0060, -0.1278, 139.6917]  # Example longitude values (New York, London, Tokyo)\n",
    "\n",
    "# Create a Basemap instance\n",
    "map = Basemap(projection='mill', llcrnrlat=-90, urcrnrlat=90, llcrnrlon=-180, urcrnrlon=180)\n",
    "\n",
    "# Draw coastlines, countries, and states\n",
    "map.drawcoastlines()\n",
    "map.drawcountries()\n",
    "map.drawstates()\n",
    "\n",
    "# Convert lat/lon coordinates to map projection\n",
    "x, y = map(longitudes, latitudes)\n",
    "\n",
    "# Plot the points on the map\n",
    "map.scatter(x, y, marker='o', color='red')\n",
    "\n",
    "# Show the map\n",
    "plt.show()\n"
   ]
  },
  {
   "cell_type": "code",
   "execution_count": 127,
   "id": "cf5a6894",
   "metadata": {},
   "outputs": [
    {
     "name": "stdout",
     "output_type": "stream",
     "text": [
      "Collecting Cartopy\n",
      "  Downloading Cartopy-0.21.1.tar.gz (10.9 MB)\n",
      "  Installing build dependencies: started\n",
      "  Installing build dependencies: still running...Note: you may need to restart the kernel to use updated packages.\n"
     ]
    },
    {
     "name": "stderr",
     "output_type": "stream",
     "text": [
      "  ERROR: Command errored out with exit status 1:\n",
      "   command: 'C:\\Users\\USER\\anaconda3\\python.exe' 'C:\\Users\\USER\\anaconda3\\lib\\site-packages\\pip\\_vendor\\pep517\\in_process\\_in_process.py' build_wheel 'C:\\Users\\USER\\AppData\\Local\\Temp\\tmphbdvxwjx'\n",
      "       cwd: C:\\Users\\USER\\AppData\\Local\\Temp\\pip-install-7i3dbuiz\\cartopy_9bae301ee27841c594cfae02bac77391\n",
      "  Complete output (279 lines):\n",
      "  <string>:90: UserWarning: Unable to determine GEOS version. Ensure you have 3.7.2 or later installed, or installation may fail.\n",
      "  running bdist_wheel\n",
      "  running build\n",
      "  running build_py\n",
      "  creating build\n",
      "  creating build\\lib.win-amd64-cpython-39\n",
      "  creating build\\lib.win-amd64-cpython-39\\cartopy\n",
      "  copying lib\\cartopy\\crs.py -> build\\lib.win-amd64-cpython-39\\cartopy\n",
      "  copying lib\\cartopy\\geodesic.py -> build\\lib.win-amd64-cpython-39\\cartopy\n",
      "  copying lib\\cartopy\\img_transform.py -> build\\lib.win-amd64-cpython-39\\cartopy\n",
      "  copying lib\\cartopy\\util.py -> build\\lib.win-amd64-cpython-39\\cartopy\n",
      "  copying lib\\cartopy\\vector_transform.py -> build\\lib.win-amd64-cpython-39\\cartopy\n",
      "  copying lib\\cartopy\\_epsg.py -> build\\lib.win-amd64-cpython-39\\cartopy\n",
      "  copying lib\\cartopy\\_version.py -> build\\lib.win-amd64-cpython-39\\cartopy\n",
      "  copying lib\\cartopy\\__init__.py -> build\\lib.win-amd64-cpython-39\\cartopy\n",
      "  creating build\\lib.win-amd64-cpython-39\\cartopy\\feature\n",
      "  copying lib\\cartopy\\feature\\nightshade.py -> build\\lib.win-amd64-cpython-39\\cartopy\\feature\n",
      "  copying lib\\cartopy\\feature\\__init__.py -> build\\lib.win-amd64-cpython-39\\cartopy\\feature\n",
      "  creating build\\lib.win-amd64-cpython-39\\cartopy\\io\n",
      "  copying lib\\cartopy\\io\\img_nest.py -> build\\lib.win-amd64-cpython-39\\cartopy\\io\n",
      "  copying lib\\cartopy\\io\\img_tiles.py -> build\\lib.win-amd64-cpython-39\\cartopy\\io\n",
      "  copying lib\\cartopy\\io\\ogc_clients.py -> build\\lib.win-amd64-cpython-39\\cartopy\\io\n",
      "  copying lib\\cartopy\\io\\shapereader.py -> build\\lib.win-amd64-cpython-39\\cartopy\\io\n",
      "  copying lib\\cartopy\\io\\srtm.py -> build\\lib.win-amd64-cpython-39\\cartopy\\io\n",
      "  copying lib\\cartopy\\io\\__init__.py -> build\\lib.win-amd64-cpython-39\\cartopy\\io\n",
      "  creating build\\lib.win-amd64-cpython-39\\cartopy\\mpl\n",
      "  copying lib\\cartopy\\mpl\\clip_path.py -> build\\lib.win-amd64-cpython-39\\cartopy\\mpl\n",
      "  copying lib\\cartopy\\mpl\\contour.py -> build\\lib.win-amd64-cpython-39\\cartopy\\mpl\n",
      "  copying lib\\cartopy\\mpl\\feature_artist.py -> build\\lib.win-amd64-cpython-39\\cartopy\\mpl\n",
      "  copying lib\\cartopy\\mpl\\geoaxes.py -> build\\lib.win-amd64-cpython-39\\cartopy\\mpl\n",
      "  copying lib\\cartopy\\mpl\\geocollection.py -> build\\lib.win-amd64-cpython-39\\cartopy\\mpl\n",
      "  copying lib\\cartopy\\mpl\\gridliner.py -> build\\lib.win-amd64-cpython-39\\cartopy\\mpl\n",
      "  copying lib\\cartopy\\mpl\\patch.py -> build\\lib.win-amd64-cpython-39\\cartopy\\mpl\n",
      "  copying lib\\cartopy\\mpl\\slippy_image_artist.py -> build\\lib.win-amd64-cpython-39\\cartopy\\mpl\n",
      "  copying lib\\cartopy\\mpl\\style.py -> build\\lib.win-amd64-cpython-39\\cartopy\\mpl\n",
      "  copying lib\\cartopy\\mpl\\ticker.py -> build\\lib.win-amd64-cpython-39\\cartopy\\mpl\n",
      "  copying lib\\cartopy\\mpl\\__init__.py -> build\\lib.win-amd64-cpython-39\\cartopy\\mpl\n",
      "  creating build\\lib.win-amd64-cpython-39\\cartopy\\tests\n",
      "  copying lib\\cartopy\\tests\\conftest.py -> build\\lib.win-amd64-cpython-39\\cartopy\\tests\n",
      "  copying lib\\cartopy\\tests\\test_coastline.py -> build\\lib.win-amd64-cpython-39\\cartopy\\tests\n",
      "  copying lib\\cartopy\\tests\\test_coding_standards.py -> build\\lib.win-amd64-cpython-39\\cartopy\\tests\n",
      "  copying lib\\cartopy\\tests\\test_crs.py -> build\\lib.win-amd64-cpython-39\\cartopy\\tests\n",
      "  copying lib\\cartopy\\tests\\test_crs_transform_vectors.py -> build\\lib.win-amd64-cpython-39\\cartopy\\tests\n",
      "  copying lib\\cartopy\\tests\\test_features.py -> build\\lib.win-amd64-cpython-39\\cartopy\\tests\n",
      "  copying lib\\cartopy\\tests\\test_geodesic.py -> build\\lib.win-amd64-cpython-39\\cartopy\\tests\n",
      "  copying lib\\cartopy\\tests\\test_img_nest.py -> build\\lib.win-amd64-cpython-39\\cartopy\\tests\n",
      "  copying lib\\cartopy\\tests\\test_img_tiles.py -> build\\lib.win-amd64-cpython-39\\cartopy\\tests\n",
      "  copying lib\\cartopy\\tests\\test_img_transform.py -> build\\lib.win-amd64-cpython-39\\cartopy\\tests\n",
      "  copying lib\\cartopy\\tests\\test_linear_ring.py -> build\\lib.win-amd64-cpython-39\\cartopy\\tests\n",
      "  copying lib\\cartopy\\tests\\test_line_string.py -> build\\lib.win-amd64-cpython-39\\cartopy\\tests\n",
      "  copying lib\\cartopy\\tests\\test_polygon.py -> build\\lib.win-amd64-cpython-39\\cartopy\\tests\n",
      "  copying lib\\cartopy\\tests\\test_shapereader.py -> build\\lib.win-amd64-cpython-39\\cartopy\\tests\n",
      "  copying lib\\cartopy\\tests\\test_util.py -> build\\lib.win-amd64-cpython-39\\cartopy\\tests\n",
      "  copying lib\\cartopy\\tests\\test_vector_transform.py -> build\\lib.win-amd64-cpython-39\\cartopy\\tests\n",
      "  copying lib\\cartopy\\tests\\__init__.py -> build\\lib.win-amd64-cpython-39\\cartopy\\tests\n",
      "  creating build\\lib.win-amd64-cpython-39\\cartopy\\tests\\crs\n",
      "  copying lib\\cartopy\\tests\\crs\\helpers.py -> build\\lib.win-amd64-cpython-39\\cartopy\\tests\\crs\n",
      "  copying lib\\cartopy\\tests\\crs\\test_albers_equal_area.py -> build\\lib.win-amd64-cpython-39\\cartopy\\tests\\crs\n",
      "  copying lib\\cartopy\\tests\\crs\\test_azimuthal_equidistant.py -> build\\lib.win-amd64-cpython-39\\cartopy\\tests\\crs\n",
      "  copying lib\\cartopy\\tests\\crs\\test_eckert.py -> build\\lib.win-amd64-cpython-39\\cartopy\\tests\\crs\n",
      "  copying lib\\cartopy\\tests\\crs\\test_equal_earth.py -> build\\lib.win-amd64-cpython-39\\cartopy\\tests\\crs\n",
      "  copying lib\\cartopy\\tests\\crs\\test_equidistant_conic.py -> build\\lib.win-amd64-cpython-39\\cartopy\\tests\\crs\n",
      "  copying lib\\cartopy\\tests\\crs\\test_geostationary.py -> build\\lib.win-amd64-cpython-39\\cartopy\\tests\\crs\n",
      "  copying lib\\cartopy\\tests\\crs\\test_gnomonic.py -> build\\lib.win-amd64-cpython-39\\cartopy\\tests\\crs\n",
      "  copying lib\\cartopy\\tests\\crs\\test_interrupted_goode_homolosine.py -> build\\lib.win-amd64-cpython-39\\cartopy\\tests\\crs\n",
      "  copying lib\\cartopy\\tests\\crs\\test_lambert_azimuthal_equal_area.py -> build\\lib.win-amd64-cpython-39\\cartopy\\tests\\crs\n",
      "  copying lib\\cartopy\\tests\\crs\\test_lambert_conformal.py -> build\\lib.win-amd64-cpython-39\\cartopy\\tests\\crs\n",
      "  copying lib\\cartopy\\tests\\crs\\test_mercator.py -> build\\lib.win-amd64-cpython-39\\cartopy\\tests\\crs\n",
      "  copying lib\\cartopy\\tests\\crs\\test_miller.py -> build\\lib.win-amd64-cpython-39\\cartopy\\tests\\crs\n",
      "  copying lib\\cartopy\\tests\\crs\\test_mollweide.py -> build\\lib.win-amd64-cpython-39\\cartopy\\tests\\crs\n",
      "  copying lib\\cartopy\\tests\\crs\\test_nearside_perspective.py -> build\\lib.win-amd64-cpython-39\\cartopy\\tests\\crs\n",
      "  copying lib\\cartopy\\tests\\crs\\test_orthographic.py -> build\\lib.win-amd64-cpython-39\\cartopy\\tests\\crs\n",
      "  copying lib\\cartopy\\tests\\crs\\test_robinson.py -> build\\lib.win-amd64-cpython-39\\cartopy\\tests\\crs\n",
      "  copying lib\\cartopy\\tests\\crs\\test_rotated_geodetic.py -> build\\lib.win-amd64-cpython-39\\cartopy\\tests\\crs\n",
      "  copying lib\\cartopy\\tests\\crs\\test_rotated_pole.py -> build\\lib.win-amd64-cpython-39\\cartopy\\tests\\crs\n",
      "  copying lib\\cartopy\\tests\\crs\\test_sinusoidal.py -> build\\lib.win-amd64-cpython-39\\cartopy\\tests\\crs\n",
      "  copying lib\\cartopy\\tests\\crs\\test_stereographic.py -> build\\lib.win-amd64-cpython-39\\cartopy\\tests\\crs\n",
      "  copying lib\\cartopy\\tests\\crs\\test_transverse_mercator.py -> build\\lib.win-amd64-cpython-39\\cartopy\\tests\\crs\n",
      "  copying lib\\cartopy\\tests\\crs\\test_utm.py -> build\\lib.win-amd64-cpython-39\\cartopy\\tests\\crs\n",
      "  copying lib\\cartopy\\tests\\crs\\__init__.py -> build\\lib.win-amd64-cpython-39\\cartopy\\tests\\crs\n",
      "  creating build\\lib.win-amd64-cpython-39\\cartopy\\tests\\feature\n",
      "  copying lib\\cartopy\\tests\\feature\\test_nightshade.py -> build\\lib.win-amd64-cpython-39\\cartopy\\tests\\feature\n",
      "  copying lib\\cartopy\\tests\\feature\\__init__.py -> build\\lib.win-amd64-cpython-39\\cartopy\\tests\\feature\n",
      "  creating build\\lib.win-amd64-cpython-39\\cartopy\\tests\\io\n",
      "  copying lib\\cartopy\\tests\\io\\test_downloaders.py -> build\\lib.win-amd64-cpython-39\\cartopy\\tests\\io\n",
      "  copying lib\\cartopy\\tests\\io\\test_ogc_clients.py -> build\\lib.win-amd64-cpython-39\\cartopy\\tests\\io\n",
      "  copying lib\\cartopy\\tests\\io\\test_srtm.py -> build\\lib.win-amd64-cpython-39\\cartopy\\tests\\io\n",
      "  copying lib\\cartopy\\tests\\io\\__init__.py -> build\\lib.win-amd64-cpython-39\\cartopy\\tests\\io\n",
      "  creating build\\lib.win-amd64-cpython-39\\cartopy\\tests\\mpl\n",
      "  copying lib\\cartopy\\tests\\mpl\\conftest.py -> build\\lib.win-amd64-cpython-39\\cartopy\\tests\\mpl\n",
      "  copying lib\\cartopy\\tests\\mpl\\test_axes.py -> build\\lib.win-amd64-cpython-39\\cartopy\\tests\\mpl\n",
      "  copying lib\\cartopy\\tests\\mpl\\test_caching.py -> build\\lib.win-amd64-cpython-39\\cartopy\\tests\\mpl\n"
     ]
    },
    {
     "name": "stdout",
     "output_type": "stream",
     "text": [
      "\n",
      "  Installing build dependencies: finished with status 'done'\n",
      "  Getting requirements to build wheel: started\n",
      "  Getting requirements to build wheel: finished with status 'done'\n",
      "    Preparing wheel metadata: started\n",
      "    Preparing wheel metadata: finished with status 'done'\n",
      "Requirement already satisfied: matplotlib>=3.1 in c:\\users\\user\\anaconda3\\lib\\site-packages (from Cartopy) (3.4.3)\n",
      "Requirement already satisfied: numpy>=1.18 in c:\\users\\user\\anaconda3\\lib\\site-packages (from Cartopy) (1.22.4)\n",
      "Requirement already satisfied: pyproj>=3.0.0 in c:\\users\\user\\anaconda3\\lib\\site-packages (from Cartopy) (3.5.0)\n",
      "Requirement already satisfied: shapely>=1.6.4 in c:\\users\\user\\anaconda3\\lib\\site-packages (from Cartopy) (2.0.1)\n",
      "Collecting pyshp>=2.1\n",
      "  Downloading pyshp-2.3.1-py2.py3-none-any.whl (46 kB)\n",
      "Requirement already satisfied: kiwisolver>=1.0.1 in c:\\users\\user\\anaconda3\\lib\\site-packages (from matplotlib>=3.1->Cartopy) (1.3.1)\n",
      "Requirement already satisfied: pyparsing>=2.2.1 in c:\\users\\user\\anaconda3\\lib\\site-packages (from matplotlib>=3.1->Cartopy) (3.0.4)\n",
      "Requirement already satisfied: cycler>=0.10 in c:\\users\\user\\anaconda3\\lib\\site-packages (from matplotlib>=3.1->Cartopy) (0.10.0)\n",
      "Requirement already satisfied: pillow>=6.2.0 in c:\\users\\user\\anaconda3\\lib\\site-packages (from matplotlib>=3.1->Cartopy) (8.4.0)\n",
      "Requirement already satisfied: python-dateutil>=2.7 in c:\\users\\user\\anaconda3\\lib\\site-packages (from matplotlib>=3.1->Cartopy) (2.8.2)\n",
      "Requirement already satisfied: six in c:\\users\\user\\anaconda3\\lib\\site-packages (from cycler>=0.10->matplotlib>=3.1->Cartopy) (1.16.0)\n",
      "Requirement already satisfied: certifi in c:\\users\\user\\anaconda3\\lib\\site-packages (from pyproj>=3.0.0->Cartopy) (2021.10.8)\n",
      "Building wheels for collected packages: Cartopy\n",
      "  Building wheel for Cartopy (PEP 517): started\n",
      "  Building wheel for Cartopy (PEP 517): finished with status 'error'\n",
      "Failed to build Cartopy\n"
     ]
    },
    {
     "name": "stderr",
     "output_type": "stream",
     "text": [
      "  copying lib\\cartopy\\tests\\mpl\\test_contour.py -> build\\lib.win-amd64-cpython-39\\cartopy\\tests\\mpl\n",
      "  copying lib\\cartopy\\tests\\mpl\\test_crs.py -> build\\lib.win-amd64-cpython-39\\cartopy\\tests\\mpl\n",
      "  copying lib\\cartopy\\tests\\mpl\\test_examples.py -> build\\lib.win-amd64-cpython-39\\cartopy\\tests\\mpl\n",
      "  copying lib\\cartopy\\tests\\mpl\\test_features.py -> build\\lib.win-amd64-cpython-39\\cartopy\\tests\\mpl\n",
      "  copying lib\\cartopy\\tests\\mpl\\test_feature_artist.py -> build\\lib.win-amd64-cpython-39\\cartopy\\tests\\mpl\n",
      "  copying lib\\cartopy\\tests\\mpl\\test_gridliner.py -> build\\lib.win-amd64-cpython-39\\cartopy\\tests\\mpl\n",
      "  copying lib\\cartopy\\tests\\mpl\\test_images.py -> build\\lib.win-amd64-cpython-39\\cartopy\\tests\\mpl\n",
      "  copying lib\\cartopy\\tests\\mpl\\test_img_transform.py -> build\\lib.win-amd64-cpython-39\\cartopy\\tests\\mpl\n",
      "  copying lib\\cartopy\\tests\\mpl\\test_mpl_integration.py -> build\\lib.win-amd64-cpython-39\\cartopy\\tests\\mpl\n",
      "  copying lib\\cartopy\\tests\\mpl\\test_nightshade.py -> build\\lib.win-amd64-cpython-39\\cartopy\\tests\\mpl\n",
      "  copying lib\\cartopy\\tests\\mpl\\test_patch.py -> build\\lib.win-amd64-cpython-39\\cartopy\\tests\\mpl\n",
      "  copying lib\\cartopy\\tests\\mpl\\test_plots.py -> build\\lib.win-amd64-cpython-39\\cartopy\\tests\\mpl\n",
      "  copying lib\\cartopy\\tests\\mpl\\test_pseudo_color.py -> build\\lib.win-amd64-cpython-39\\cartopy\\tests\\mpl\n",
      "  copying lib\\cartopy\\tests\\mpl\\test_quiver.py -> build\\lib.win-amd64-cpython-39\\cartopy\\tests\\mpl\n",
      "  copying lib\\cartopy\\tests\\mpl\\test_set_extent.py -> build\\lib.win-amd64-cpython-39\\cartopy\\tests\\mpl\n",
      "  copying lib\\cartopy\\tests\\mpl\\test_shapely_to_mpl.py -> build\\lib.win-amd64-cpython-39\\cartopy\\tests\\mpl\n",
      "  copying lib\\cartopy\\tests\\mpl\\test_style.py -> build\\lib.win-amd64-cpython-39\\cartopy\\tests\\mpl\n",
      "  copying lib\\cartopy\\tests\\mpl\\test_ticker.py -> build\\lib.win-amd64-cpython-39\\cartopy\\tests\\mpl\n",
      "  copying lib\\cartopy\\tests\\mpl\\test_ticks.py -> build\\lib.win-amd64-cpython-39\\cartopy\\tests\\mpl\n",
      "  copying lib\\cartopy\\tests\\mpl\\test_web_services.py -> build\\lib.win-amd64-cpython-39\\cartopy\\tests\\mpl\n",
      "  copying lib\\cartopy\\tests\\mpl\\__init__.py -> build\\lib.win-amd64-cpython-39\\cartopy\\tests\\mpl\n",
      "  creating build\\lib.win-amd64-cpython-39\\cartopy\\tests\\mpl\\baseline_images\n",
      "  creating build\\lib.win-amd64-cpython-39\\cartopy\\tests\\mpl\\baseline_images\\mpl\n",
      "  creating build\\lib.win-amd64-cpython-39\\cartopy\\tests\\mpl\\baseline_images\\mpl\\test_axes\n",
      "  copying lib\\cartopy\\tests\\mpl\\baseline_images\\mpl\\test_axes\\geoaxes_set_boundary_clipping.png -> build\\lib.win-amd64-cpython-39\\cartopy\\tests\\mpl\\baseline_images\\mpl\\test_axes\n",
      "  copying lib\\cartopy\\tests\\mpl\\baseline_images\\mpl\\test_axes\\geoaxes_subslice.png -> build\\lib.win-amd64-cpython-39\\cartopy\\tests\\mpl\\baseline_images\\mpl\\test_axes\n",
      "  creating build\\lib.win-amd64-cpython-39\\cartopy\\tests\\mpl\\baseline_images\\mpl\\test_crs\n",
      "  copying lib\\cartopy\\tests\\mpl\\baseline_images\\mpl\\test_crs\\igh_land.png -> build\\lib.win-amd64-cpython-39\\cartopy\\tests\\mpl\\baseline_images\\mpl\\test_crs\n",
      "  copying lib\\cartopy\\tests\\mpl\\baseline_images\\mpl\\test_crs\\igh_ocean.png -> build\\lib.win-amd64-cpython-39\\cartopy\\tests\\mpl\\baseline_images\\mpl\\test_crs\n",
      "  copying lib\\cartopy\\tests\\mpl\\baseline_images\\mpl\\test_crs\\lambert_conformal_south.png -> build\\lib.win-amd64-cpython-39\\cartopy\\tests\\mpl\\baseline_images\\mpl\\test_crs\n",
      "  creating build\\lib.win-amd64-cpython-39\\cartopy\\tests\\mpl\\baseline_images\\mpl\\test_examples\n",
      "  copying lib\\cartopy\\tests\\mpl\\baseline_images\\mpl\\test_examples\\contour_label.png -> build\\lib.win-amd64-cpython-39\\cartopy\\tests\\mpl\\baseline_images\\mpl\\test_examples\n",
      "  copying lib\\cartopy\\tests\\mpl\\baseline_images\\mpl\\test_examples\\global_map.png -> build\\lib.win-amd64-cpython-39\\cartopy\\tests\\mpl\\baseline_images\\mpl\\test_examples\n",
      "  creating build\\lib.win-amd64-cpython-39\\cartopy\\tests\\mpl\\baseline_images\\mpl\\test_features\n",
      "  copying lib\\cartopy\\tests\\mpl\\baseline_images\\mpl\\test_features\\gshhs_coastlines.png -> build\\lib.win-amd64-cpython-39\\cartopy\\tests\\mpl\\baseline_images\\mpl\\test_features\n",
      "  copying lib\\cartopy\\tests\\mpl\\baseline_images\\mpl\\test_features\\natural_earth.png -> build\\lib.win-amd64-cpython-39\\cartopy\\tests\\mpl\\baseline_images\\mpl\\test_features\n",
      "  copying lib\\cartopy\\tests\\mpl\\baseline_images\\mpl\\test_features\\natural_earth_custom.png -> build\\lib.win-amd64-cpython-39\\cartopy\\tests\\mpl\\baseline_images\\mpl\\test_features\n",
      "  copying lib\\cartopy\\tests\\mpl\\baseline_images\\mpl\\test_features\\wfs.png -> build\\lib.win-amd64-cpython-39\\cartopy\\tests\\mpl\\baseline_images\\mpl\\test_features\n",
      "  creating build\\lib.win-amd64-cpython-39\\cartopy\\tests\\mpl\\baseline_images\\mpl\\test_gridliner\n",
      "  copying lib\\cartopy\\tests\\mpl\\baseline_images\\mpl\\test_gridliner\\gridliner1.png -> build\\lib.win-amd64-cpython-39\\cartopy\\tests\\mpl\\baseline_images\\mpl\\test_gridliner\n",
      "  copying lib\\cartopy\\tests\\mpl\\baseline_images\\mpl\\test_gridliner\\gridliner_labels.png -> build\\lib.win-amd64-cpython-39\\cartopy\\tests\\mpl\\baseline_images\\mpl\\test_gridliner\n",
      "  copying lib\\cartopy\\tests\\mpl\\baseline_images\\mpl\\test_gridliner\\gridliner_labels_bbox_style.png -> build\\lib.win-amd64-cpython-39\\cartopy\\tests\\mpl\\baseline_images\\mpl\\test_gridliner\n",
      "  copying lib\\cartopy\\tests\\mpl\\baseline_images\\mpl\\test_gridliner\\gridliner_labels_tight.png -> build\\lib.win-amd64-cpython-39\\cartopy\\tests\\mpl\\baseline_images\\mpl\\test_gridliner\n",
      "  copying lib\\cartopy\\tests\\mpl\\baseline_images\\mpl\\test_gridliner\\test_grid_labels_inline_AlbersEqualArea.png -> build\\lib.win-amd64-cpython-39\\cartopy\\tests\\mpl\\baseline_images\\mpl\\test_gridliner\n",
      "  copying lib\\cartopy\\tests\\mpl\\baseline_images\\mpl\\test_gridliner\\test_grid_labels_inline_AzimuthalEquidistant.png -> build\\lib.win-amd64-cpython-39\\cartopy\\tests\\mpl\\baseline_images\\mpl\\test_gridliner\n",
      "  copying lib\\cartopy\\tests\\mpl\\baseline_images\\mpl\\test_gridliner\\test_grid_labels_inline_EuroPP.png -> build\\lib.win-amd64-cpython-39\\cartopy\\tests\\mpl\\baseline_images\\mpl\\test_gridliner\n",
      "  copying lib\\cartopy\\tests\\mpl\\baseline_images\\mpl\\test_gridliner\\test_grid_labels_inline_Geostationary.png -> build\\lib.win-amd64-cpython-39\\cartopy\\tests\\mpl\\baseline_images\\mpl\\test_gridliner\n",
      "  copying lib\\cartopy\\tests\\mpl\\baseline_images\\mpl\\test_gridliner\\test_grid_labels_inline_Gnomonic.png -> build\\lib.win-amd64-cpython-39\\cartopy\\tests\\mpl\\baseline_images\\mpl\\test_gridliner\n",
      "  copying lib\\cartopy\\tests\\mpl\\baseline_images\\mpl\\test_gridliner\\test_grid_labels_inline_InterruptedGoodeHomolosine.png -> build\\lib.win-amd64-cpython-39\\cartopy\\tests\\mpl\\baseline_images\\mpl\\test_gridliner\n",
      "  copying lib\\cartopy\\tests\\mpl\\baseline_images\\mpl\\test_gridliner\\test_grid_labels_inline_LambertAzimuthalEqualArea.png -> build\\lib.win-amd64-cpython-39\\cartopy\\tests\\mpl\\baseline_images\\mpl\\test_gridliner\n",
      "  copying lib\\cartopy\\tests\\mpl\\baseline_images\\mpl\\test_gridliner\\test_grid_labels_inline_LambertConformal.png -> build\\lib.win-amd64-cpython-39\\cartopy\\tests\\mpl\\baseline_images\\mpl\\test_gridliner\n",
      "  copying lib\\cartopy\\tests\\mpl\\baseline_images\\mpl\\test_gridliner\\test_grid_labels_inline_LambertCylindrical.png -> build\\lib.win-amd64-cpython-39\\cartopy\\tests\\mpl\\baseline_images\\mpl\\test_gridliner\n",
      "  copying lib\\cartopy\\tests\\mpl\\baseline_images\\mpl\\test_gridliner\\test_grid_labels_inline_Mercator.png -> build\\lib.win-amd64-cpython-39\\cartopy\\tests\\mpl\\baseline_images\\mpl\\test_gridliner\n",
      "  copying lib\\cartopy\\tests\\mpl\\baseline_images\\mpl\\test_gridliner\\test_grid_labels_inline_Miller.png -> build\\lib.win-amd64-cpython-39\\cartopy\\tests\\mpl\\baseline_images\\mpl\\test_gridliner\n",
      "  copying lib\\cartopy\\tests\\mpl\\baseline_images\\mpl\\test_gridliner\\test_grid_labels_inline_Mollweide.png -> build\\lib.win-amd64-cpython-39\\cartopy\\tests\\mpl\\baseline_images\\mpl\\test_gridliner\n",
      "  copying lib\\cartopy\\tests\\mpl\\baseline_images\\mpl\\test_gridliner\\test_grid_labels_inline_NearsidePerspective.png -> build\\lib.win-amd64-cpython-39\\cartopy\\tests\\mpl\\baseline_images\\mpl\\test_gridliner\n",
      "  copying lib\\cartopy\\tests\\mpl\\baseline_images\\mpl\\test_gridliner\\test_grid_labels_inline_NorthPolarStereo.png -> build\\lib.win-amd64-cpython-39\\cartopy\\tests\\mpl\\baseline_images\\mpl\\test_gridliner\n",
      "  copying lib\\cartopy\\tests\\mpl\\baseline_images\\mpl\\test_gridliner\\test_grid_labels_inline_Orthographic.png -> build\\lib.win-amd64-cpython-39\\cartopy\\tests\\mpl\\baseline_images\\mpl\\test_gridliner\n",
      "  copying lib\\cartopy\\tests\\mpl\\baseline_images\\mpl\\test_gridliner\\test_grid_labels_inline_OSGB.png -> build\\lib.win-amd64-cpython-39\\cartopy\\tests\\mpl\\baseline_images\\mpl\\test_gridliner\n",
      "  copying lib\\cartopy\\tests\\mpl\\baseline_images\\mpl\\test_gridliner\\test_grid_labels_inline_OSNI.png -> build\\lib.win-amd64-cpython-39\\cartopy\\tests\\mpl\\baseline_images\\mpl\\test_gridliner\n",
      "  copying lib\\cartopy\\tests\\mpl\\baseline_images\\mpl\\test_gridliner\\test_grid_labels_inline_PlateCarree.png -> build\\lib.win-amd64-cpython-39\\cartopy\\tests\\mpl\\baseline_images\\mpl\\test_gridliner\n",
      "  copying lib\\cartopy\\tests\\mpl\\baseline_images\\mpl\\test_gridliner\\test_grid_labels_inline_Robinson.png -> build\\lib.win-amd64-cpython-39\\cartopy\\tests\\mpl\\baseline_images\\mpl\\test_gridliner\n",
      "  copying lib\\cartopy\\tests\\mpl\\baseline_images\\mpl\\test_gridliner\\test_grid_labels_inline_RotatedPole.png -> build\\lib.win-amd64-cpython-39\\cartopy\\tests\\mpl\\baseline_images\\mpl\\test_gridliner\n",
      "  copying lib\\cartopy\\tests\\mpl\\baseline_images\\mpl\\test_gridliner\\test_grid_labels_inline_Sinusoidal.png -> build\\lib.win-amd64-cpython-39\\cartopy\\tests\\mpl\\baseline_images\\mpl\\test_gridliner\n",
      "  copying lib\\cartopy\\tests\\mpl\\baseline_images\\mpl\\test_gridliner\\test_grid_labels_inline_SouthPolarStereo.png -> build\\lib.win-amd64-cpython-39\\cartopy\\tests\\mpl\\baseline_images\\mpl\\test_gridliner\n",
      "  copying lib\\cartopy\\tests\\mpl\\baseline_images\\mpl\\test_gridliner\\test_grid_labels_inline_Stereographic.png -> build\\lib.win-amd64-cpython-39\\cartopy\\tests\\mpl\\baseline_images\\mpl\\test_gridliner\n",
      "  copying lib\\cartopy\\tests\\mpl\\baseline_images\\mpl\\test_gridliner\\test_grid_labels_inline_usa_AlbersEqualArea.png -> build\\lib.win-amd64-cpython-39\\cartopy\\tests\\mpl\\baseline_images\\mpl\\test_gridliner\n",
      "  copying lib\\cartopy\\tests\\mpl\\baseline_images\\mpl\\test_gridliner\\test_grid_labels_inline_usa_AzimuthalEquidistant.png -> build\\lib.win-amd64-cpython-39\\cartopy\\tests\\mpl\\baseline_images\\mpl\\test_gridliner\n",
      "  copying lib\\cartopy\\tests\\mpl\\baseline_images\\mpl\\test_gridliner\\test_grid_labels_inline_usa_Geostationary.png -> build\\lib.win-amd64-cpython-39\\cartopy\\tests\\mpl\\baseline_images\\mpl\\test_gridliner\n",
      "  copying lib\\cartopy\\tests\\mpl\\baseline_images\\mpl\\test_gridliner\\test_grid_labels_inline_usa_Gnomonic.png -> build\\lib.win-amd64-cpython-39\\cartopy\\tests\\mpl\\baseline_images\\mpl\\test_gridliner\n",
      "  copying lib\\cartopy\\tests\\mpl\\baseline_images\\mpl\\test_gridliner\\test_grid_labels_inline_usa_InterruptedGoodeHomolosine.png -> build\\lib.win-amd64-cpython-39\\cartopy\\tests\\mpl\\baseline_images\\mpl\\test_gridliner\n",
      "  copying lib\\cartopy\\tests\\mpl\\baseline_images\\mpl\\test_gridliner\\test_grid_labels_inline_usa_LambertAzimuthalEqualArea.png -> build\\lib.win-amd64-cpython-39\\cartopy\\tests\\mpl\\baseline_images\\mpl\\test_gridliner\n",
      "  copying lib\\cartopy\\tests\\mpl\\baseline_images\\mpl\\test_gridliner\\test_grid_labels_inline_usa_LambertConformal.png -> build\\lib.win-amd64-cpython-39\\cartopy\\tests\\mpl\\baseline_images\\mpl\\test_gridliner\n",
      "  copying lib\\cartopy\\tests\\mpl\\baseline_images\\mpl\\test_gridliner\\test_grid_labels_inline_usa_LambertCylindrical.png -> build\\lib.win-amd64-cpython-39\\cartopy\\tests\\mpl\\baseline_images\\mpl\\test_gridliner\n",
      "  copying lib\\cartopy\\tests\\mpl\\baseline_images\\mpl\\test_gridliner\\test_grid_labels_inline_usa_Mercator.png -> build\\lib.win-amd64-cpython-39\\cartopy\\tests\\mpl\\baseline_images\\mpl\\test_gridliner\n",
      "  copying lib\\cartopy\\tests\\mpl\\baseline_images\\mpl\\test_gridliner\\test_grid_labels_inline_usa_Miller.png -> build\\lib.win-amd64-cpython-39\\cartopy\\tests\\mpl\\baseline_images\\mpl\\test_gridliner\n",
      "  copying lib\\cartopy\\tests\\mpl\\baseline_images\\mpl\\test_gridliner\\test_grid_labels_inline_usa_Mollweide.png -> build\\lib.win-amd64-cpython-39\\cartopy\\tests\\mpl\\baseline_images\\mpl\\test_gridliner\n",
      "  copying lib\\cartopy\\tests\\mpl\\baseline_images\\mpl\\test_gridliner\\test_grid_labels_inline_usa_NearsidePerspective.png -> build\\lib.win-amd64-cpython-39\\cartopy\\tests\\mpl\\baseline_images\\mpl\\test_gridliner\n",
      "  copying lib\\cartopy\\tests\\mpl\\baseline_images\\mpl\\test_gridliner\\test_grid_labels_inline_usa_NorthPolarStereo.png -> build\\lib.win-amd64-cpython-39\\cartopy\\tests\\mpl\\baseline_images\\mpl\\test_gridliner\n",
      "  copying lib\\cartopy\\tests\\mpl\\baseline_images\\mpl\\test_gridliner\\test_grid_labels_inline_usa_Orthographic.png -> build\\lib.win-amd64-cpython-39\\cartopy\\tests\\mpl\\baseline_images\\mpl\\test_gridliner\n",
      "  copying lib\\cartopy\\tests\\mpl\\baseline_images\\mpl\\test_gridliner\\test_grid_labels_inline_usa_PlateCarree.png -> build\\lib.win-amd64-cpython-39\\cartopy\\tests\\mpl\\baseline_images\\mpl\\test_gridliner\n",
      "  copying lib\\cartopy\\tests\\mpl\\baseline_images\\mpl\\test_gridliner\\test_grid_labels_inline_usa_Robinson.png -> build\\lib.win-amd64-cpython-39\\cartopy\\tests\\mpl\\baseline_images\\mpl\\test_gridliner\n",
      "  copying lib\\cartopy\\tests\\mpl\\baseline_images\\mpl\\test_gridliner\\test_grid_labels_inline_usa_RotatedPole.png -> build\\lib.win-amd64-cpython-39\\cartopy\\tests\\mpl\\baseline_images\\mpl\\test_gridliner\n",
      "  copying lib\\cartopy\\tests\\mpl\\baseline_images\\mpl\\test_gridliner\\test_grid_labels_inline_usa_Sinusoidal.png -> build\\lib.win-amd64-cpython-39\\cartopy\\tests\\mpl\\baseline_images\\mpl\\test_gridliner\n",
      "  copying lib\\cartopy\\tests\\mpl\\baseline_images\\mpl\\test_gridliner\\test_grid_labels_inline_usa_SouthPolarStereo.png -> build\\lib.win-amd64-cpython-39\\cartopy\\tests\\mpl\\baseline_images\\mpl\\test_gridliner\n",
      "  copying lib\\cartopy\\tests\\mpl\\baseline_images\\mpl\\test_gridliner\\test_grid_labels_inline_usa_Stereographic.png -> build\\lib.win-amd64-cpython-39\\cartopy\\tests\\mpl\\baseline_images\\mpl\\test_gridliner\n",
      "  creating build\\lib.win-amd64-cpython-39\\cartopy\\tests\\mpl\\baseline_images\\mpl\\test_images\n",
      "  copying lib\\cartopy\\tests\\mpl\\baseline_images\\mpl\\test_images\\image_merge.png -> build\\lib.win-amd64-cpython-39\\cartopy\\tests\\mpl\\baseline_images\\mpl\\test_images\n",
      "  copying lib\\cartopy\\tests\\mpl\\baseline_images\\mpl\\test_images\\image_nest.png -> build\\lib.win-amd64-cpython-39\\cartopy\\tests\\mpl\\baseline_images\\mpl\\test_images\n",
      "  copying lib\\cartopy\\tests\\mpl\\baseline_images\\mpl\\test_images\\imshow_natural_earth_ortho.png -> build\\lib.win-amd64-cpython-39\\cartopy\\tests\\mpl\\baseline_images\\mpl\\test_images\n",
      "  copying lib\\cartopy\\tests\\mpl\\baseline_images\\mpl\\test_images\\imshow_regional_projected.png -> build\\lib.win-amd64-cpython-39\\cartopy\\tests\\mpl\\baseline_images\\mpl\\test_images\n",
      "  copying lib\\cartopy\\tests\\mpl\\baseline_images\\mpl\\test_images\\web_tiles.png -> build\\lib.win-amd64-cpython-39\\cartopy\\tests\\mpl\\baseline_images\\mpl\\test_images\n",
      "  creating build\\lib.win-amd64-cpython-39\\cartopy\\tests\\mpl\\baseline_images\\mpl\\test_img_tiles2\n",
      "  copying lib\\cartopy\\tests\\mpl\\baseline_images\\mpl\\test_img_tiles2\\web_tiles.png -> build\\lib.win-amd64-cpython-39\\cartopy\\tests\\mpl\\baseline_images\\mpl\\test_img_tiles2\n",
      "  creating build\\lib.win-amd64-cpython-39\\cartopy\\tests\\mpl\\baseline_images\\mpl\\test_img_transform\n",
      "  copying lib\\cartopy\\tests\\mpl\\baseline_images\\mpl\\test_img_transform\\regrid_image.png -> build\\lib.win-amd64-cpython-39\\cartopy\\tests\\mpl\\baseline_images\\mpl\\test_img_transform\n",
      "  creating build\\lib.win-amd64-cpython-39\\cartopy\\tests\\mpl\\baseline_images\\mpl\\test_mpl_integration\n",
      "  copying lib\\cartopy\\tests\\mpl\\baseline_images\\mpl\\test_mpl_integration\\barbs_1d.png -> build\\lib.win-amd64-cpython-39\\cartopy\\tests\\mpl\\baseline_images\\mpl\\test_mpl_integration\n",
      "  copying lib\\cartopy\\tests\\mpl\\baseline_images\\mpl\\test_mpl_integration\\barbs_1d_transformed.png -> build\\lib.win-amd64-cpython-39\\cartopy\\tests\\mpl\\baseline_images\\mpl\\test_mpl_integration\n",
      "  copying lib\\cartopy\\tests\\mpl\\baseline_images\\mpl\\test_mpl_integration\\barbs_plate_carree.png -> build\\lib.win-amd64-cpython-39\\cartopy\\tests\\mpl\\baseline_images\\mpl\\test_mpl_integration\n",
      "  copying lib\\cartopy\\tests\\mpl\\baseline_images\\mpl\\test_mpl_integration\\barbs_regrid.png -> build\\lib.win-amd64-cpython-39\\cartopy\\tests\\mpl\\baseline_images\\mpl\\test_mpl_integration\n",
      "  copying lib\\cartopy\\tests\\mpl\\baseline_images\\mpl\\test_mpl_integration\\barbs_regrid_with_extent.png -> build\\lib.win-amd64-cpython-39\\cartopy\\tests\\mpl\\baseline_images\\mpl\\test_mpl_integration\n",
      "  copying lib\\cartopy\\tests\\mpl\\baseline_images\\mpl\\test_mpl_integration\\global_contourf_wrap.png -> build\\lib.win-amd64-cpython-39\\cartopy\\tests\\mpl\\baseline_images\\mpl\\test_mpl_integration\n",
      "  copying lib\\cartopy\\tests\\mpl\\baseline_images\\mpl\\test_mpl_integration\\global_contour_wrap.png -> build\\lib.win-amd64-cpython-39\\cartopy\\tests\\mpl\\baseline_images\\mpl\\test_mpl_integration\n",
      "  copying lib\\cartopy\\tests\\mpl\\baseline_images\\mpl\\test_mpl_integration\\global_hexbin_wrap.png -> build\\lib.win-amd64-cpython-39\\cartopy\\tests\\mpl\\baseline_images\\mpl\\test_mpl_integration\n",
      "  copying lib\\cartopy\\tests\\mpl\\baseline_images\\mpl\\test_mpl_integration\\global_pcolor_wrap.png -> build\\lib.win-amd64-cpython-39\\cartopy\\tests\\mpl\\baseline_images\\mpl\\test_mpl_integration\n",
      "  copying lib\\cartopy\\tests\\mpl\\baseline_images\\mpl\\test_mpl_integration\\global_scatter_wrap.png -> build\\lib.win-amd64-cpython-39\\cartopy\\tests\\mpl\\baseline_images\\mpl\\test_mpl_integration\n",
      "  copying lib\\cartopy\\tests\\mpl\\baseline_images\\mpl\\test_mpl_integration\\pcolormesh_global_wrap1.png -> build\\lib.win-amd64-cpython-39\\cartopy\\tests\\mpl\\baseline_images\\mpl\\test_mpl_integration\n",
      "  copying lib\\cartopy\\tests\\mpl\\baseline_images\\mpl\\test_mpl_integration\\pcolormesh_global_wrap2.png -> build\\lib.win-amd64-cpython-39\\cartopy\\tests\\mpl\\baseline_images\\mpl\\test_mpl_integration\n",
      "  copying lib\\cartopy\\tests\\mpl\\baseline_images\\mpl\\test_mpl_integration\\pcolormesh_global_wrap3.png -> build\\lib.win-amd64-cpython-39\\cartopy\\tests\\mpl\\baseline_images\\mpl\\test_mpl_integration\n",
      "  copying lib\\cartopy\\tests\\mpl\\baseline_images\\mpl\\test_mpl_integration\\pcolormesh_goode_wrap.png -> build\\lib.win-amd64-cpython-39\\cartopy\\tests\\mpl\\baseline_images\\mpl\\test_mpl_integration\n",
      "  copying lib\\cartopy\\tests\\mpl\\baseline_images\\mpl\\test_mpl_integration\\pcolormesh_limited_area_wrap.png -> build\\lib.win-amd64-cpython-39\\cartopy\\tests\\mpl\\baseline_images\\mpl\\test_mpl_integration\n",
      "  copying lib\\cartopy\\tests\\mpl\\baseline_images\\mpl\\test_mpl_integration\\pcolormesh_mercator_wrap.png -> build\\lib.win-amd64-cpython-39\\cartopy\\tests\\mpl\\baseline_images\\mpl\\test_mpl_integration\n",
      "  copying lib\\cartopy\\tests\\mpl\\baseline_images\\mpl\\test_mpl_integration\\pcolormesh_single_column_wrap.png -> build\\lib.win-amd64-cpython-39\\cartopy\\tests\\mpl\\baseline_images\\mpl\\test_mpl_integration\n",
      "  copying lib\\cartopy\\tests\\mpl\\baseline_images\\mpl\\test_mpl_integration\\quiver_plate_carree.png -> build\\lib.win-amd64-cpython-39\\cartopy\\tests\\mpl\\baseline_images\\mpl\\test_mpl_integration\n",
      "  copying lib\\cartopy\\tests\\mpl\\baseline_images\\mpl\\test_mpl_integration\\quiver_regrid.png -> build\\lib.win-amd64-cpython-39\\cartopy\\tests\\mpl\\baseline_images\\mpl\\test_mpl_integration\n",
      "  copying lib\\cartopy\\tests\\mpl\\baseline_images\\mpl\\test_mpl_integration\\quiver_regrid_with_extent.png -> build\\lib.win-amd64-cpython-39\\cartopy\\tests\\mpl\\baseline_images\\mpl\\test_mpl_integration\n",
      "  copying lib\\cartopy\\tests\\mpl\\baseline_images\\mpl\\test_mpl_integration\\quiver_rotated_pole.png -> build\\lib.win-amd64-cpython-39\\cartopy\\tests\\mpl\\baseline_images\\mpl\\test_mpl_integration\n",
      "  copying lib\\cartopy\\tests\\mpl\\baseline_images\\mpl\\test_mpl_integration\\simple_global.png -> build\\lib.win-amd64-cpython-39\\cartopy\\tests\\mpl\\baseline_images\\mpl\\test_mpl_integration\n",
      "  copying lib\\cartopy\\tests\\mpl\\baseline_images\\mpl\\test_mpl_integration\\streamplot.png -> build\\lib.win-amd64-cpython-39\\cartopy\\tests\\mpl\\baseline_images\\mpl\\test_mpl_integration\n",
      "  copying lib\\cartopy\\tests\\mpl\\baseline_images\\mpl\\test_mpl_integration\\test_annotate.png -> build\\lib.win-amd64-cpython-39\\cartopy\\tests\\mpl\\baseline_images\\mpl\\test_mpl_integration\n",
      "  copying lib\\cartopy\\tests\\mpl\\baseline_images\\mpl\\test_mpl_integration\\test_global_map_EckertI.png -> build\\lib.win-amd64-cpython-39\\cartopy\\tests\\mpl\\baseline_images\\mpl\\test_mpl_integration\n",
      "  copying lib\\cartopy\\tests\\mpl\\baseline_images\\mpl\\test_mpl_integration\\test_global_map_EckertII.png -> build\\lib.win-amd64-cpython-39\\cartopy\\tests\\mpl\\baseline_images\\mpl\\test_mpl_integration\n",
      "  copying lib\\cartopy\\tests\\mpl\\baseline_images\\mpl\\test_mpl_integration\\test_global_map_EckertIII.png -> build\\lib.win-amd64-cpython-39\\cartopy\\tests\\mpl\\baseline_images\\mpl\\test_mpl_integration\n",
      "  copying lib\\cartopy\\tests\\mpl\\baseline_images\\mpl\\test_mpl_integration\\test_global_map_EckertIV.png -> build\\lib.win-amd64-cpython-39\\cartopy\\tests\\mpl\\baseline_images\\mpl\\test_mpl_integration\n",
      "  copying lib\\cartopy\\tests\\mpl\\baseline_images\\mpl\\test_mpl_integration\\test_global_map_EckertV.png -> build\\lib.win-amd64-cpython-39\\cartopy\\tests\\mpl\\baseline_images\\mpl\\test_mpl_integration\n",
      "  copying lib\\cartopy\\tests\\mpl\\baseline_images\\mpl\\test_mpl_integration\\test_global_map_EckertVI.png -> build\\lib.win-amd64-cpython-39\\cartopy\\tests\\mpl\\baseline_images\\mpl\\test_mpl_integration\n",
      "  copying lib\\cartopy\\tests\\mpl\\baseline_images\\mpl\\test_mpl_integration\\test_global_map_EqualEarth.png -> build\\lib.win-amd64-cpython-39\\cartopy\\tests\\mpl\\baseline_images\\mpl\\test_mpl_integration\n",
      "  copying lib\\cartopy\\tests\\mpl\\baseline_images\\mpl\\test_mpl_integration\\test_global_map_Gnomonic.png -> build\\lib.win-amd64-cpython-39\\cartopy\\tests\\mpl\\baseline_images\\mpl\\test_mpl_integration\n",
      "  copying lib\\cartopy\\tests\\mpl\\baseline_images\\mpl\\test_mpl_integration\\test_global_map_InterruptedGoodeHomolosine.png -> build\\lib.win-amd64-cpython-39\\cartopy\\tests\\mpl\\baseline_images\\mpl\\test_mpl_integration\n",
      "  copying lib\\cartopy\\tests\\mpl\\baseline_images\\mpl\\test_mpl_integration\\test_global_map_LambertCylindrical.png -> build\\lib.win-amd64-cpython-39\\cartopy\\tests\\mpl\\baseline_images\\mpl\\test_mpl_integration\n",
      "  copying lib\\cartopy\\tests\\mpl\\baseline_images\\mpl\\test_mpl_integration\\test_global_map_Mercator.png -> build\\lib.win-amd64-cpython-39\\cartopy\\tests\\mpl\\baseline_images\\mpl\\test_mpl_integration\n",
      "  copying lib\\cartopy\\tests\\mpl\\baseline_images\\mpl\\test_mpl_integration\\test_global_map_Miller.png -> build\\lib.win-amd64-cpython-39\\cartopy\\tests\\mpl\\baseline_images\\mpl\\test_mpl_integration\n",
      "  copying lib\\cartopy\\tests\\mpl\\baseline_images\\mpl\\test_mpl_integration\\test_global_map_Mollweide.png -> build\\lib.win-amd64-cpython-39\\cartopy\\tests\\mpl\\baseline_images\\mpl\\test_mpl_integration\n",
      "  copying lib\\cartopy\\tests\\mpl\\baseline_images\\mpl\\test_mpl_integration\\test_global_map_NorthPolarStereo.png -> build\\lib.win-amd64-cpython-39\\cartopy\\tests\\mpl\\baseline_images\\mpl\\test_mpl_integration\n",
      "  copying lib\\cartopy\\tests\\mpl\\baseline_images\\mpl\\test_mpl_integration\\test_global_map_Orthographic.png -> build\\lib.win-amd64-cpython-39\\cartopy\\tests\\mpl\\baseline_images\\mpl\\test_mpl_integration\n",
      "  copying lib\\cartopy\\tests\\mpl\\baseline_images\\mpl\\test_mpl_integration\\test_global_map_OSGB.png -> build\\lib.win-amd64-cpython-39\\cartopy\\tests\\mpl\\baseline_images\\mpl\\test_mpl_integration\n",
      "  copying lib\\cartopy\\tests\\mpl\\baseline_images\\mpl\\test_mpl_integration\\test_global_map_PlateCarree.png -> build\\lib.win-amd64-cpython-39\\cartopy\\tests\\mpl\\baseline_images\\mpl\\test_mpl_integration\n",
      "  copying lib\\cartopy\\tests\\mpl\\baseline_images\\mpl\\test_mpl_integration\\test_global_map_Robinson.png -> build\\lib.win-amd64-cpython-39\\cartopy\\tests\\mpl\\baseline_images\\mpl\\test_mpl_integration\n",
      "  copying lib\\cartopy\\tests\\mpl\\baseline_images\\mpl\\test_mpl_integration\\test_global_map_RotatedPole.png -> build\\lib.win-amd64-cpython-39\\cartopy\\tests\\mpl\\baseline_images\\mpl\\test_mpl_integration\n",
      "  copying lib\\cartopy\\tests\\mpl\\baseline_images\\mpl\\test_mpl_integration\\test_global_map_SouthPolarStereo.png -> build\\lib.win-amd64-cpython-39\\cartopy\\tests\\mpl\\baseline_images\\mpl\\test_mpl_integration\n",
      "  copying lib\\cartopy\\tests\\mpl\\baseline_images\\mpl\\test_mpl_integration\\test_global_map_Stereographic.png -> build\\lib.win-amd64-cpython-39\\cartopy\\tests\\mpl\\baseline_images\\mpl\\test_mpl_integration\n",
      "  copying lib\\cartopy\\tests\\mpl\\baseline_images\\mpl\\test_mpl_integration\\test_global_map_TransverseMercator.png -> build\\lib.win-amd64-cpython-39\\cartopy\\tests\\mpl\\baseline_images\\mpl\\test_mpl_integration\n",
      "  creating build\\lib.win-amd64-cpython-39\\cartopy\\tests\\mpl\\baseline_images\\mpl\\test_nightshade\n",
      "  copying lib\\cartopy\\tests\\mpl\\baseline_images\\mpl\\test_nightshade\\nightshade_platecarree.png -> build\\lib.win-amd64-cpython-39\\cartopy\\tests\\mpl\\baseline_images\\mpl\\test_nightshade\n",
      "  creating build\\lib.win-amd64-cpython-39\\cartopy\\tests\\mpl\\baseline_images\\mpl\\test_shapely_to_mpl\n",
      "  copying lib\\cartopy\\tests\\mpl\\baseline_images\\mpl\\test_shapely_to_mpl\\contour_with_interiors.png -> build\\lib.win-amd64-cpython-39\\cartopy\\tests\\mpl\\baseline_images\\mpl\\test_shapely_to_mpl\n",
      "  copying lib\\cartopy\\tests\\mpl\\baseline_images\\mpl\\test_shapely_to_mpl\\poly_interiors.png -> build\\lib.win-amd64-cpython-39\\cartopy\\tests\\mpl\\baseline_images\\mpl\\test_shapely_to_mpl\n",
      "  creating build\\lib.win-amd64-cpython-39\\cartopy\\tests\\mpl\\baseline_images\\mpl\\test_ticks\n",
      "  copying lib\\cartopy\\tests\\mpl\\baseline_images\\mpl\\test_ticks\\xticks_cylindrical.png -> build\\lib.win-amd64-cpython-39\\cartopy\\tests\\mpl\\baseline_images\\mpl\\test_ticks\n",
      "  copying lib\\cartopy\\tests\\mpl\\baseline_images\\mpl\\test_ticks\\xticks_no_transform.png -> build\\lib.win-amd64-cpython-39\\cartopy\\tests\\mpl\\baseline_images\\mpl\\test_ticks\n",
      "  copying lib\\cartopy\\tests\\mpl\\baseline_images\\mpl\\test_ticks\\xyticks.png -> build\\lib.win-amd64-cpython-39\\cartopy\\tests\\mpl\\baseline_images\\mpl\\test_ticks\n",
      "  copying lib\\cartopy\\tests\\mpl\\baseline_images\\mpl\\test_ticks\\yticks_cylindrical.png -> build\\lib.win-amd64-cpython-39\\cartopy\\tests\\mpl\\baseline_images\\mpl\\test_ticks\n",
      "  copying lib\\cartopy\\tests\\mpl\\baseline_images\\mpl\\test_ticks\\yticks_no_transform.png -> build\\lib.win-amd64-cpython-39\\cartopy\\tests\\mpl\\baseline_images\\mpl\\test_ticks\n",
      "  creating build\\lib.win-amd64-cpython-39\\cartopy\\tests\\mpl\\baseline_images\\mpl\\test_web_services\n",
      "  copying lib\\cartopy\\tests\\mpl\\baseline_images\\mpl\\test_web_services\\wms.png -> build\\lib.win-amd64-cpython-39\\cartopy\\tests\\mpl\\baseline_images\\mpl\\test_web_services\n",
      "  copying lib\\cartopy\\tests\\mpl\\baseline_images\\mpl\\test_web_services\\wmts.png -> build\\lib.win-amd64-cpython-39\\cartopy\\tests\\mpl\\baseline_images\\mpl\\test_web_services\n",
      "  creating build\\lib.win-amd64-cpython-39\\cartopy\\data\n",
      "  creating build\\lib.win-amd64-cpython-39\\cartopy\\data\\raster\n",
      "  creating build\\lib.win-amd64-cpython-39\\cartopy\\data\\raster\\natural_earth\n"
     ]
    },
    {
     "name": "stderr",
     "output_type": "stream",
     "text": [
      "  copying lib\\cartopy\\data\\raster\\natural_earth\\50-natural-earth-1-downsampled.png -> build\\lib.win-amd64-cpython-39\\cartopy\\data\\raster\\natural_earth\n",
      "  copying lib\\cartopy\\data\\raster\\natural_earth\\images.json -> build\\lib.win-amd64-cpython-39\\cartopy\\data\\raster\\natural_earth\n",
      "  creating build\\lib.win-amd64-cpython-39\\cartopy\\data\\raster\\sample\n",
      "  copying lib\\cartopy\\data\\raster\\sample\\Miriam.A2012270.2050.2km.jpg -> build\\lib.win-amd64-cpython-39\\cartopy\\data\\raster\\sample\n",
      "  copying lib\\cartopy\\data\\raster\\sample\\Miriam.A2012270.2050.2km.README.txt -> build\\lib.win-amd64-cpython-39\\cartopy\\data\\raster\\sample\n",
      "  creating build\\lib.win-amd64-cpython-39\\cartopy\\data\\netcdf\n",
      "  copying lib\\cartopy\\data\\netcdf\\HadISST1_SST_update.nc -> build\\lib.win-amd64-cpython-39\\cartopy\\data\\netcdf\n",
      "  copying lib\\cartopy\\data\\netcdf\\HadISST1_SST_update.README.txt -> build\\lib.win-amd64-cpython-39\\cartopy\\data\\netcdf\n",
      "  creating build\\lib.win-amd64-cpython-39\\cartopy\\data\\shapefiles\n",
      "  creating build\\lib.win-amd64-cpython-39\\cartopy\\data\\shapefiles\\gshhs\n",
      "  copying lib\\cartopy\\data\\shapefiles\\gshhs\\README.TXT -> build\\lib.win-amd64-cpython-39\\cartopy\\data\\shapefiles\\gshhs\n",
      "  creating build\\lib.win-amd64-cpython-39\\cartopy\\data\\shapefiles\\gshhs\\c\n",
      "  copying lib\\cartopy\\data\\shapefiles\\gshhs\\c\\GSHHS_c_L1.dbf -> build\\lib.win-amd64-cpython-39\\cartopy\\data\\shapefiles\\gshhs\\c\n",
      "  copying lib\\cartopy\\data\\shapefiles\\gshhs\\c\\GSHHS_c_L1.shp -> build\\lib.win-amd64-cpython-39\\cartopy\\data\\shapefiles\\gshhs\\c\n",
      "  copying lib\\cartopy\\data\\shapefiles\\gshhs\\c\\GSHHS_c_L1.shx -> build\\lib.win-amd64-cpython-39\\cartopy\\data\\shapefiles\\gshhs\\c\n",
      "  creating build\\lib.win-amd64-cpython-39\\cartopy\\data\\shapefiles\\gshhs\\l\n",
      "  copying lib\\cartopy\\data\\shapefiles\\gshhs\\l\\GSHHS_l_L2.dbf -> build\\lib.win-amd64-cpython-39\\cartopy\\data\\shapefiles\\gshhs\\l\n",
      "  copying lib\\cartopy\\data\\shapefiles\\gshhs\\l\\GSHHS_l_L2.shp -> build\\lib.win-amd64-cpython-39\\cartopy\\data\\shapefiles\\gshhs\\l\n",
      "  copying lib\\cartopy\\data\\shapefiles\\gshhs\\l\\GSHHS_l_L2.shx -> build\\lib.win-amd64-cpython-39\\cartopy\\data\\shapefiles\\gshhs\\l\n",
      "  creating build\\lib.win-amd64-cpython-39\\cartopy\\tests\\lakes_shapefile\n",
      "  copying lib\\cartopy\\tests\\lakes_shapefile\\ne_110m_lakes.dbf -> build\\lib.win-amd64-cpython-39\\cartopy\\tests\\lakes_shapefile\n",
      "  copying lib\\cartopy\\tests\\lakes_shapefile\\ne_110m_lakes.shp -> build\\lib.win-amd64-cpython-39\\cartopy\\tests\\lakes_shapefile\n",
      "  copying lib\\cartopy\\tests\\lakes_shapefile\\ne_110m_lakes.shx -> build\\lib.win-amd64-cpython-39\\cartopy\\tests\\lakes_shapefile\n",
      "  copying lib\\cartopy\\io\\srtm.npz -> build\\lib.win-amd64-cpython-39\\cartopy\\io\n",
      "  running build_ext\n",
      "  building 'cartopy.trace' extension\n",
      "  error: Microsoft Visual C++ 14.0 or greater is required. Get it with \"Microsoft C++ Build Tools\": https://visualstudio.microsoft.com/visual-cpp-build-tools/\n",
      "  ----------------------------------------\n",
      "  ERROR: Failed building wheel for Cartopy\n",
      "ERROR: Could not build wheels for Cartopy which use PEP 517 and cannot be installed directly\n"
     ]
    }
   ],
   "source": [
    "pip install Cartopy"
   ]
  },
  {
   "cell_type": "code",
   "execution_count": 128,
   "id": "334c9883",
   "metadata": {},
   "outputs": [
    {
     "name": "stdout",
     "output_type": "stream",
     "text": [
      "Requirement already satisfied: geopandas in c:\\users\\user\\anaconda3\\lib\\site-packages (0.13.0)\n",
      "Requirement already satisfied: pandas>=1.1.0 in c:\\users\\user\\anaconda3\\lib\\site-packages (from geopandas) (1.3.4)\n",
      "Requirement already satisfied: fiona>=1.8.19 in c:\\users\\user\\anaconda3\\lib\\site-packages (from geopandas) (1.9.4.post1)\n",
      "Requirement already satisfied: pyproj>=3.0.1 in c:\\users\\user\\anaconda3\\lib\\site-packages (from geopandas) (3.5.0)\n",
      "Requirement already satisfied: shapely>=1.7.1 in c:\\users\\user\\anaconda3\\lib\\site-packages (from geopandas) (2.0.1)\n",
      "Requirement already satisfied: packaging in c:\\users\\user\\anaconda3\\lib\\site-packages (from geopandas) (23.1)\n",
      "Requirement already satisfied: certifi in c:\\users\\user\\anaconda3\\lib\\site-packages (from fiona>=1.8.19->geopandas) (2021.10.8)\n",
      "Requirement already satisfied: click~=8.0 in c:\\users\\user\\anaconda3\\lib\\site-packages (from fiona>=1.8.19->geopandas) (8.0.3)\n",
      "Requirement already satisfied: attrs>=19.2.0 in c:\\users\\user\\anaconda3\\lib\\site-packages (from fiona>=1.8.19->geopandas) (21.2.0)\n",
      "Requirement already satisfied: cligj>=0.5 in c:\\users\\user\\anaconda3\\lib\\site-packages (from fiona>=1.8.19->geopandas) (0.7.2)\n",
      "Requirement already satisfied: importlib-metadata in c:\\users\\user\\anaconda3\\lib\\site-packages (from fiona>=1.8.19->geopandas) (4.8.1)\n",
      "Requirement already satisfied: click-plugins>=1.0 in c:\\users\\user\\anaconda3\\lib\\site-packages (from fiona>=1.8.19->geopandas) (1.1.1)\n",
      "Requirement already satisfied: six in c:\\users\\user\\anaconda3\\lib\\site-packages (from fiona>=1.8.19->geopandas) (1.16.0)\n",
      "Requirement already satisfied: colorama in c:\\users\\user\\anaconda3\\lib\\site-packages (from click~=8.0->fiona>=1.8.19->geopandas) (0.4.4)\n",
      "Requirement already satisfied: numpy>=1.17.3 in c:\\users\\user\\anaconda3\\lib\\site-packages (from pandas>=1.1.0->geopandas) (1.22.4)\n",
      "Requirement already satisfied: pytz>=2017.3 in c:\\users\\user\\anaconda3\\lib\\site-packages (from pandas>=1.1.0->geopandas) (2021.3)\n",
      "Requirement already satisfied: python-dateutil>=2.7.3 in c:\\users\\user\\anaconda3\\lib\\site-packages (from pandas>=1.1.0->geopandas) (2.8.2)\n",
      "Requirement already satisfied: zipp>=0.5 in c:\\users\\user\\anaconda3\\lib\\site-packages (from importlib-metadata->fiona>=1.8.19->geopandas) (3.6.0)\n",
      "Note: you may need to restart the kernel to use updated packages.\n"
     ]
    }
   ],
   "source": [
    "pip install geopandas"
   ]
  },
  {
   "cell_type": "code",
   "execution_count": 129,
   "id": "c80f9614",
   "metadata": {},
   "outputs": [
    {
     "name": "stderr",
     "output_type": "stream",
     "text": [
      "C:\\Users\\USER\\AppData\\Local\\Temp/ipykernel_2448/807598787.py:12: FutureWarning: The geopandas.dataset module is deprecated and will be removed in GeoPandas 1.0. You can get the original 'naturalearth_lowres' data from https://www.naturalearthdata.com/downloads/110m-cultural-vectors/.\n",
      "  world = gpd.read_file(gpd.datasets.get_path('naturalearth_lowres'))\n"
     ]
    },
    {
     "data": {
      "image/png": "[encoded data removed]",
      "text/plain": [
       "<Figure size 432x288 with 1 Axes>"
      ]
     },
     "metadata": {
      "needs_background": "light"
     },
     "output_type": "display_data"
    }
   ],
   "source": [
    "import geopandas as gpd\n",
    "import matplotlib.pyplot as plt\n",
    "\n",
    "# Latitude and Longitude coordinates\n",
    "latitudes = [40.7128, 51.5074, 35.6895]  # Example latitude values (New York, London, Tokyo)\n",
    "longitudes = [-74.0060, -0.1278, 139.6917]  # Example longitude values (New York, London, Tokyo)\n",
    "\n",
    "# Create a GeoDataFrame from the coordinates\n",
    "points = gpd.GeoDataFrame(geometry=gpd.points_from_xy(longitudes, latitudes))\n",
    "\n",
    "# Load a world map shapefile\n",
    "world = gpd.read_file(gpd.datasets.get_path('naturalearth_lowres'))\n",
    "\n",
    "# Create a figure and axis\n",
    "fig, ax = plt.subplots()\n",
    "\n",
    "# Plot the world map\n",
    "world.plot(ax=ax, color='lightgray')\n",
    "\n",
    "# Plot the points on the map\n",
    "points.plot(ax=ax, markersize=50, color='red')\n",
    "\n",
    "# Show the map\n",
    "plt.show()\n"
   ]
  },
  {
   "cell_type": "code",
   "execution_count": 130,
   "id": "740df373",
   "metadata": {},
   "outputs": [
    {
     "data": {
      "text/plain": [
       "11.707240104675293    3323\n",
       "12.090120315551758    2579\n",
       "7.4019598960876465    2452\n",
       "11.831100463867188    2376\n",
       "12.595190048217773    2326\n",
       "                      ... \n",
       "10.813901901245115     172\n",
       "13.062664985656738     171\n",
       "11.285202026367188     170\n",
       "12.201859474182127     168\n",
       "11.85260253             78\n",
       "Name: latitude, Length: 72, dtype: int64"
      ]
     },
     "execution_count": 130,
     "metadata": {},
     "output_type": "execute_result"
    }
   ],
   "source": [
    "df['latitude'].value_counts()"
   ]
  },
  {
   "cell_type": "code",
   "execution_count": 132,
   "id": "578584d8",
   "metadata": {},
   "outputs": [
    {
     "data": {
      "image/png": "[encoded data removed]",
      "text/plain": [
       "<Figure size 432x288 with 1 Axes>"
      ]
     },
     "metadata": {
      "needs_background": "light"
     },
     "output_type": "display_data"
    }
   ],
   "source": [
    "import matplotlib.pyplot as plt\n",
    "\n",
    "# Example dataset\n",
    "data = df\n",
    "\n",
    "# Count the occurrences of each value\n",
    "value_counts = {}\n",
    "for value in data:\n",
    "    value_counts[value] = value_counts.get(value, 0) + 1\n",
    "\n",
    "# Sort the values in descending order based on their occurrences\n",
    "sorted_values = sorted(value_counts.items(), key=lambda x: x[1], reverse=True)\n",
    "\n",
    "# Extract the first 10 highest occurring values and their counts\n",
    "top_values = sorted_values[:10]\n",
    "values, counts = zip(*top_values)\n",
    "\n",
    "# Create a bar chart\n",
    "plt.bar(values, counts)\n",
    "\n",
    "# Set the x-axis label and y-axis label\n",
    "plt.xlabel('Values')\n",
    "plt.ylabel('Occurrences')\n",
    "\n",
    "# Set the title of the bar chart\n",
    "plt.title('Top 10 Occurring Values')\n",
    "\n",
    "# Show the bar chart\n",
    "plt.show()\n"
   ]
  },
  {
   "cell_type": "code",
   "execution_count": null,
   "id": "180d09c4",
   "metadata": {},
   "outputs": [],
   "source": [
    "df['VendorID'].unique()\n",
    "df['VendorID'].value_counts()b\n",
    "sns.countplot(x=\"VendorID\", data=df)\n",
    "df['VendorID'].value_counts().plot(kind='pie',autopct='%1.1f%%')"
   ]
  },
  {
   "cell_type": "code",
   "execution_count": 133,
   "id": "215d8085",
   "metadata": {},
   "outputs": [
    {
     "ename": "IndexError",
     "evalue": "index 0 is out of bounds for axis 0 with size 0",
     "output_type": "error",
     "traceback": [
      "\u001b[1;31m---------------------------------------------------------------------------\u001b[0m",
      "\u001b[1;31mIndexError\u001b[0m                                Traceback (most recent call last)",
      "\u001b[1;32m~\\AppData\\Local\\Temp/ipykernel_2448/413508370.py\u001b[0m in \u001b[0;36m<module>\u001b[1;34m\u001b[0m\n\u001b[0;32m      1\u001b[0m \u001b[0mplt\u001b[0m\u001b[1;33m.\u001b[0m\u001b[0mfigure\u001b[0m\u001b[1;33m(\u001b[0m\u001b[0mfigsize\u001b[0m\u001b[1;33m=\u001b[0m\u001b[1;33m(\u001b[0m\u001b[1;36m12\u001b[0m\u001b[1;33m,\u001b[0m\u001b[1;36m6\u001b[0m\u001b[1;33m)\u001b[0m\u001b[1;33m)\u001b[0m\u001b[1;33m\u001b[0m\u001b[1;33m\u001b[0m\u001b[0m\n\u001b[1;32m----> 2\u001b[1;33m \u001b[0mdf\u001b[0m\u001b[1;33m[\u001b[0m\u001b[0mdf\u001b[0m\u001b[1;33m[\u001b[0m\u001b[1;34m\"commodity\"\u001b[0m\u001b[1;33m]\u001b[0m\u001b[1;33m==\u001b[0m\u001b[1;34m\"category\"\u001b[0m\u001b[1;33m]\u001b[0m\u001b[1;33m[\u001b[0m\u001b[1;34m\"year\"\u001b[0m\u001b[1;33m]\u001b[0m\u001b[1;33m.\u001b[0m\u001b[0mvalue_counts\u001b[0m\u001b[1;33m(\u001b[0m\u001b[1;33m)\u001b[0m\u001b[1;33m[\u001b[0m\u001b[1;33m:\u001b[0m\u001b[1;36m20\u001b[0m\u001b[1;33m]\u001b[0m\u001b[1;33m.\u001b[0m\u001b[0mplot\u001b[0m\u001b[1;33m(\u001b[0m\u001b[0mkind\u001b[0m\u001b[1;33m=\u001b[0m\u001b[1;34m\"bar\"\u001b[0m\u001b[1;33m,\u001b[0m\u001b[0mcolor\u001b[0m\u001b[1;33m=\u001b[0m\u001b[1;34m\"Red\"\u001b[0m\u001b[1;33m)\u001b[0m\u001b[1;33m\u001b[0m\u001b[1;33m\u001b[0m\u001b[0m\n\u001b[0m\u001b[0;32m      3\u001b[0m \u001b[0mplt\u001b[0m\u001b[1;33m.\u001b[0m\u001b[0mtitle\u001b[0m\u001b[1;33m(\u001b[0m\u001b[1;34m\"Frequency of Movies which were released in different years and are available on Netflix\"\u001b[0m\u001b[1;33m)\u001b[0m\u001b[1;33m\u001b[0m\u001b[1;33m\u001b[0m\u001b[0m\n",
      "\u001b[1;32m~\\anaconda3\\lib\\site-packages\\pandas\\plotting\\_core.py\u001b[0m in \u001b[0;36m__call__\u001b[1;34m(self, *args, **kwargs)\u001b[0m\n\u001b[0;32m    970\u001b[0m                     \u001b[0mdata\u001b[0m\u001b[1;33m.\u001b[0m\u001b[0mcolumns\u001b[0m \u001b[1;33m=\u001b[0m \u001b[0mlabel_name\u001b[0m\u001b[1;33m\u001b[0m\u001b[1;33m\u001b[0m\u001b[0m\n\u001b[0;32m    971\u001b[0m \u001b[1;33m\u001b[0m\u001b[0m\n\u001b[1;32m--> 972\u001b[1;33m         \u001b[1;32mreturn\u001b[0m \u001b[0mplot_backend\u001b[0m\u001b[1;33m.\u001b[0m\u001b[0mplot\u001b[0m\u001b[1;33m(\u001b[0m\u001b[0mdata\u001b[0m\u001b[1;33m,\u001b[0m \u001b[0mkind\u001b[0m\u001b[1;33m=\u001b[0m\u001b[0mkind\u001b[0m\u001b[1;33m,\u001b[0m \u001b[1;33m**\u001b[0m\u001b[0mkwargs\u001b[0m\u001b[1;33m)\u001b[0m\u001b[1;33m\u001b[0m\u001b[1;33m\u001b[0m\u001b[0m\n\u001b[0m\u001b[0;32m    973\u001b[0m \u001b[1;33m\u001b[0m\u001b[0m\n\u001b[0;32m    974\u001b[0m     \u001b[0m__call__\u001b[0m\u001b[1;33m.\u001b[0m\u001b[0m__doc__\u001b[0m \u001b[1;33m=\u001b[0m \u001b[0m__doc__\u001b[0m\u001b[1;33m\u001b[0m\u001b[1;33m\u001b[0m\u001b[0m\n",
      "\u001b[1;32m~\\anaconda3\\lib\\site-packages\\pandas\\plotting\\_matplotlib\\__init__.py\u001b[0m in \u001b[0;36mplot\u001b[1;34m(data, kind, **kwargs)\u001b[0m\n\u001b[0;32m     69\u001b[0m             \u001b[0mkwargs\u001b[0m\u001b[1;33m[\u001b[0m\u001b[1;34m\"ax\"\u001b[0m\u001b[1;33m]\u001b[0m \u001b[1;33m=\u001b[0m \u001b[0mgetattr\u001b[0m\u001b[1;33m(\u001b[0m\u001b[0max\u001b[0m\u001b[1;33m,\u001b[0m \u001b[1;34m\"left_ax\"\u001b[0m\u001b[1;33m,\u001b[0m \u001b[0max\u001b[0m\u001b[1;33m)\u001b[0m\u001b[1;33m\u001b[0m\u001b[1;33m\u001b[0m\u001b[0m\n\u001b[0;32m     70\u001b[0m     \u001b[0mplot_obj\u001b[0m \u001b[1;33m=\u001b[0m \u001b[0mPLOT_CLASSES\u001b[0m\u001b[1;33m[\u001b[0m\u001b[0mkind\u001b[0m\u001b[1;33m]\u001b[0m\u001b[1;33m(\u001b[0m\u001b[0mdata\u001b[0m\u001b[1;33m,\u001b[0m \u001b[1;33m**\u001b[0m\u001b[0mkwargs\u001b[0m\u001b[1;33m)\u001b[0m\u001b[1;33m\u001b[0m\u001b[1;33m\u001b[0m\u001b[0m\n\u001b[1;32m---> 71\u001b[1;33m     \u001b[0mplot_obj\u001b[0m\u001b[1;33m.\u001b[0m\u001b[0mgenerate\u001b[0m\u001b[1;33m(\u001b[0m\u001b[1;33m)\u001b[0m\u001b[1;33m\u001b[0m\u001b[1;33m\u001b[0m\u001b[0m\n\u001b[0m\u001b[0;32m     72\u001b[0m     \u001b[0mplot_obj\u001b[0m\u001b[1;33m.\u001b[0m\u001b[0mdraw\u001b[0m\u001b[1;33m(\u001b[0m\u001b[1;33m)\u001b[0m\u001b[1;33m\u001b[0m\u001b[1;33m\u001b[0m\u001b[0m\n\u001b[0;32m     73\u001b[0m     \u001b[1;32mreturn\u001b[0m \u001b[0mplot_obj\u001b[0m\u001b[1;33m.\u001b[0m\u001b[0mresult\u001b[0m\u001b[1;33m\u001b[0m\u001b[1;33m\u001b[0m\u001b[0m\n",
      "\u001b[1;32m~\\anaconda3\\lib\\site-packages\\pandas\\plotting\\_matplotlib\\core.py\u001b[0m in \u001b[0;36mgenerate\u001b[1;34m(self)\u001b[0m\n\u001b[0;32m    293\u001b[0m         \u001b[1;32mfor\u001b[0m \u001b[0max\u001b[0m \u001b[1;32min\u001b[0m \u001b[0mself\u001b[0m\u001b[1;33m.\u001b[0m\u001b[0maxes\u001b[0m\u001b[1;33m:\u001b[0m\u001b[1;33m\u001b[0m\u001b[1;33m\u001b[0m\u001b[0m\n\u001b[0;32m    294\u001b[0m             \u001b[0mself\u001b[0m\u001b[1;33m.\u001b[0m\u001b[0m_post_plot_logic_common\u001b[0m\u001b[1;33m(\u001b[0m\u001b[0max\u001b[0m\u001b[1;33m,\u001b[0m \u001b[0mself\u001b[0m\u001b[1;33m.\u001b[0m\u001b[0mdata\u001b[0m\u001b[1;33m)\u001b[0m\u001b[1;33m\u001b[0m\u001b[1;33m\u001b[0m\u001b[0m\n\u001b[1;32m--> 295\u001b[1;33m             \u001b[0mself\u001b[0m\u001b[1;33m.\u001b[0m\u001b[0m_post_plot_logic\u001b[0m\u001b[1;33m(\u001b[0m\u001b[0max\u001b[0m\u001b[1;33m,\u001b[0m \u001b[0mself\u001b[0m\u001b[1;33m.\u001b[0m\u001b[0mdata\u001b[0m\u001b[1;33m)\u001b[0m\u001b[1;33m\u001b[0m\u001b[1;33m\u001b[0m\u001b[0m\n\u001b[0m\u001b[0;32m    296\u001b[0m \u001b[1;33m\u001b[0m\u001b[0m\n\u001b[0;32m    297\u001b[0m     \u001b[1;32mdef\u001b[0m \u001b[0m_args_adjust\u001b[0m\u001b[1;33m(\u001b[0m\u001b[0mself\u001b[0m\u001b[1;33m)\u001b[0m\u001b[1;33m:\u001b[0m\u001b[1;33m\u001b[0m\u001b[1;33m\u001b[0m\u001b[0m\n",
      "\u001b[1;32m~\\anaconda3\\lib\\site-packages\\pandas\\plotting\\_matplotlib\\core.py\u001b[0m in \u001b[0;36m_post_plot_logic\u001b[1;34m(self, ax, data)\u001b[0m\n\u001b[0;32m   1526\u001b[0m         \u001b[0mname\u001b[0m \u001b[1;33m=\u001b[0m \u001b[0mself\u001b[0m\u001b[1;33m.\u001b[0m\u001b[0m_get_index_name\u001b[0m\u001b[1;33m(\u001b[0m\u001b[1;33m)\u001b[0m\u001b[1;33m\u001b[0m\u001b[1;33m\u001b[0m\u001b[0m\n\u001b[0;32m   1527\u001b[0m \u001b[1;33m\u001b[0m\u001b[0m\n\u001b[1;32m-> 1528\u001b[1;33m         \u001b[0ms_edge\u001b[0m \u001b[1;33m=\u001b[0m \u001b[0mself\u001b[0m\u001b[1;33m.\u001b[0m\u001b[0max_pos\u001b[0m\u001b[1;33m[\u001b[0m\u001b[1;36m0\u001b[0m\u001b[1;33m]\u001b[0m \u001b[1;33m-\u001b[0m \u001b[1;36m0.25\u001b[0m \u001b[1;33m+\u001b[0m \u001b[0mself\u001b[0m\u001b[1;33m.\u001b[0m\u001b[0mlim_offset\u001b[0m\u001b[1;33m\u001b[0m\u001b[1;33m\u001b[0m\u001b[0m\n\u001b[0m\u001b[0;32m   1529\u001b[0m         \u001b[0me_edge\u001b[0m \u001b[1;33m=\u001b[0m \u001b[0mself\u001b[0m\u001b[1;33m.\u001b[0m\u001b[0max_pos\u001b[0m\u001b[1;33m[\u001b[0m\u001b[1;33m-\u001b[0m\u001b[1;36m1\u001b[0m\u001b[1;33m]\u001b[0m \u001b[1;33m+\u001b[0m \u001b[1;36m0.25\u001b[0m \u001b[1;33m+\u001b[0m \u001b[0mself\u001b[0m\u001b[1;33m.\u001b[0m\u001b[0mbar_width\u001b[0m \u001b[1;33m+\u001b[0m \u001b[0mself\u001b[0m\u001b[1;33m.\u001b[0m\u001b[0mlim_offset\u001b[0m\u001b[1;33m\u001b[0m\u001b[1;33m\u001b[0m\u001b[0m\n\u001b[0;32m   1530\u001b[0m \u001b[1;33m\u001b[0m\u001b[0m\n",
      "\u001b[1;31mIndexError\u001b[0m: index 0 is out of bounds for axis 0 with size 0"
     ]
    },
    {
     "data": {
      "image/png": "[encoded data removed]",
      "text/plain": [
       "<Figure size 864x432 with 1 Axes>"
      ]
     },
     "metadata": {
      "needs_background": "light"
     },
     "output_type": "display_data"
    }
   ],
   "source": [
    "plt.figure(figsize=(12,6))\n",
    "df[df[\"commodity\"]==\"category\"][\"year\"].value_counts()[:20].plot(kind=\"bar\",color=\"Red\")\n",
    "plt.title(\"Frequency of Movies which were released in different years and are available on Netflix\")"
   ]
  },
  {
   "cell_type": "code",
   "execution_count": 169,
   "id": "cc904511",
   "metadata": {},
   "outputs": [
    {
     "ename": "ValueError",
     "evalue": "No axis named Category A for object type DataFrame",
     "output_type": "error",
     "traceback": [
      "\u001b[1;31m---------------------------------------------------------------------------\u001b[0m",
      "\u001b[1;31mKeyError\u001b[0m                                  Traceback (most recent call last)",
      "\u001b[1;32m~\\anaconda3\\lib\\site-packages\\pandas\\core\\generic.py\u001b[0m in \u001b[0;36m_get_axis_number\u001b[1;34m(cls, axis)\u001b[0m\n\u001b[0;32m    545\u001b[0m         \u001b[1;32mtry\u001b[0m\u001b[1;33m:\u001b[0m\u001b[1;33m\u001b[0m\u001b[1;33m\u001b[0m\u001b[0m\n\u001b[1;32m--> 546\u001b[1;33m             \u001b[1;32mreturn\u001b[0m \u001b[0mcls\u001b[0m\u001b[1;33m.\u001b[0m\u001b[0m_AXIS_TO_AXIS_NUMBER\u001b[0m\u001b[1;33m[\u001b[0m\u001b[0maxis\u001b[0m\u001b[1;33m]\u001b[0m\u001b[1;33m\u001b[0m\u001b[1;33m\u001b[0m\u001b[0m\n\u001b[0m\u001b[0;32m    547\u001b[0m         \u001b[1;32mexcept\u001b[0m \u001b[0mKeyError\u001b[0m\u001b[1;33m:\u001b[0m\u001b[1;33m\u001b[0m\u001b[1;33m\u001b[0m\u001b[0m\n",
      "\u001b[1;31mKeyError\u001b[0m: 'Category A'",
      "\nDuring handling of the above exception, another exception occurred:\n",
      "\u001b[1;31mValueError\u001b[0m                                Traceback (most recent call last)",
      "\u001b[1;32m~\\AppData\\Local\\Temp/ipykernel_2448/1221393222.py\u001b[0m in \u001b[0;36m<module>\u001b[1;34m\u001b[0m\n\u001b[0;32m      5\u001b[0m \u001b[1;33m\u001b[0m\u001b[0m\n\u001b[0;32m      6\u001b[0m \u001b[1;31m# Count occurrences of each category\u001b[0m\u001b[1;33m\u001b[0m\u001b[1;33m\u001b[0m\u001b[0m\n\u001b[1;32m----> 7\u001b[1;33m \u001b[0mcategory_counts\u001b[0m \u001b[1;33m=\u001b[0m \u001b[1;33m[\u001b[0m\u001b[0mdata\u001b[0m\u001b[1;33m.\u001b[0m\u001b[0mcount\u001b[0m\u001b[1;33m(\u001b[0m\u001b[0mcategory\u001b[0m\u001b[1;33m)\u001b[0m \u001b[1;32mfor\u001b[0m \u001b[0mcategory\u001b[0m \u001b[1;32min\u001b[0m \u001b[0mcategories\u001b[0m\u001b[1;33m]\u001b[0m\u001b[1;33m\u001b[0m\u001b[1;33m\u001b[0m\u001b[0m\n\u001b[0m\u001b[0;32m      8\u001b[0m \u001b[1;33m\u001b[0m\u001b[0m\n\u001b[0;32m      9\u001b[0m \u001b[1;31m# Create the horizontal bar plot\u001b[0m\u001b[1;33m\u001b[0m\u001b[1;33m\u001b[0m\u001b[0m\n",
      "\u001b[1;32m~\\AppData\\Local\\Temp/ipykernel_2448/1221393222.py\u001b[0m in \u001b[0;36m<listcomp>\u001b[1;34m(.0)\u001b[0m\n\u001b[0;32m      5\u001b[0m \u001b[1;33m\u001b[0m\u001b[0m\n\u001b[0;32m      6\u001b[0m \u001b[1;31m# Count occurrences of each category\u001b[0m\u001b[1;33m\u001b[0m\u001b[1;33m\u001b[0m\u001b[0m\n\u001b[1;32m----> 7\u001b[1;33m \u001b[0mcategory_counts\u001b[0m \u001b[1;33m=\u001b[0m \u001b[1;33m[\u001b[0m\u001b[0mdata\u001b[0m\u001b[1;33m.\u001b[0m\u001b[0mcount\u001b[0m\u001b[1;33m(\u001b[0m\u001b[0mcategory\u001b[0m\u001b[1;33m)\u001b[0m \u001b[1;32mfor\u001b[0m \u001b[0mcategory\u001b[0m \u001b[1;32min\u001b[0m \u001b[0mcategories\u001b[0m\u001b[1;33m]\u001b[0m\u001b[1;33m\u001b[0m\u001b[1;33m\u001b[0m\u001b[0m\n\u001b[0m\u001b[0;32m      8\u001b[0m \u001b[1;33m\u001b[0m\u001b[0m\n\u001b[0;32m      9\u001b[0m \u001b[1;31m# Create the horizontal bar plot\u001b[0m\u001b[1;33m\u001b[0m\u001b[1;33m\u001b[0m\u001b[0m\n",
      "\u001b[1;32m~\\anaconda3\\lib\\site-packages\\pandas\\core\\frame.py\u001b[0m in \u001b[0;36mcount\u001b[1;34m(self, axis, level, numeric_only)\u001b[0m\n\u001b[0;32m   9693\u001b[0m         \u001b[0mdtype\u001b[0m\u001b[1;33m:\u001b[0m \u001b[0mint64\u001b[0m\u001b[1;33m\u001b[0m\u001b[1;33m\u001b[0m\u001b[0m\n\u001b[0;32m   9694\u001b[0m         \"\"\"\n\u001b[1;32m-> 9695\u001b[1;33m         \u001b[0maxis\u001b[0m \u001b[1;33m=\u001b[0m \u001b[0mself\u001b[0m\u001b[1;33m.\u001b[0m\u001b[0m_get_axis_number\u001b[0m\u001b[1;33m(\u001b[0m\u001b[0maxis\u001b[0m\u001b[1;33m)\u001b[0m\u001b[1;33m\u001b[0m\u001b[1;33m\u001b[0m\u001b[0m\n\u001b[0m\u001b[0;32m   9696\u001b[0m         \u001b[1;32mif\u001b[0m \u001b[0mlevel\u001b[0m \u001b[1;32mis\u001b[0m \u001b[1;32mnot\u001b[0m \u001b[1;32mNone\u001b[0m\u001b[1;33m:\u001b[0m\u001b[1;33m\u001b[0m\u001b[1;33m\u001b[0m\u001b[0m\n\u001b[0;32m   9697\u001b[0m             warnings.warn(\n",
      "\u001b[1;32m~\\anaconda3\\lib\\site-packages\\pandas\\core\\generic.py\u001b[0m in \u001b[0;36m_get_axis_number\u001b[1;34m(cls, axis)\u001b[0m\n\u001b[0;32m    546\u001b[0m             \u001b[1;32mreturn\u001b[0m \u001b[0mcls\u001b[0m\u001b[1;33m.\u001b[0m\u001b[0m_AXIS_TO_AXIS_NUMBER\u001b[0m\u001b[1;33m[\u001b[0m\u001b[0maxis\u001b[0m\u001b[1;33m]\u001b[0m\u001b[1;33m\u001b[0m\u001b[1;33m\u001b[0m\u001b[0m\n\u001b[0;32m    547\u001b[0m         \u001b[1;32mexcept\u001b[0m \u001b[0mKeyError\u001b[0m\u001b[1;33m:\u001b[0m\u001b[1;33m\u001b[0m\u001b[1;33m\u001b[0m\u001b[0m\n\u001b[1;32m--> 548\u001b[1;33m             \u001b[1;32mraise\u001b[0m \u001b[0mValueError\u001b[0m\u001b[1;33m(\u001b[0m\u001b[1;34mf\"No axis named {axis} for object type {cls.__name__}\"\u001b[0m\u001b[1;33m)\u001b[0m\u001b[1;33m\u001b[0m\u001b[1;33m\u001b[0m\u001b[0m\n\u001b[0m\u001b[0;32m    549\u001b[0m \u001b[1;33m\u001b[0m\u001b[0m\n\u001b[0;32m    550\u001b[0m     \u001b[1;33m@\u001b[0m\u001b[0mfinal\u001b[0m\u001b[1;33m\u001b[0m\u001b[1;33m\u001b[0m\u001b[0m\n",
      "\u001b[1;31mValueError\u001b[0m: No axis named Category A for object type DataFrame"
     ]
    }
   ],
   "source": [
    "import matplotlib.pyplot as plt\n",
    "\n",
    "# Sample data\n",
    "categories = ['Category A', 'Category B', 'Category C', 'Category D']\n",
    "\n",
    "# Count occurrences of each category\n",
    "category_counts = [data.count(category) for category in categories]\n",
    "\n",
    "# Create the horizontal bar plot\n",
    "plt.barh(categories, category_counts)\n",
    "\n",
    "# Add labels and title\n",
    "plt.xlabel('Count')\n",
    "plt.ylabel('Categories')\n",
    "plt.title('Horizontal Bar Graph')\n",
    "\n",
    "# Display the plot\n",
    "plt.show()\n"
   ]
  },
  {
   "cell_type": "code",
   "execution_count": 170,
   "id": "9655ad41",
   "metadata": {},
   "outputs": [
    {
     "data": {
      "image/png": "[encoded data removed]",
      "text/plain": [
       "<Figure size 432x288 with 1 Axes>"
      ]
     },
     "metadata": {
      "needs_background": "light"
     },
     "output_type": "display_data"
    }
   ],
   "source": [
    "import matplotlib.pyplot as plt\n",
    "import pandas as pd\n",
    "\n",
    "# Sample data\n",
    "data = ['Category A', 'Category B', 'Category C', 'Category D']\n",
    "\n",
    "# Count occurrences of each category\n",
    "category_counts = pd.Series(data).value_counts()\n",
    "\n",
    "# Create the horizontal bar plot\n",
    "plt.barh(category_counts.index, category_counts.values)\n",
    "\n",
    "# Add labels and title\n",
    "plt.xlabel('Count')\n",
    "plt.ylabel('Categories')\n",
    "plt.title('Horizontal Bar Graph')\n",
    "\n",
    "# Display the plot\n",
    "plt.show()\n"
   ]
  },
  {
   "cell_type": "code",
   "execution_count": null,
   "id": "fed4b5b2",
   "metadata": {},
   "outputs": [],
   "source": []
  }
 ],
 "metadata": {
  "kernelspec": {
   "display_name": "Python 3 (ipykernel)",
   "language": "python",
   "name": "python3"
  },
  "language_info": {
   "codemirror_mode": {
    "name": "ipython",
    "version": 3
   },
   "file_extension": ".py",
   "mimetype": "text/x-python",
   "name": "python",
   "nbconvert_exporter": "python",
   "pygments_lexer": "ipython3",
   "version": "3.9.7"
  }
 },
 "nbformat": 4,
 "nbformat_minor": 5
}
