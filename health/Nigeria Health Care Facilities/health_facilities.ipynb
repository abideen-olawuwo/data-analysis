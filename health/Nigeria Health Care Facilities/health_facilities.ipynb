{
 "cells": [
  {
   "cell_type": "markdown",
   "id": "47c2f4c8",
   "metadata": {},
   "source": [
    "### Capstone Project (Date Engineering and Intelligence Unit)\n",
    "\n",
    "* Objective: To test the level of expertise across\n",
    "\n",
    "* Data acquisition, Data analysis, Data Visualization and Data interpretation (insight generation)\n",
    "\n",
    "* Data Category: Health, Energy, Religion, Agriculture, Hospitality, Finance\n",
    "\n",
    "* Capstone Rule:\n",
    "\n",
    "* All datasets must be from Nigerian geography.\n",
    "* Try to make your deliverable as native to the Nigerian ecosystem as possible.\n",
    "* Be original in your deliverable.\n",
    "\n",
    "* Task One: Select one or more data categories, search the internet, and acquire enough geospatial and statistical dataset\n",
    "\n",
    "* Deliverables:\n",
    "\n",
    "* Acquired dataset and their referenced source\n",
    "\n",
    "* Task Two: Clean and analyze the acquired dataset, generation at least 10 analytical outputs you believe are useful\n",
    "\n",
    "* (hint: try to focus on what can help create solution, impact or business intelligence).\n",
    "\n",
    "* Deliverable:\n",
    "\n",
    "* Cleaned dataset\n",
    "\n",
    "* Analytical report and method used\n",
    "\n",
    "* Task Three: Create a visualization based on the analysis done, visuals should be in both statistical charts and maps. (hint: \n",
    "your output here can be either static or interactive or both)\n",
    "\n",
    "* Deliverables:\n",
    "\n",
    "* Statistical Chart(s)\n",
    "* Embellished map(s)\n",
    "\n",
    "* Task Four: Interpret maps and charts in a summarized format (no more than 500 words) providing a relatable context on how the visualization relates to reality in terms of solution, impact, or profitability\n",
    "\n",
    "* Deliverables:\n",
    "\n",
    "* A document having all visualization with their appending interpretation\n"
   ]
  },
  {
   "cell_type": "markdown",
   "id": "2bc8edb7",
   "metadata": {},
   "source": [
    "#### Acquired Data: Health Facilities in Nigeria\n",
    "#### Data Source: [https://data.humdata.org/dataset/nigeria-health-facilities] "
   ]
  },
  {
   "cell_type": "code",
   "execution_count": 1,
   "id": "d8fcc028",
   "metadata": {},
   "outputs": [],
   "source": [
    "import numpy as np\n",
    "import pandas as pd\n",
    "import seaborn as sns\n",
    "import matplotlib as plt"
   ]
  },
  {
   "cell_type": "code",
   "execution_count": 44,
   "id": "c2ba619a",
   "metadata": {},
   "outputs": [
    {
     "data": {
      "text/plain": [
       "(46146, 15)"
      ]
     },
     "execution_count": 44,
     "metadata": {},
     "output_type": "execute_result"
    }
   ],
   "source": [
    "df = pd.read_csv('data/nigeriahealthfacilities.csv')\n",
    "df.shape"
   ]
  },
  {
   "cell_type": "code",
   "execution_count": 45,
   "id": "06c7c99a",
   "metadata": {},
   "outputs": [
    {
     "data": {
      "text/html": [
       "<div>\n",
       "<style scoped>\n",
       "    .dataframe tbody tr th:only-of-type {\n",
       "        vertical-align: middle;\n",
       "    }\n",
       "\n",
       "    .dataframe tbody tr th {\n",
       "        vertical-align: top;\n",
       "    }\n",
       "\n",
       "    .dataframe thead th {\n",
       "        text-align: right;\n",
       "    }\n",
       "</style>\n",
       "<table border=\"1\" class=\"dataframe\">\n",
       "  <thead>\n",
       "    <tr style=\"text-align: right;\">\n",
       "      <th></th>\n",
       "      <th>id</th>\n",
       "      <th>name</th>\n",
       "      <th>global_id</th>\n",
       "      <th>alternate_name</th>\n",
       "      <th>functional_status</th>\n",
       "      <th>type</th>\n",
       "      <th>ward_code</th>\n",
       "      <th>category</th>\n",
       "      <th>timestamp</th>\n",
       "      <th>accessibility</th>\n",
       "      <th>lga_name</th>\n",
       "      <th>lga_code</th>\n",
       "      <th>state_code</th>\n",
       "      <th>state_name</th>\n",
       "      <th>FID</th>\n",
       "    </tr>\n",
       "  </thead>\n",
       "  <tbody>\n",
       "    <tr>\n",
       "      <th>0</th>\n",
       "      <td>1</td>\n",
       "      <td>G R A Nursing Home</td>\n",
       "      <td>af719462-abfd-4f47-9dc3-0987164e75ac</td>\n",
       "      <td>Nursing Home</td>\n",
       "      <td>Unknown</td>\n",
       "      <td>Primary</td>\n",
       "      <td>12413</td>\n",
       "      <td>Primary Health Center</td>\n",
       "      <td>2020-07-04T13:49:18Z</td>\n",
       "      <td>NaN</td>\n",
       "      <td>Maiduguri</td>\n",
       "      <td>124</td>\n",
       "      <td>BR</td>\n",
       "      <td>Borno</td>\n",
       "      <td>sv_health_facilities.fid--3185df38_17a314b4ee6...</td>\n",
       "    </tr>\n",
       "    <tr>\n",
       "      <th>1</th>\n",
       "      <td>2</td>\n",
       "      <td>Gishili Health Center</td>\n",
       "      <td>a29b0328-d844-4358-b0ab-2e120b8fb30f</td>\n",
       "      <td>Nursing Home</td>\n",
       "      <td>Functional</td>\n",
       "      <td>Primary</td>\n",
       "      <td>12413</td>\n",
       "      <td>Primary Health Center</td>\n",
       "      <td>2020-07-04T13:49:18Z</td>\n",
       "      <td>Unknown</td>\n",
       "      <td>Maiduguri</td>\n",
       "      <td>124</td>\n",
       "      <td>BR</td>\n",
       "      <td>Borno</td>\n",
       "      <td>sv_health_facilities.fid--3185df38_17a314b4ee6...</td>\n",
       "    </tr>\n",
       "    <tr>\n",
       "      <th>2</th>\n",
       "      <td>3</td>\n",
       "      <td>Lehobi Primary Health Care</td>\n",
       "      <td>b685b769-5c83-4f83-a182-00e7e1b777d8</td>\n",
       "      <td>NaN</td>\n",
       "      <td>Partially Functional</td>\n",
       "      <td>Primary</td>\n",
       "      <td>10207</td>\n",
       "      <td>Primary Health Center</td>\n",
       "      <td>2020-07-04T13:49:18Z</td>\n",
       "      <td>NaN</td>\n",
       "      <td>Askira Uba</td>\n",
       "      <td>102</td>\n",
       "      <td>BR</td>\n",
       "      <td>Borno</td>\n",
       "      <td>sv_health_facilities.fid--3185df38_17a314b4ee6...</td>\n",
       "    </tr>\n",
       "    <tr>\n",
       "      <th>3</th>\n",
       "      <td>4</td>\n",
       "      <td>Dugja Idp Camp</td>\n",
       "      <td>78e64f7a-cbb8-4357-9e64-a7e502534527</td>\n",
       "      <td>Mandara Girau Dispensary</td>\n",
       "      <td>Not Functional</td>\n",
       "      <td>Primary</td>\n",
       "      <td>10503</td>\n",
       "      <td>Primary Health Center</td>\n",
       "      <td>2020-07-04T13:49:18Z</td>\n",
       "      <td>Unknown</td>\n",
       "      <td>Biu</td>\n",
       "      <td>105</td>\n",
       "      <td>BR</td>\n",
       "      <td>Borno</td>\n",
       "      <td>sv_health_facilities.fid--3185df38_17a314b4ee6...</td>\n",
       "    </tr>\n",
       "    <tr>\n",
       "      <th>4</th>\n",
       "      <td>5</td>\n",
       "      <td>Kopa Maikudiri Dispensary</td>\n",
       "      <td>409c97ce-7490-4dc2-a8f8-2b8d53ad2b12</td>\n",
       "      <td>NaN</td>\n",
       "      <td>Partially Functional</td>\n",
       "      <td>Primary</td>\n",
       "      <td>10209</td>\n",
       "      <td>Dispensary</td>\n",
       "      <td>2020-07-04T13:49:18Z</td>\n",
       "      <td>Unknown</td>\n",
       "      <td>Askira Uba</td>\n",
       "      <td>102</td>\n",
       "      <td>BR</td>\n",
       "      <td>Borno</td>\n",
       "      <td>sv_health_facilities.fid--3185df38_17a314b4ee6...</td>\n",
       "    </tr>\n",
       "  </tbody>\n",
       "</table>\n",
       "</div>"
      ],
      "text/plain": [
       "   id                        name                             global_id  \\\n",
       "0   1          G R A Nursing Home  af719462-abfd-4f47-9dc3-0987164e75ac   \n",
       "1   2       Gishili Health Center  a29b0328-d844-4358-b0ab-2e120b8fb30f   \n",
       "2   3  Lehobi Primary Health Care  b685b769-5c83-4f83-a182-00e7e1b777d8   \n",
       "3   4              Dugja Idp Camp  78e64f7a-cbb8-4357-9e64-a7e502534527   \n",
       "4   5   Kopa Maikudiri Dispensary  409c97ce-7490-4dc2-a8f8-2b8d53ad2b12   \n",
       "\n",
       "             alternate_name     functional_status     type ward_code  \\\n",
       "0              Nursing Home               Unknown  Primary     12413   \n",
       "1              Nursing Home            Functional  Primary     12413   \n",
       "2                       NaN  Partially Functional  Primary     10207   \n",
       "3  Mandara Girau Dispensary        Not Functional  Primary     10503   \n",
       "4                       NaN  Partially Functional  Primary     10209   \n",
       "\n",
       "                category             timestamp accessibility    lga_name  \\\n",
       "0  Primary Health Center  2020-07-04T13:49:18Z           NaN   Maiduguri   \n",
       "1  Primary Health Center  2020-07-04T13:49:18Z       Unknown   Maiduguri   \n",
       "2  Primary Health Center  2020-07-04T13:49:18Z           NaN  Askira Uba   \n",
       "3  Primary Health Center  2020-07-04T13:49:18Z       Unknown         Biu   \n",
       "4             Dispensary  2020-07-04T13:49:18Z       Unknown  Askira Uba   \n",
       "\n",
       "   lga_code state_code state_name  \\\n",
       "0       124         BR      Borno   \n",
       "1       124         BR      Borno   \n",
       "2       102         BR      Borno   \n",
       "3       105         BR      Borno   \n",
       "4       102         BR      Borno   \n",
       "\n",
       "                                                 FID  \n",
       "0  sv_health_facilities.fid--3185df38_17a314b4ee6...  \n",
       "1  sv_health_facilities.fid--3185df38_17a314b4ee6...  \n",
       "2  sv_health_facilities.fid--3185df38_17a314b4ee6...  \n",
       "3  sv_health_facilities.fid--3185df38_17a314b4ee6...  \n",
       "4  sv_health_facilities.fid--3185df38_17a314b4ee6...  "
      ]
     },
     "execution_count": 45,
     "metadata": {},
     "output_type": "execute_result"
    }
   ],
   "source": [
    "df.head()"
   ]
  },
  {
   "cell_type": "code",
   "execution_count": 4,
   "id": "8b565778",
   "metadata": {},
   "outputs": [
    {
     "name": "stdout",
     "output_type": "stream",
     "text": [
      "id :\n",
      " [    1     2     3 ... 46606 46607 46608]\n",
      "1        1\n",
      "31039    1\n",
      "31041    1\n",
      "31042    1\n",
      "31043    1\n",
      "        ..\n",
      "15546    1\n",
      "15547    1\n",
      "15548    1\n",
      "15550    1\n",
      "46608    1\n",
      "Name: id, Length: 46146, dtype: int64\n",
      "\n",
      " **************************************** \n",
      "\n",
      "name :\n",
      " ['G R A Nursing Home' 'Gishili Health Center' 'Lehobi Primary Health Care'\n",
      " ... 'Ardo Kola Primary Health Care Center'\n",
      " 'Ke Comprehensive Health Center' 'Bonny Primary Health Center']\n",
      "Police Clinic                       17\n",
      "Alheri Clinic                       11\n",
      "Sabon Gari Primary Health Center    11\n",
      "Model Health Center                 10\n",
      "Sauki Clinic                         9\n",
      "                                    ..\n",
      "Elele Army Barracks                  1\n",
      "Rumuokwuta Primary Health Center     1\n",
      "Okira Primary Health Center          1\n",
      "Obarany Health Post                  1\n",
      "Bonny Primary Health Center          1\n",
      "Name: name, Length: 43292, dtype: int64\n",
      "\n",
      " **************************************** \n",
      "\n",
      "global_id :\n",
      " ['af719462-abfd-4f47-9dc3-0987164e75ac'\n",
      " 'a29b0328-d844-4358-b0ab-2e120b8fb30f'\n",
      " 'b685b769-5c83-4f83-a182-00e7e1b777d8' ...\n",
      " 'ef14c01b-bc46-4a5c-b61e-4f1634ba5a46'\n",
      " '1e11690d-0a3b-4dbd-b379-8789f350affc'\n",
      " '3f74184b-589f-4edb-815d-140ff020b456']\n",
      "af719462-abfd-4f47-9dc3-0987164e75ac    1\n",
      "9b7d5ddf-2d0c-47ab-baf5-5cb964eee952    1\n",
      "c071fc95-2229-4f8c-9de7-5301bddbc150    1\n",
      "d99d2dc2-1774-4795-996b-c47dc47970a3    1\n",
      "4c76a8f3-bcda-4ab3-908a-90513f483443    1\n",
      "                                       ..\n",
      "b9dc212a-5bc2-4fc8-9fd9-d17b98ad4b97    1\n",
      "7da6e3b8-94f0-4d45-b795-1a3e96e31de5    1\n",
      "437924be-29b4-46a5-8a16-2cddc97b0bc4    1\n",
      "8676c05c-06e7-4611-825f-35c3527384ed    1\n",
      "3f74184b-589f-4edb-815d-140ff020b456    1\n",
      "Name: global_id, Length: 46146, dtype: int64\n",
      "\n",
      " **************************************** \n",
      "\n",
      "alternate_name :\n",
      " ['Nursing Home' nan 'Mandara Girau Dispensary' ...\n",
      " 'Koffai Nyame Maternal and Child Health' 'Yinya Medical Center'\n",
      " 'College Of Agriculture Clinic']\n",
      "Dispensary                         92\n",
      "Primary Health Center              76\n",
      "Primary Health Care                45\n",
      "Health Post                        39\n",
      "Primary Health Care Clinic         35\n",
      "                                   ..\n",
      "Ebok Health Post                    1\n",
      "Medical Center Rapha                1\n",
      "Ikot Oko Etok Health Post           1\n",
      "Primary Health Center Njua Kaku     1\n",
      "College Of Agriculture Clinic       1\n",
      "Name: alternate_name, Length: 3370, dtype: int64\n",
      "\n",
      " **************************************** \n",
      "\n",
      "functional_status :\n",
      " ['Unknown' 'Functional' 'Partially Functional' 'Not Functional']\n",
      "Functional              34282\n",
      "Unknown                 11753\n",
      "Not Functional            104\n",
      "Partially Functional        7\n",
      "Name: functional_status, dtype: int64\n",
      "\n",
      " **************************************** \n",
      "\n",
      "type :\n",
      " ['Primary' 'Secondary' 'Unknown' 'Primary Health Clinic'\n",
      " 'Primary Health Center' 'Health Post Dispensary' 'Tertiary']\n",
      "Primary                   43970\n",
      "Secondary                  1338\n",
      "Tertiary                    800\n",
      "Primary Health Clinic        15\n",
      "Health Post Dispensary       13\n",
      "Unknown                       6\n",
      "Primary Health Center         4\n",
      "Name: type, dtype: int64\n",
      "\n",
      " **************************************** \n",
      "\n",
      "ward_code :\n",
      " ['12413' '10207' '10503' ... 'RVSDEG17' 'RVSDEG03' 'RVSBNY01']\n",
      "OGSIFO09    55\n",
      "OGSIFO02    52\n",
      "OSSIET04    50\n",
      "OYSLAU05    48\n",
      "OYSIDO10    47\n",
      "            ..\n",
      "EKSGBN04     1\n",
      "EKSIJO09     1\n",
      "EKSIME06     1\n",
      "EKSIKE04     1\n",
      "RVSBNY01     1\n",
      "Name: ward_code, Length: 8829, dtype: int64\n",
      "\n",
      " **************************************** \n",
      "\n",
      "category :\n",
      " ['Primary Health Center' 'Dispensary' 'Medical Center'\n",
      " 'Federal Medical Center' 'Educational Clinic' 'General Hospital'\n",
      " 'Veterinary Clinic' 'Maternity Home' 'Federal Staff Clinic'\n",
      " 'Private Non Profit' 'Military and Paramilitary Clinic' 'Others' nan\n",
      " 'Comprehensive Health Center' 'Specialist Hospital' 'Teaching Hospital'\n",
      " 'Cottage Hospital' 'Pharmacy' 'Laboratory' 'Community Health Center'\n",
      " 'District Hospital' 'Research Hospital']\n",
      "Primary Health Center               28031\n",
      "Dispensary                           8626\n",
      "Maternity Home                       4423\n",
      "Private Non Profit                   1179\n",
      "Medical Center                        956\n",
      "Specialist Hospital                   673\n",
      "General Hospital                      637\n",
      "Comprehensive Health Center           458\n",
      "Educational Clinic                    249\n",
      "Laboratory                            234\n",
      "Cottage Hospital                      223\n",
      "Military and Paramilitary Clinic      143\n",
      "Federal Staff Clinic                  110\n",
      "Teaching Hospital                      51\n",
      "Federal Medical Center                 46\n",
      "District Hospital                      25\n",
      "Pharmacy                               21\n",
      "Veterinary Clinic                      14\n",
      "Community Health Center                 8\n",
      "Others                                  4\n",
      "Research Hospital                       1\n",
      "Name: category, dtype: int64\n",
      "\n",
      " **************************************** \n",
      "\n",
      "timestamp :\n",
      " ['2020-07-04T13:49:18Z' '2020-06-24T11:38:22Z' '2019-11-15T17:15:50Z'\n",
      " '2019-11-15T17:29:44Z' '2019-11-15T17:31:48Z' '2019-08-27T14:12:20Z'\n",
      " '2019-11-15T17:34:16Z' '2019-02-21T08:56:58Z' '2019-02-21T12:38:24Z'\n",
      " '2018-12-18T10:20:11Z' '2018-12-18T10:23:07Z' '2018-12-18T10:20:14Z'\n",
      " '2018-12-18T10:23:06Z' '2018-12-18T10:23:24Z' '2018-12-18T10:21:27Z'\n",
      " '2018-12-18T10:30:38Z' '2019-06-14T10:17:38Z' '2019-11-15T17:20:30Z'\n",
      " '2019-11-15T17:21:52Z' '2019-12-06T14:37:41Z' '2018-12-18T10:20:52Z'\n",
      " '2020-05-13T12:53:53Z' '2018-12-18T10:20:15Z' '2018-12-18T10:22:17Z'\n",
      " '2018-12-18T10:22:12Z' '2018-12-18T10:22:18Z' '2018-12-18T10:20:03Z'\n",
      " '2018-12-18T10:27:18Z' '2019-06-21T13:33:43Z' '2018-12-18T10:23:22Z'\n",
      " '2018-12-18T10:20:18Z' '2018-12-18T10:20:00Z' '2018-12-18T10:24:26Z'\n",
      " '2018-12-18T10:24:28Z' '2018-12-18T10:20:34Z' '2018-12-18T10:20:55Z'\n",
      " '2018-12-18T10:22:31Z' '2018-12-18T10:22:59Z' '2018-12-18T10:23:13Z'\n",
      " '2018-12-18T10:24:25Z' '2018-12-18T10:26:31Z' '2018-12-18T10:24:30Z'\n",
      " '2018-12-18T10:20:54Z' '2018-12-18T10:21:21Z' '2018-12-18T10:23:00Z'\n",
      " '2018-12-18T10:27:38Z' '2018-12-18T10:27:57Z' '2018-12-18T10:29:17Z'\n",
      " '2018-12-18T10:29:19Z' '2018-12-18T10:20:06Z' '2018-12-18T10:20:02Z'\n",
      " '2018-12-18T10:20:16Z' '2018-12-18T10:20:17Z' '2018-12-18T10:20:56Z'\n",
      " '2018-12-18T10:22:34Z' '2018-12-18T10:22:44Z' '2018-12-18T10:23:01Z'\n",
      " '2018-12-18T10:23:05Z' '2018-12-18T10:23:08Z' '2018-12-18T10:23:09Z'\n",
      " '2018-12-18T10:23:26Z' '2018-12-18T10:23:27Z' '2018-12-18T10:23:28Z'\n",
      " '2018-12-18T10:27:29Z' '2018-12-18T10:27:30Z' '2018-12-18T10:27:33Z'\n",
      " '2018-12-18T10:30:59Z' '2018-12-18T10:31:02Z' '2018-12-18T10:31:07Z'\n",
      " '2018-12-18T10:31:08Z' '2018-12-18T10:31:09Z' '2018-12-18T10:31:11Z'\n",
      " '2018-12-18T10:31:12Z' '2018-12-18T10:31:13Z' '2018-12-18T10:31:14Z'\n",
      " '2018-12-18T10:31:15Z' '2018-12-18T10:31:16Z' '2018-12-18T10:31:29Z'\n",
      " '2018-12-18T10:31:30Z' '2018-12-18T10:31:34Z' '2018-12-18T10:22:08Z'\n",
      " '2018-12-18T10:22:19Z' '2018-12-18T10:23:21Z' '2018-12-18T10:27:28Z'\n",
      " '2018-12-18T10:27:31Z' '2018-12-18T10:20:27Z' '2018-12-18T10:27:27Z'\n",
      " '2018-12-18T10:28:50Z' '2018-12-18T10:20:01Z' '2018-12-18T10:28:51Z'\n",
      " '2018-12-18T10:28:47Z' '2018-12-18T10:28:49Z' '2018-12-18T10:28:48Z'\n",
      " '2018-12-18T10:29:27Z' '2018-12-18T10:23:25Z' '2018-12-18T10:31:06Z'\n",
      " '2018-12-18T10:29:24Z' '2018-12-18T10:20:12Z' '2018-12-18T10:22:27Z'\n",
      " '2018-12-18T10:22:45Z' '2018-12-18T10:23:10Z' '2018-12-18T10:27:22Z'\n",
      " '2018-12-18T10:27:32Z' '2018-12-18T10:27:36Z' '2018-12-18T10:30:55Z'\n",
      " '2018-12-18T10:30:57Z' '2018-12-18T10:31:01Z' '2018-12-18T10:28:44Z'\n",
      " '2018-12-18T10:31:10Z' '2018-12-18T10:31:17Z' '2018-12-18T10:31:18Z'\n",
      " '2018-12-18T10:28:55Z' '2018-12-18T10:23:20Z' '2018-12-18T10:20:53Z'\n",
      " '2018-12-18T10:21:28Z' '2018-12-18T10:22:04Z' '2018-12-18T10:22:05Z'\n",
      " '2018-12-18T10:22:09Z' '2018-12-18T10:22:14Z' '2018-12-18T10:22:15Z'\n",
      " '2018-12-18T10:22:16Z' '2018-12-18T10:22:21Z' '2018-12-18T10:22:22Z'\n",
      " '2018-12-18T10:22:23Z' '2018-12-18T10:22:24Z' '2018-12-18T10:22:52Z'\n",
      " '2018-12-18T10:23:18Z' '2018-12-18T10:23:19Z' '2018-12-18T10:23:23Z'\n",
      " '2018-12-18T10:27:05Z' '2018-12-18T10:27:12Z' '2018-12-18T10:27:13Z'\n",
      " '2018-12-18T10:27:14Z' '2018-12-18T10:27:15Z' '2018-12-18T10:27:16Z'\n",
      " '2018-12-18T10:27:17Z' '2018-12-18T10:27:39Z' '2018-12-18T10:20:26Z'\n",
      " '2018-12-18T10:27:07Z' '2018-12-18T10:20:07Z' '2018-12-18T10:21:43Z'\n",
      " '2018-12-18T10:22:13Z' '2018-12-18T10:30:52Z' '2018-12-18T10:30:54Z'\n",
      " '2018-12-18T10:20:05Z' '2018-12-18T10:29:23Z' '2018-12-18T10:23:03Z'\n",
      " '2018-12-18T10:30:58Z' '2018-12-18T10:31:00Z' '2018-12-18T10:28:52Z'\n",
      " '2018-12-18T10:20:10Z' '2018-12-18T10:20:50Z' '2018-12-18T10:30:51Z'\n",
      " '2018-12-18T10:30:49Z' '2018-12-18T10:31:05Z' '2019-03-05T11:29:55Z'\n",
      " '2018-12-18T10:20:40Z' '2018-12-18T10:24:49Z' '2018-12-18T10:24:47Z'\n",
      " '2018-12-18T10:20:37Z' '2018-12-18T10:24:54Z' '2019-08-26T16:42:50Z'\n",
      " '2018-12-18T10:27:25Z' '2018-12-18T10:22:42Z' '2018-12-18T10:27:21Z'\n",
      " '2018-12-18T10:21:29Z' '2018-12-18T10:22:40Z' '2018-12-18T10:25:28Z'\n",
      " '2018-12-18T10:25:29Z' '2018-12-18T10:25:30Z' '2018-12-18T10:25:21Z'\n",
      " '2018-12-18T10:25:18Z' '2018-12-18T10:25:19Z' '2018-12-18T10:25:13Z'\n",
      " '2018-12-18T10:25:07Z' '2018-12-18T10:25:31Z' '2018-12-18T10:25:26Z'\n",
      " '2018-12-18T10:25:15Z' '2018-12-18T10:20:51Z' '2018-12-18T10:20:42Z'\n",
      " '2018-12-18T10:25:22Z' '2018-12-18T10:21:14Z' '2018-12-18T10:21:17Z'\n",
      " '2018-12-18T10:25:08Z' '2018-12-18T10:25:09Z' '2018-12-18T10:25:16Z'\n",
      " '2018-12-18T10:25:06Z' '2018-12-18T10:25:12Z' '2018-12-18T10:25:36Z'\n",
      " '2018-12-18T10:25:32Z' '2018-12-18T10:25:10Z' '2018-12-18T10:25:14Z'\n",
      " '2018-12-18T10:25:17Z' '2018-12-18T10:25:27Z' '2018-12-18T10:20:43Z'\n",
      " '2018-12-18T10:23:29Z' '2018-12-18T10:24:31Z' '2018-12-18T10:26:35Z'\n",
      " '2018-12-18T10:26:36Z' '2018-12-18T10:26:37Z' '2018-12-18T10:30:10Z'\n",
      " '2018-12-18T10:26:54Z' '2018-12-18T10:26:57Z' '2018-12-18T10:25:04Z'\n",
      " '2018-12-18T10:27:09Z' '2018-12-18T10:25:33Z' '2018-12-18T10:25:20Z'\n",
      " '2018-12-18T10:25:37Z' '2018-12-18T10:30:12Z' '2018-12-18T10:30:13Z'\n",
      " '2018-12-18T10:30:14Z' '2018-12-18T10:30:18Z' '2018-12-18T10:30:25Z'\n",
      " '2018-12-18T10:30:27Z' '2018-12-18T10:30:28Z' '2018-12-18T10:25:25Z'\n",
      " '2018-12-18T10:25:35Z' '2018-12-18T10:25:11Z' '2018-12-18T10:25:05Z'\n",
      " '2018-12-18T10:20:41Z' '2018-12-18T10:27:24Z' '2018-12-18T10:21:11Z'\n",
      " '2018-12-18T10:25:23Z' '2018-12-18T10:22:38Z' '2018-12-18T10:25:34Z'\n",
      " '2018-12-18T10:26:14Z' '2018-12-18T10:21:10Z' '2018-12-18T10:21:08Z'\n",
      " '2018-12-18T10:21:09Z' '2018-12-18T10:21:26Z' '2018-12-18T10:21:18Z'\n",
      " '2018-12-18T10:21:20Z' '2018-12-18T10:21:35Z' '2018-12-18T10:21:36Z'\n",
      " '2018-12-18T10:21:38Z' '2018-12-18T10:21:42Z' '2018-12-18T10:21:44Z'\n",
      " '2018-12-18T10:21:45Z' '2018-12-18T10:21:46Z' '2018-12-18T10:21:47Z'\n",
      " '2018-12-18T10:21:48Z' '2018-12-18T10:21:49Z' '2018-12-18T10:21:50Z'\n",
      " '2018-12-18T10:21:51Z' '2018-12-18T10:21:52Z' '2018-12-18T10:27:19Z'\n",
      " '2018-12-18T10:21:53Z' '2018-12-18T10:21:54Z' '2018-12-18T10:21:55Z'\n",
      " '2018-12-18T10:21:56Z' '2018-12-18T10:21:57Z' '2018-12-18T10:22:10Z'\n",
      " '2018-12-18T10:22:11Z' '2018-12-18T10:22:33Z' '2018-12-18T10:22:39Z'\n",
      " '2018-12-18T10:22:41Z' '2018-12-18T10:22:43Z' '2018-12-18T10:23:11Z'\n",
      " '2018-12-18T10:23:14Z' '2018-12-18T10:23:16Z' '2018-12-18T10:23:17Z'\n",
      " '2018-12-18T10:23:31Z' '2018-12-18T10:23:30Z' '2018-12-18T10:24:24Z'\n",
      " '2018-12-18T10:26:34Z' '2018-12-18T10:26:32Z' '2018-12-18T10:26:52Z'\n",
      " '2018-12-18T10:27:02Z' '2018-12-18T10:27:08Z' '2018-12-18T10:27:20Z'\n",
      " '2018-12-18T10:27:26Z' '2018-12-18T10:27:56Z' '2018-12-18T10:30:31Z'\n",
      " '2018-12-18T10:29:43Z' '2018-12-18T10:31:31Z' '2018-12-18T10:31:32Z'\n",
      " '2018-12-18T10:27:23Z' '2018-12-18T10:27:10Z' '2018-12-18T10:21:05Z'\n",
      " '2018-12-18T10:21:39Z' '2018-12-18T10:21:40Z' '2019-02-21T09:49:01Z'\n",
      " '2018-12-18T10:24:48Z' '2018-12-18T10:20:36Z' '2018-12-18T10:24:39Z'\n",
      " '2018-12-18T10:24:41Z' '2018-12-18T10:24:32Z' '2018-12-18T10:20:09Z'\n",
      " '2018-12-18T10:30:56Z' '2018-12-18T10:22:37Z' '2019-02-27T10:49:15Z'\n",
      " '2018-12-18T10:20:08Z' '2018-12-18T10:20:38Z' '2018-12-18T10:20:39Z'\n",
      " '2018-12-18T10:24:42Z' '2018-12-18T10:24:50Z' '2018-12-18T10:24:51Z'\n",
      " '2018-12-18T10:24:53Z' '2018-12-18T10:29:22Z' '2018-12-18T10:29:26Z'\n",
      " '2018-12-18T10:30:53Z' '2018-12-18T10:30:06Z' '2018-12-18T10:30:09Z'\n",
      " '2018-12-18T10:31:03Z' '2018-12-18T10:24:52Z' '2018-12-18T10:27:54Z'\n",
      " '2018-12-18T10:30:05Z' '2018-12-18T10:26:44Z' '2018-12-18T10:26:38Z'\n",
      " '2018-12-18T10:22:20Z' '2018-12-18T10:30:50Z' '2018-12-18T10:24:19Z'\n",
      " '2018-12-18T10:20:35Z' '2018-12-18T10:30:11Z' '2018-12-18T10:28:43Z'\n",
      " '2018-12-18T10:31:04Z' '2018-12-18T10:23:47Z' '2018-12-18T10:26:30Z'\n",
      " '2018-12-18T10:30:08Z' '2018-12-18T10:28:54Z' '2018-12-18T10:22:35Z'\n",
      " '2018-12-18T10:22:36Z' '2018-12-18T10:21:33Z' '2018-12-18T10:24:33Z'\n",
      " '2018-12-18T10:24:38Z' '2018-12-18T10:29:18Z' '2018-12-18T10:28:56Z'\n",
      " '2018-12-18T10:28:46Z' '2018-12-18T10:29:33Z' '2019-08-22T15:13:07Z'\n",
      " '2018-12-18T10:29:35Z' '2018-12-18T10:29:37Z' '2018-12-18T10:29:39Z'\n",
      " '2018-12-18T10:20:21Z' '2018-12-18T10:26:47Z' '2018-12-18T10:24:00Z'\n",
      " '2018-12-18T10:27:55Z' '2018-12-18T10:22:25Z' '2019-08-16T11:09:25Z'\n",
      " '2019-08-16T12:45:51Z' '2019-08-15T11:00:18Z' '2018-12-18T10:23:02Z'\n",
      " '2018-12-18T10:20:25Z' '2018-12-18T10:22:56Z' '2018-12-18T10:20:57Z'\n",
      " '2018-12-18T10:21:37Z' '2018-12-18T10:23:43Z' '2018-12-18T10:21:15Z'\n",
      " '2018-12-18T10:21:16Z' '2018-12-18T10:21:41Z' '2018-12-18T10:22:54Z'\n",
      " '2018-12-18T10:22:57Z' '2019-08-14T15:58:13Z' '2018-12-18T10:23:04Z'\n",
      " '2018-12-18T10:22:03Z' '2019-08-22T12:08:46Z' '2018-12-18T10:28:27Z'\n",
      " '2018-12-18T10:28:21Z' '2019-08-20T12:22:53Z' '2018-12-18T10:28:16Z'\n",
      " '2018-12-18T10:29:47Z' '2018-12-18T10:27:45Z' '2018-12-18T10:21:58Z'\n",
      " '2018-12-18T10:29:46Z' '2018-12-18T10:28:28Z' '2018-12-18T10:28:22Z'\n",
      " '2018-12-18T10:27:40Z' '2018-12-18T10:27:48Z' '2018-12-18T10:27:58Z'\n",
      " '2018-12-18T10:28:17Z' '2018-12-18T10:29:45Z' '2018-12-18T10:29:48Z'\n",
      " '2018-12-18T10:29:51Z' '2018-12-18T10:29:57Z' '2018-12-18T10:27:49Z'\n",
      " '2018-12-18T10:28:14Z' '2018-12-18T10:28:18Z' '2018-12-18T10:30:03Z'\n",
      " '2018-12-18T10:27:46Z' '2018-12-18T10:27:53Z' '2018-12-18T10:27:59Z'\n",
      " '2018-12-18T10:20:20Z' '2018-12-18T10:20:22Z' '2018-12-18T10:23:37Z'\n",
      " '2018-12-18T10:23:38Z' '2018-12-18T10:23:39Z' '2018-12-18T10:28:42Z'\n",
      " '2018-12-18T10:23:34Z' '2018-12-18T10:23:42Z' '2018-12-18T10:29:00Z'\n",
      " '2018-12-18T10:29:11Z' '2018-12-18T10:29:32Z' '2018-12-18T10:29:34Z'\n",
      " '2019-02-25T14:27:42Z' '2018-12-18T10:23:35Z' '2018-12-18T10:23:36Z'\n",
      " '2018-12-18T10:20:23Z' '2018-12-18T10:23:40Z' '2018-12-18T10:23:41Z'\n",
      " '2019-08-23T13:04:54Z' '2018-12-18T10:29:28Z' '2018-12-18T10:29:38Z'\n",
      " '2018-12-18T10:29:03Z' '2018-12-18T10:28:59Z' '2019-08-23T08:42:43Z'\n",
      " '2018-12-18T10:26:02Z' '2018-12-31T15:07:34Z' '2018-12-31T15:07:33Z'\n",
      " '2018-12-18T10:20:44Z' '2018-12-18T10:20:45Z' '2018-12-18T10:25:38Z'\n",
      " '2018-12-18T10:25:50Z' '2018-12-18T10:25:51Z' '2018-12-18T10:25:53Z'\n",
      " '2018-12-18T10:26:01Z' '2018-12-18T10:26:06Z' '2018-12-18T10:26:07Z'\n",
      " '2018-12-18T10:26:12Z' '2019-12-06T14:33:41Z' '2018-12-18T10:26:41Z'\n",
      " '2019-12-06T14:36:41Z' '2018-12-18T10:21:13Z' '2018-12-18T10:24:27Z'\n",
      " '2018-12-18T10:24:29Z' '2018-12-18T10:26:42Z' '2018-12-18T10:26:45Z'\n",
      " '2018-12-18T10:26:46Z' '2018-12-18T10:26:53Z' '2018-12-18T10:27:01Z'\n",
      " '2018-12-18T10:27:03Z' '2018-12-18T10:27:04Z' '2018-12-18T10:30:20Z'\n",
      " '2018-12-18T10:30:22Z' '2018-12-18T10:30:24Z' '2018-12-18T10:30:29Z'\n",
      " '2018-12-18T10:30:30Z' '2018-12-18T10:30:44Z' '2018-12-18T10:30:48Z'\n",
      " '2019-12-06T14:38:53Z' '2018-12-18T10:21:06Z' '2018-12-18T10:21:07Z'\n",
      " '2018-12-18T10:21:19Z' '2018-12-18T10:21:22Z' '2018-12-18T10:21:23Z'\n",
      " '2018-12-18T10:21:24Z' '2018-12-18T10:21:25Z' '2018-12-18T10:22:06Z'\n",
      " '2018-12-18T10:22:07Z' '2018-12-18T10:22:32Z' '2018-12-18T10:23:15Z'\n",
      " '2018-12-18T10:23:44Z' '2018-12-18T10:23:46Z' '2018-12-18T10:23:48Z'\n",
      " '2018-12-18T10:23:53Z' '2018-12-18T10:23:54Z' '2018-12-18T10:23:55Z'\n",
      " '2018-12-18T10:24:12Z' '2018-12-18T10:26:24Z' '2018-12-18T10:26:27Z'\n",
      " '2018-12-18T10:26:28Z' '2018-12-18T10:26:29Z' '2018-12-18T10:26:43Z'\n",
      " '2018-12-18T10:30:19Z' '2018-12-18T10:30:21Z' '2019-12-06T14:34:31Z'\n",
      " '2018-12-18T10:31:27Z' '2018-12-18T10:31:28Z' '2018-12-18T10:21:12Z'\n",
      " '2018-12-18T10:26:21Z' '2019-12-06T14:35:39Z' '2018-12-18T10:27:11Z'\n",
      " '2018-12-18T10:30:17Z' '2018-12-18T10:30:32Z' '2018-12-18T10:21:30Z'\n",
      " '2018-12-18T10:21:00Z' '2018-12-18T10:21:02Z' '2018-12-18T10:21:03Z'\n",
      " '2018-12-18T10:21:04Z' '2018-12-18T10:22:00Z' '2018-12-18T10:22:01Z'\n",
      " '2018-12-18T10:22:28Z' '2018-12-18T10:22:30Z' '2018-12-18T10:24:34Z'\n",
      " '2018-12-18T10:24:37Z' '2018-12-18T10:24:40Z' '2018-12-18T10:24:43Z'\n",
      " '2018-12-18T10:24:44Z' '2018-12-18T10:24:46Z' '2018-12-18T10:29:16Z'\n",
      " '2018-12-18T10:29:20Z' '2018-12-18T10:29:21Z' '2018-12-18T10:29:25Z'\n",
      " '2018-12-18T10:24:45Z' '2020-02-14T13:51:19Z' '2018-12-18T10:28:53Z'\n",
      " '2018-12-18T10:24:18Z' '2018-12-18T10:24:23Z' '2018-12-18T10:30:33Z'\n",
      " '2018-12-18T10:30:37Z' '2018-12-18T10:30:42Z' '2018-12-18T10:26:22Z'\n",
      " '2018-12-18T10:20:33Z' '2018-12-18T10:23:58Z' '2018-12-18T10:24:02Z'\n",
      " '2018-12-18T10:24:03Z' '2018-12-18T10:24:05Z' '2018-12-18T10:24:06Z'\n",
      " '2018-12-18T10:24:07Z' '2018-12-18T10:24:08Z' '2018-12-18T10:24:09Z'\n",
      " '2018-12-18T10:24:10Z' '2018-12-18T10:24:11Z' '2018-12-18T10:28:24Z'\n",
      " '2018-12-18T10:27:51Z' '2018-12-18T10:21:59Z' '2018-12-18T10:27:47Z'\n",
      " '2018-12-18T10:20:58Z' '2018-12-18T10:20:59Z' '2018-12-18T10:22:26Z'\n",
      " '2018-12-18T10:27:41Z' '2018-12-18T10:27:42Z' '2018-12-18T10:28:19Z'\n",
      " '2018-12-18T10:28:23Z' '2018-12-18T10:28:26Z' '2018-12-18T10:29:49Z'\n",
      " '2018-12-18T10:29:50Z' '2018-12-18T10:29:54Z' '2018-12-18T10:29:56Z'\n",
      " '2018-12-18T10:29:58Z' '2018-12-18T10:30:00Z' '2018-12-18T10:30:02Z'\n",
      " '2018-12-18T10:27:52Z' '2018-12-18T10:29:02Z' '2018-12-18T10:23:33Z'\n",
      " '2018-12-18T10:29:01Z' '2018-12-18T10:29:12Z' '2018-12-18T10:29:15Z'\n",
      " '2018-12-18T10:29:30Z' '2019-08-22T14:50:43Z' '2018-12-18T10:29:31Z'\n",
      " '2018-12-18T10:29:36Z' '2018-12-18T10:29:29Z' '2018-12-18T10:29:04Z'\n",
      " '2018-12-18T10:25:40Z' '2018-12-18T10:26:09Z' '2018-12-18T10:26:10Z'\n",
      " '2018-12-18T10:25:41Z' '2018-12-18T10:25:44Z' '2018-12-18T10:25:47Z'\n",
      " '2018-12-18T10:25:48Z' '2018-12-18T10:25:49Z' '2018-12-18T10:25:55Z'\n",
      " '2018-12-18T10:25:56Z' '2018-12-18T10:25:57Z' '2018-12-18T10:25:58Z'\n",
      " '2018-12-18T10:26:00Z' '2018-12-18T10:26:03Z' '2018-12-18T10:26:04Z'\n",
      " '2018-12-18T10:26:05Z' '2018-12-18T10:26:08Z' '2018-12-18T10:26:11Z'\n",
      " '2018-12-18T10:25:45Z' '2018-12-18T10:25:24Z' '2018-12-18T10:26:39Z'\n",
      " '2018-12-18T10:26:40Z' '2018-12-18T10:27:06Z' '2020-02-10T13:33:18Z'\n",
      " '2020-02-10T13:19:42Z' '2020-02-10T13:19:14Z' '2020-02-10T13:26:04Z'\n",
      " '2020-02-10T13:29:13Z' '2020-02-11T15:38:18Z' '2020-02-11T16:03:57Z'\n",
      " '2020-02-11T15:39:15Z' '2020-02-14T09:19:10Z' '2020-02-14T10:16:14Z'\n",
      " '2019-08-23T11:54:21Z' '2020-02-19T08:41:08Z' '2018-12-18T10:20:13Z'\n"
     ]
    },
    {
     "name": "stdout",
     "output_type": "stream",
     "text": [
      " '2018-12-18T10:23:52Z' '2018-12-18T10:20:19Z']\n",
      "2019-11-15T17:34:16Z    21245\n",
      "2019-11-15T17:31:48Z     5768\n",
      "2019-11-15T17:29:44Z     5001\n",
      "2019-11-15T17:20:30Z     1765\n",
      "2020-05-13T12:53:53Z     1632\n",
      "                        ...  \n",
      "2018-12-18T10:30:32Z        1\n",
      "2018-12-18T10:30:17Z        1\n",
      "2019-08-22T15:13:07Z        1\n",
      "2019-12-06T14:35:39Z        1\n",
      "2018-12-18T10:20:19Z        1\n",
      "Name: timestamp, Length: 581, dtype: int64\n",
      "\n",
      " **************************************** \n",
      "\n",
      "accessibility :\n",
      " [nan 'Unknown' 'Yes']\n",
      "Unknown    117\n",
      "Yes         17\n",
      "Name: accessibility, dtype: int64\n",
      "\n",
      " **************************************** \n",
      "\n",
      "lga_name :\n",
      " ['Maiduguri' 'Askira Uba' 'Biu' 'Gwoza' 'Hawul' 'Damboa' 'Abadam' 'Bayo'\n",
      " 'Shani' 'Mobbar' 'Chibok' 'Konduga' 'Magumeri' 'Guzamala' 'Nganzai'\n",
      " 'Mafa' 'Kukawa' 'Bama' 'Marte' 'Dikwa' 'Kwaya Kusar' 'Jere' 'Monguno'\n",
      " 'Ngala' 'Kala Balge' 'Kaga' 'Gubio' 'Gwer East' 'Darazo' 'Shagamu'\n",
      " 'Shinkafi' 'Kogi' 'Ofu' 'Igalamela-Odolu' 'Lokoja' 'Nangere' 'Okehi'\n",
      " 'Okene' 'Olamaboro' 'Idah' 'Birnin Magaji-Kiyaw' 'Ugwunagbo' 'Ikenne'\n",
      " 'Onicha' 'Orhionmwon' 'Bungudu' 'Ekiti West' 'Orsu' 'Maru' 'Kaura Namoda'\n",
      " 'Efon' 'Wasagu-Danko' 'Maiyama' 'Fakai' 'Zuru' 'Langtang South' 'Ewekoro'\n",
      " 'Oshodi/Isolo' 'Oru West' 'Suru' 'Chanchaga' 'Augie' 'Shiroro' 'Tai'\n",
      " 'Toungo' 'Guma' 'Ipokia' 'Ibadan North West' 'Ilorin West' 'Ogbaru'\n",
      " 'Osogbo' 'Ife Central' 'Ilesha East' 'Ifelodun' 'Ogba/Egbema/Ndoni'\n",
      " 'Shelleng' 'Bodinga' 'Oju' 'Gombi' 'Uzo-Uwani' 'Yamaltu/Deba' 'Akko'\n",
      " 'Yewa North' 'Imeko Afon' 'Yenegoa' 'Ebonyi' 'Owo' 'Ondo West'\n",
      " 'Anambra West' 'Owerri Municipal' 'Isu' 'Ehime-Mbano' 'Okigwe'\n",
      " 'Ado-Ekiti' 'Isiala-Ngwa South' 'Ikwuano' 'Orumba North'\n",
      " 'Ile Oluji/Okeigbo' 'Isiala Mbano' 'Ese Odo' 'Ngor-Okpala' 'Owerri North'\n",
      " 'Ivo' 'Umu-Nneochi' 'Ijebu Ode' 'Ifo' 'Remo North' 'Ogun Waterside'\n",
      " 'Abeokuta South' 'Odeda' 'Oji-River' 'Igbo-Etiti' 'Lagos Island' 'Ihiala'\n",
      " 'Isiala-Ngwa North' 'Oluyole' 'Obi Nwga' 'Bende' 'Umuahia South'\n",
      " 'Umuahia North' 'Aba South' 'Ukwa East' 'Ohafia' 'Ibeju Lekki' 'Alimosho'\n",
      " 'Ojo' 'Ikorodu' 'Anaocha' 'Isuikwuato' 'Osisioma Ngwa' 'Koko-Besse'\n",
      " 'Ukwa West' 'Nnewi South' 'Aba North' 'Badagry' 'Eti Osa' 'Kosofe'\n",
      " 'Ikeja' 'Arochukwu' 'Ijebu East' 'Abeokuta North' 'Ijebu North'\n",
      " 'Obafemi Owode' 'Yewa South' 'Bassa' 'Odogbolu' 'Ado Odo/Ota'\n",
      " 'Ijebu North East' 'Nsukka' 'Nkanu East' 'Ezeagu' 'Awgu' 'Igbo-Eze-South'\n",
      " 'Mubi North' 'Ikole' 'Aguata' 'Anambra East' 'Epe' 'Lagos Mainland'\n",
      " 'Awka North' 'Ajeromi/Ifelodun' 'Oyi' 'Mushin' 'Ezinihitte'\n",
      " 'Idemili North' 'Nnewi North' 'Surulere' 'Agege' 'Amuwo Odofin' 'Apapa'\n",
      " 'Ifako/Ijaye' 'Orumba South' 'Izzi' 'Afikpo North' 'Ishielu' 'Ikwo'\n",
      " 'Ezza North' 'Abakaliki' 'Bunza' 'Ezza South' 'Ohaozara' 'Ohaukwu'\n",
      " 'Ibadan South East' 'Afikpo South' 'Enugu East' 'Irewole' 'Atisbo'\n",
      " 'Saki West' 'Afijio' 'Kajola' 'Ogbomosho North' 'Ibadan South West'\n",
      " 'Akinyele' 'Ogo Oluwa' 'Olorunsogo' 'Lagelu' 'Ori Ire' 'Ido'\n",
      " 'Ibadan North' 'Ona Ara' 'Orelope' 'Iseyin' 'Atiba' 'Oriade' 'Ila'\n",
      " 'Ife East' 'Ejigbo' 'Obokun' 'Ife North' 'Boripe' 'Ayedade' 'Egbedore'\n",
      " 'Ifedayo' 'Odo Otin' 'Ilesha West' 'Ife South' 'Oyo West' 'Irepo'\n",
      " 'Oru East' 'Ihitte/Uboma' 'Orlu' 'Mbatoli' 'Nkwerre' 'Aboh-Mbaise'\n",
      " 'Ibarapa East' 'Atakunmosa East' 'Ibadan North East' 'Egbeda' 'Oyo East'\n",
      " 'Ibarapa North' 'Ayedire' 'Ede South' 'Itesiwaju' 'Iwajowa'\n",
      " 'Ogbomosho South' 'Ikeduru' 'Ideato North' 'Obowo' 'Nwangele'\n",
      " 'Atakunmosa West' 'Isokan' 'Boluwaduro' 'Ideato South' 'Oguta'\n",
      " 'Tafawa-Balewa' 'Ibarapa Central' 'Michika' 'Ahiazu-Mbaise'\n",
      " 'Ohaji/Egbema' 'Iwo' 'Ekiti South-West' 'Onitsha South' 'Ekwusigo' 'Obi'\n",
      " 'Idemili South' 'Dunukofia' 'Shomolu' 'Orolu' 'Okpe' 'Sabon Birni'\n",
      " 'Njaba' 'Igbo-Eze North' 'Nembe' 'Ekeremor' 'Sagbama' 'Buruku' 'Ushongo'\n",
      " 'Ohimini' 'Oturkpo' 'Tarka' 'Makurdi' 'Gboko' 'Giwa' 'Ogbadibo' 'Kwande'\n",
      " 'Wase' 'Vandeikya' 'Irepodun/Ifelodun' 'Misau' 'Nasarawa' 'Akwanga'\n",
      " 'Gombe' \"Jama'Are\" 'Gulani' 'Potiskum' 'Kafur' 'Musawa' 'Rimi'\n",
      " 'Batagarawa' 'Funtua' 'Bakori' 'Kolokuma/Opokuma' 'Southern Ijaw'\n",
      " \"Mai'Adua\" 'Danja' 'Ijumu' 'Mopa-Muro' 'Omala' 'Dandume' 'Matazu' 'Baure'\n",
      " 'Charanchi' 'Kaita' 'Katsina' 'Kankia' 'Batsari' 'Dutsin Ma' 'Kirfi'\n",
      " 'Safana' 'Kurfi' 'Zango' 'Dan Musa' 'Odigbo' 'Akure South' 'Okitipupa'\n",
      " 'Ajaokuta' 'Sapele' 'Yagba East' 'Owerri West' 'Oke Ero' 'Isin' 'Bindawa'\n",
      " 'Aniocha South' 'Esan Central' 'Etsako West' 'Ovia North-East'\n",
      " 'Ughelli South' 'Rabah' 'Awka South' 'Ndokwa East' 'Ndokwa West' 'Dass'\n",
      " 'Bauchi' 'Guri' 'Malumfashi' 'Dambam' 'Kankara' 'Ningi' 'Toro' 'Bogoro'\n",
      " 'Itas/Gadau' 'Warji' 'Jos South' 'Jibia' 'Billiri' 'Barkin Ladi'\n",
      " 'Pankshin' 'Bokkos' 'Jos East' 'Langtang North' 'Zaki' 'Mangu' 'Keffi'\n",
      " \"Qua'An Pan\" 'Riyom' 'Jos North' 'Faskari' 'Shendam' 'Nafada' 'Yala'\n",
      " 'Balanga' 'Daura' 'Geidam' 'Bursari' 'Damaturu' 'Nguru' 'Tarmuwa' 'Mashi'\n",
      " 'Abaji' 'Shomgom' 'Bwari' 'Gwagwalada' 'Kwali' 'Municipal Area Council'\n",
      " 'Sabuwa' 'Fika' 'Ingawa' 'Kusada' 'Alkaleri' 'Sandamu' 'Kokona' 'Lafia'\n",
      " 'Dutsi' 'Njikoka' 'Mani' 'Dekina' 'Kabba/Bunu' 'Karu' 'Moro' 'Goronyo'\n",
      " 'Gamawa' 'Katagum' 'Giade' 'Shira' 'Wamakko' 'Dukku' 'Kwami' 'Kaltungo'\n",
      " 'Mikang' 'Babura' 'Miga' 'Birnin Kudu' 'Ganjuwa' 'Shagari' 'Kanam'\n",
      " 'Kanke' 'Ukum' 'Roni' 'Uvwie' 'Tsafe' 'Donga' 'Funakaye' 'Ikere'\n",
      " 'Katsina-Ala' 'Fune' 'Shanga' 'Jakusko' 'Karasuwa' 'Yunusari' 'Bade'\n",
      " 'Gujba' 'Machina' 'Yusufari' 'Onitsha North' 'Gwaram' 'Kiri Kasama'\n",
      " 'Taura' 'Malam Madori' 'Dutse' 'Ringim' 'Agaie' 'Maigatari' 'Gwiwa'\n",
      " 'Kafin Hausa' 'Kaiama' 'Akoko North West' 'Buji' 'Gumel' 'Warri South'\n",
      " 'Brass' 'Udi' 'Ughelli North' 'Ukwuani' 'Udu' 'Apa' 'Enugu North'\n",
      " 'Ikpoba-Okha' 'Oshimili North' 'Aniocha North' 'Ondo East' 'Gummi'\n",
      " 'Ilaje' 'Akoko North East' 'Iguegben' 'Isoko North' 'Akoko South West'\n",
      " 'Sule Tankarkar' 'Ibaji' 'Asa' 'Gudu' 'Oshimili South' 'Egor'\n",
      " 'Esan North-East' 'Etsako East' 'Isoko South' 'Oredo' 'Akoko-Edo'\n",
      " 'Kaugama' 'Gada' 'Auyo' 'Gagarawa' 'Jahun' 'Illela' 'Mayo-Belwa'\n",
      " 'Ido-Osi' 'Ekiti' 'Kuje' 'Awe' 'Moba' 'Pategi' 'Warri South-West'\n",
      " 'Ika South' 'Bakura' 'Ogbia' 'Gusau' 'Silame' 'Anka' 'Zurmi'\n",
      " 'Talata Mafara' 'Okpokwu' 'Agatu' 'Demsa' 'Bunkure' 'Kebbe' 'Hong'\n",
      " 'Tambuwal' 'Ayamelum' 'Konshisha' 'Logo' 'Gwer West' 'Sokoto South'\n",
      " 'Doma' 'Jada' 'Song' 'Abua/Odual' 'Toto' 'Isa' 'Tangaza' 'Tureta' 'Yabo'\n",
      " 'Ado' 'Warri North' 'Ovia South-West' 'Esan West' 'Uhunmwonde'\n",
      " 'Esan South-East' 'Owan East' 'Etsako Central' 'Saki East' 'Fufore'\n",
      " 'Ola Oluwa' 'Kware' 'Olorunda' 'Lavun' 'Gwadabawa' 'Oye'\n",
      " 'Akoko South East' 'Nasarawa Egon' 'Wamba' 'Ede North' 'Isi-Uzo' 'Udenu'\n",
      " 'Bukkuyum' 'Idanre' 'Ifedore' 'Baruten' 'Aninri' 'Irepodun' 'Kiyawa'\n",
      " 'Ekiti East' 'Ika North East' 'Nkanu West' 'Enugu South' 'Edu' 'Burutu'\n",
      " 'Gbonyin' 'Doguwa' 'Kabo' 'Tarauni' 'Kiru' 'Garun Malam' 'Bagwai'\n",
      " 'Rimin Gado' 'Madobi' 'Shanono' 'Tofa' 'Dawakin Tofa' 'Bebeji' 'Gezawa'\n",
      " 'Ungogo' 'Ajingi' 'Kura' 'Fagge' 'Gabasawa' 'Gaya' 'Kano Municipal'\n",
      " 'Dala' 'Kibiya' 'Warawa' 'Rano' 'Garko' 'Bichi' 'Ethiope West' 'Maradun'\n",
      " 'Mubi South' 'Ise/Orun' 'Hadejia' 'Ankpa' 'Yagba West' 'Ilorin East'\n",
      " 'Offa' 'Owan West' 'Ijero' 'Dambatta' 'Yankwashi' 'Numan' 'Emure' 'Munya'\n",
      " 'Obubra' 'Karim Lamido' 'Onuimo' 'Ose' 'Akure North' 'Keana' 'Gokana'\n",
      " 'Obudu' 'Maiha' 'Bomadi' 'Adavi' 'Ilejemeje' 'Rogo' 'Irele' 'Tsanyawa'\n",
      " 'Sumaila' 'Gwarzo' 'Gwale' 'Dawakin Kudu' 'Kunchi' 'Sardauna' 'Nassarawa'\n",
      " 'Takai' 'Kumbotso' 'Wudil' 'Karaye' 'Albasu' 'Makoda' 'Minjibir' 'Gassol'\n",
      " 'Yorro' 'Kurmi' 'Ibi' 'Zing' 'Bali' 'Jalingo' 'Guyuk' 'Wukari'\n",
      " 'Ardo-Kola' 'Lau' 'Obio/Akpor' 'Girei' 'Yola North' 'Itu' 'Ussa' 'Takum'\n",
      " 'Gashaka' 'Ganye' 'Lamurde' 'Madagali' 'Yola South' 'Omumma' 'Biase'\n",
      " 'Borgu' 'Kazaure' 'Edati' 'Bida' 'Gbako' 'Mariga' 'Mashegu' 'Rafi'\n",
      " 'Arewa Dandi' 'Birnin Kebbi' 'Bagudu' 'Dandi' 'Gwandu' 'Ngaski' 'Sakaba'\n",
      " 'Argungu' 'Aleiro' 'Kalgo' 'Lapai' 'Paikoro' 'Kontagora' 'Gurara' 'Tafa'\n",
      " 'Bosso' 'Yauri' 'Katcha' 'Suleja' 'Mokwa' 'Jega' 'Rijau' 'Wushishi'\n",
      " 'Agwara' 'Magama' 'Ogoja' 'Abi' 'Boki' 'Odukpani' 'Bakassi' 'Etung'\n",
      " 'Ikom' 'Yakurr' 'Oron' 'Abak' 'Nsit Ubium' 'Mkpat Enin' 'Etinan' 'Eket'\n",
      " 'Eleme' 'Ibeno' 'Obanliku' 'Akamkpa' 'Uyo' 'Port-Harcourt' 'Ibiono Ibom'\n",
      " 'Ukanafun' 'Ikono' 'Urue Offong/Oruko' 'Nsit Atai' 'Obot Akara'\n",
      " 'Oruk Anam' 'Oyigbo' 'Etim Ekpo' 'Ibesikpo Asutan' 'Ahoada East' 'Emuoha'\n",
      " 'Etche' 'Khana' 'Andoni' 'Ikwerre' 'Asari-Toru' 'Uruan' 'Akpabuyo'\n",
      " 'Bekwarra' 'Ika' 'Essien Udim' 'Ini' 'Ikot Abasi' 'Eastern Obolo'\n",
      " 'Udung Uko' 'Nsit Ibom' 'Igabi' 'Calabar South' 'Kachia' 'Okobo' 'Onna'\n",
      " 'Mbo' 'Birnin Gwari' 'Chikun' 'Kaura' 'Kauru' 'Sabon Gari' 'Kudan'\n",
      " 'Sanga' 'Ikara' 'Kagarko' \"Jema'A\" 'Makarfi' 'Zaria' 'Kubau'\n",
      " 'Kaduna South' 'Lere' 'Soba' 'Zangon Kataf' 'Kaduna North' 'Jaba'\n",
      " 'Tudun Wada' 'Opobo/Nkoro' 'Akuku Toru' 'Okrika' 'Esit Eket' 'Kajuru'\n",
      " 'Oyun' 'Patani' 'Wurno' 'Ogori/Magongo' 'Binji' 'Dange Shuni'\n",
      " 'Sokoto North' 'Garki' 'Biriniwa' 'Ilorin South' 'Ethiope East'\n",
      " 'Ahoada West' 'Bonny' 'Degema' 'Ogu Bolo' 'Calabar Municipal'\n",
      " 'Ikot Ekpene']\n",
      "Ifo                       226\n",
      "Municipal Area Council    226\n",
      "Surulere                  222\n",
      "Ado Odo/Ota               216\n",
      "Bassa                     215\n",
      "                         ... \n",
      "Warri South-West           11\n",
      "Ogu Bolo                   11\n",
      "Akuku Toru                 10\n",
      "Opobo/Nkoro                 9\n",
      "Degema                      6\n",
      "Name: lga_name, Length: 769, dtype: int64\n",
      "\n",
      " **************************************** \n",
      "\n",
      "lga_code :\n",
      " [  124   102   105   111   112   107   101   104   127   122   106   116\n",
      "   120   110   126   119   117   103   121   108   118   113   123   125\n",
      "   115   114   109  7007  5005 28020   811 23011 23014 23008 23012   712\n",
      " 23016 23017 23018 23007   803  1012 28012 11013 12013   805 13005 17021\n",
      "   810   808 13002   519   514   509   521 32010 28006 25016 17023   518\n",
      " 27006   504 27022 33023  2019  7006 28014 31008 24008  4016 30030 30011\n",
      " 30018 30016 33016  2017   602  7017  2005 14017 16011 16001 28004 28013\n",
      "  6008 11004 29018 29016  4003 17024 17010 17003 17019 13001  1007  1005\n",
      "  4019 29011 17009 29007 17012 17025 11009  1015 28011 28007 28019 28018\n",
      " 28002 28016 14014 14007 25020  4012  1006 31025  1009  1004  1017  1016\n",
      "  1002  1013  1010 25009 25003 25015 25012  4004  1008  1011   513  1014\n",
      "  4015  1001 25006 25008 25013 25011  1003 28008 28001 28009 28015 28005\n",
      " 32002 28017 28003 28010 14013 14011 14006 14002 14009  2014 13011  4001\n",
      "  4002 25007 25019  4005 25002  4021 25014 17004  4010  4014 25018 25001\n",
      " 25004 25005 25010  4020 31033 11010 11002 11008 11007 11005 11001   507\n",
      " 11006 11011 11012 31009 11003 14003 30021 31004 31032 31001 31019 31021\n",
      " 31010 31002 31023 31024 31020 31028 31014 31006 31026 31027 31016 31003\n",
      " 30028 30017 30012 30010 30024 30013 30006 30001 30009 30015 30025 30019\n",
      " 30014 31030 31015 17022 17007 17020 17011 17014 17001 31012 30003 31007\n",
      " 31005 31029 31013 30002 30008 31017 31018 31022 17008 17005 17016 17015\n",
      " 30004 30022 30005 17006 17017  5017 31011  2013 17002 17018 30023 13004\n",
      "  4018  4009  7014  4011  4008 25017 30029 10013   613 17013 14008  6004\n",
      "  6002  6006  7004  7022  7016  7019  7020  7013  7005 19003  7015  7011\n",
      " 32017  7023 13013  5014 26009 26001 16006  5011   708   714   417   429\n",
      "   430   402   414   401  6003  6007   424   408 23004 23009 23013 23019\n",
      "   407   428 26011   404   406   418   421   420   403   412  5013   432\n",
      "   422   434   409 29013 29006 29014 23002 10017 23020 17026 24014 24010\n",
      "   405 10002 12004 12009 12014 10020   612  4006 10011 10012  5006  5002\n",
      " 18005   425  5004   419  5015  5018  5003  5010  5019 32006   416 16003\n",
      " 32001 32013 32003 32004 32009  5020 32011 26006 32014 32015 32005   413\n",
      " 32016 16009  9018 16002   410   706   702   703   713   715   427 15001\n",
      " 16010 15002 15003 15005 15006   431   704   415   423  5001   433 26007\n",
      " 26008   411  4013   426 23005 23010 26004 24012   605  5007  5012  5009\n",
      "  5016   621 16004 16008 16007 32012 18004 18014 18022  5008   614 32007\n",
      " 32008  7021 18015 10022   813 35003 16005 13010  7009   705   517   709\n",
      "   710   716   701   707   711   717  4017 18008 18007 18002 18017 18012\n",
      " 18020 27001 18023 18009 18027 24011 29002 18018 18006 10024  6001 14016\n",
      " 10019 10021 10018  7003 14004 12011 10014 10001 29015   806 29010 29001\n",
      " 12010 10009 29004 18030 23006 24001   606 10015 12002 12003 12008 10010\n",
      " 12012 12001 18001   604 18013 18016 18026   608  2012 13008 24004 15004\n",
      " 26002 13015 24016 10025 10008   802  6005   807   615   801   814   812\n",
      "  7018  7002  2001 20028 24005   610  2007   618  4007  7010  7012  7008\n",
      "   617 26003  2008  2018 33001 26012   609   619   620   623  7001 10023\n",
      " 12015 12006 12018 12005 12016 12007 31031  2002 30026   611 30027 27013\n",
      "   607 13016 29003 26010 26013 30007 14010 14015   804 29008 29009 24002\n",
      " 14001 24009 18025 13003 10007 14012 14005 24003 10004 13007 20020 20026\n",
      " 20001 20034 20003 20038 20005 20036 20013 20015 20021 20025 20010 20018\n",
      " 20004 20035 20030 20016 20007 20043 20024 20033 20019 20014 20006 20031\n",
      " 10006   809  2015 13014 18011 23003 23021 24006 24013 12017 13009 20023\n",
      " 18019  2016 13006 27018  9013 35008 17027 29017 29005 26005 33012  9014\n",
      "  2011 10003 23001 13012 20032 29012 20008 20011 20017 20012 20022 20042\n",
      " 35011 20037 20002 20044 20027 20041 20009 20039 20040 35005 35015 35009\n",
      " 35006 35016 35002 35007  2006 35014 35001 35010 33015  2004  2020  3016\n",
      " 35013 35012 35004  2003  2009  2010  2021 33019  9006 27004 18010 27007\n",
      " 27003 27008 27015 27016 27020   502   506   505   508   510   515   516\n",
      "   503   501   512 27012 27019 27011 27009 27024 27005   520 27010 27023\n",
      " 27017   511 27021 27025 27002 27014  9016  9001  9007  9015  9004  9010\n",
      "  9011  9017  3025  3001  3021  3018  3007  3003 33009  3008  9012  9002\n",
      "  3031 33022  3010  3028  3012  3030  3019  3022  3026 33021  3006  3009\n",
      " 33002 33010 33011 33014 33005 33013 33006  3029  9003  9005  3011  3005\n",
      "  3015  3013  3002  3027  3020 19004  9009 19008  3023  3024  3017 19001\n",
      " 19002 19013 19014 19019 19016 19020 19005 19011 19007 19018 19023 19015\n",
      " 19010 19017 19021 19022 19009 19006 20029 33020 33004 33018  3004 19012\n",
      " 24015 10016   622 23015   601   603   616 18024 18021 24007 10005 33003\n",
      " 33007 33008 33017  9008 30020  3014]\n",
      "28007    226\n",
      "15006    226\n",
      "28003    216\n",
      "25003    215\n",
      "25016    189\n",
      "        ... \n",
      "10025     11\n",
      "33017     11\n",
      "33004     10\n",
      "33020      9\n",
      "33008      6\n",
      "Name: lga_code, Length: 774, dtype: int64\n",
      "\n",
      " **************************************** \n",
      "\n",
      "state_code :\n",
      " ['BR' 'BE' 'BA' 'OG' 'ZA' 'KO' 'YO' 'AB' 'EB' 'ED' 'EK' 'IM' 'KB' 'PL'\n",
      " 'LA' 'NI' 'RI' 'AD' 'OY' 'KW' 'AN' 'OS' 'SO' 'EN' 'GO' 'BY' 'ON' 'DE'\n",
      " 'KD' nan 'KT' 'JI' 'CR' 'FC' 'TA' 'KN' 'AK']\n",
      "LA    2320\n",
      "KT    2228\n",
      "BE    2192\n",
      "NI    2010\n",
      "OG    1721\n",
      "OY    1713\n",
      "IM    1661\n",
      "AN    1648\n",
      "OS    1607\n",
      "AD    1575\n",
      "KN    1561\n",
      "KO    1499\n",
      "CR    1470\n",
      "EN    1384\n",
      "TA    1380\n",
      "PL    1348\n",
      "BA    1331\n",
      "AB    1218\n",
      "EB    1112\n",
      "KD    1103\n",
      "KB    1091\n",
      "ON    1025\n",
      "ED     972\n",
      "ZA     916\n",
      "SO     914\n",
      "DE     909\n",
      "KW     891\n",
      "BR     884\n",
      "AK     870\n",
      "GO     776\n",
      "JI     729\n",
      "RI     723\n",
      "EK     679\n",
      "YO     597\n",
      "FC     576\n",
      "BY     387\n",
      "Name: state_code, dtype: int64\n",
      "\n",
      " **************************************** \n",
      "\n",
      "state_name :\n",
      " ['Borno' 'Benue' 'Bauchi' 'Ogun' 'Zamfara' 'Kogi' 'Yobe' 'Abia' 'Ebonyi'\n",
      " 'Edo' 'Ekiti' 'Imo' 'Kebbi' 'Plateau' 'Lagos' 'Niger' 'Rivers' 'Adamawa'\n",
      " 'Oyo' 'Kwara' 'Anambra' 'Osun' 'Sokoto' 'Enugu' 'Gombe' 'Bayelsa' 'Ondo'\n",
      " 'Delta' 'Kaduna' 'Nasarawa' 'Katsina' 'Jigawa' 'Cross River' 'Fct'\n",
      " 'Taraba' 'Kano' 'Akwa Ibom']\n",
      "Lagos          2320\n",
      "Katsina        2228\n",
      "Benue          2192\n",
      "Niger          2010\n",
      "Ogun           1721\n",
      "Oyo            1713\n",
      "Imo            1661\n",
      "Anambra        1648\n",
      "Osun           1607\n",
      "Adamawa        1575\n",
      "Kano           1561\n",
      "Kogi           1499\n",
      "Cross River    1470\n",
      "Enugu          1384\n",
      "Taraba         1380\n",
      "Plateau        1348\n",
      "Bauchi         1331\n",
      "Abia           1218\n",
      "Nasarawa       1126\n",
      "Ebonyi         1112\n",
      "Kaduna         1103\n",
      "Kebbi          1091\n",
      "Ondo           1025\n",
      "Edo             972\n",
      "Zamfara         916\n",
      "Sokoto          914\n",
      "Delta           909\n",
      "Kwara           891\n",
      "Borno           884\n",
      "Akwa Ibom       870\n",
      "Gombe           776\n",
      "Jigawa          729\n",
      "Rivers          723\n",
      "Ekiti           679\n",
      "Yobe            597\n",
      "Fct             576\n",
      "Bayelsa         387\n",
      "Name: state_name, dtype: int64\n",
      "\n",
      " **************************************** \n",
      "\n",
      "FID :\n",
      " ['sv_health_facilities.fid--3185df38_17a314b4ee6_9a6'\n",
      " 'sv_health_facilities.fid--3185df38_17a314b4ee6_9a7'\n",
      " 'sv_health_facilities.fid--3185df38_17a314b4ee6_9a8' ...\n",
      " 'sv_health_facilities.fid--3185df38_17a326f927a_-421a'\n",
      " 'sv_health_facilities.fid--3185df38_17a326f927a_-4219'\n",
      " 'sv_health_facilities.fid--3185df38_17a326f927a_-4218']\n",
      "sv_health_facilities.fid--3185df38_17a314b4ee6_9a6      1\n",
      "sv_health_facilities.fid--3185df38_17a326f927a_-7e34    1\n",
      "sv_health_facilities.fid--3185df38_17a326f927a_-7e32    1\n",
      "sv_health_facilities.fid--3185df38_17a326f927a_-7e31    1\n",
      "sv_health_facilities.fid--3185df38_17a326f927a_-7e30    1\n",
      "                                                       ..\n",
      "sv_health_facilities.fid--3185df38_17a314b4ee6_45bd     1\n",
      "sv_health_facilities.fid--3185df38_17a314b4ee6_45be     1\n",
      "sv_health_facilities.fid--3185df38_17a314b4ee6_45bf     1\n",
      "sv_health_facilities.fid--3185df38_17a314b4ee6_45c0     1\n",
      "sv_health_facilities.fid--3185df38_17a326f927a_-4218    1\n",
      "Name: FID, Length: 46146, dtype: int64\n",
      "\n",
      " **************************************** \n",
      "\n"
     ]
    }
   ],
   "source": [
    "# let's check unique values\n",
    "columns=df.columns\n",
    "for col in columns:\n",
    "    print(col,':\\n',df[col].unique())\n",
    "    print(df[col].value_counts())\n",
    "    print('\\n',20*'**','\\n')"
   ]
  },
  {
   "cell_type": "code",
   "execution_count": 5,
   "id": "2ce16c84",
   "metadata": {},
   "outputs": [
    {
     "data": {
      "text/plain": [
       "Index(['id', 'name', 'global_id', 'alternate_name', 'functional_status',\n",
       "       'type', 'ward_code', 'category', 'timestamp', 'accessibility',\n",
       "       'lga_name', 'lga_code', 'state_code', 'state_name', 'FID'],\n",
       "      dtype='object')"
      ]
     },
     "execution_count": 5,
     "metadata": {},
     "output_type": "execute_result"
    }
   ],
   "source": [
    "df.columns"
   ]
  },
  {
   "cell_type": "code",
   "execution_count": 6,
   "id": "7f2714a2",
   "metadata": {},
   "outputs": [
    {
     "name": "stdout",
     "output_type": "stream",
     "text": [
      "<class 'pandas.core.frame.DataFrame'>\n",
      "RangeIndex: 46146 entries, 0 to 46145\n",
      "Data columns (total 15 columns):\n",
      " #   Column             Non-Null Count  Dtype \n",
      "---  ------             --------------  ----- \n",
      " 0   id                 46146 non-null  int64 \n",
      " 1   name               46146 non-null  object\n",
      " 2   global_id          46146 non-null  object\n",
      " 3   alternate_name     4026 non-null   object\n",
      " 4   functional_status  46146 non-null  object\n",
      " 5   type               46146 non-null  object\n",
      " 6   ward_code          46146 non-null  object\n",
      " 7   category           46112 non-null  object\n",
      " 8   timestamp          46146 non-null  object\n",
      " 9   accessibility      134 non-null    object\n",
      " 10  lga_name           46146 non-null  object\n",
      " 11  lga_code           46146 non-null  int64 \n",
      " 12  state_code         45020 non-null  object\n",
      " 13  state_name         46146 non-null  object\n",
      " 14  FID                46146 non-null  object\n",
      "dtypes: int64(2), object(13)\n",
      "memory usage: 5.3+ MB\n"
     ]
    }
   ],
   "source": [
    "df.info()"
   ]
  },
  {
   "cell_type": "code",
   "execution_count": 10,
   "id": "b1fdb347",
   "metadata": {},
   "outputs": [
    {
     "data": {
      "text/plain": [
       "0"
      ]
     },
     "execution_count": 10,
     "metadata": {},
     "output_type": "execute_result"
    }
   ],
   "source": [
    "#There is no duplicate in our dataset\n",
    "duplicates = df.duplicated()\n",
    "duplicates.sum()"
   ]
  },
  {
   "cell_type": "code",
   "execution_count": 8,
   "id": "82225096",
   "metadata": {
    "scrolled": false
   },
   "outputs": [
    {
     "data": {
      "text/plain": [
       "id                       0\n",
       "name                     0\n",
       "global_id                0\n",
       "alternate_name       42120\n",
       "functional_status        0\n",
       "type                     0\n",
       "ward_code                0\n",
       "category                34\n",
       "timestamp                0\n",
       "accessibility        46012\n",
       "lga_name                 0\n",
       "lga_code                 0\n",
       "state_code            1126\n",
       "state_name               0\n",
       "FID                      0\n",
       "dtype: int64"
      ]
     },
     "execution_count": 8,
     "metadata": {},
     "output_type": "execute_result"
    }
   ],
   "source": [
    "df.isna().sum()"
   ]
  },
  {
   "cell_type": "code",
   "execution_count": 46,
   "id": "239c3498",
   "metadata": {},
   "outputs": [],
   "source": [
    "df.drop(['id','global_id', 'alternate_name', 'timestamp', 'FID', 'state_code'],axis = 1,inplace = True)"
   ]
  },
  {
   "cell_type": "code",
   "execution_count": 47,
   "id": "50a98412",
   "metadata": {},
   "outputs": [],
   "source": [
    "# Fill missing values with the mean\n",
    "df = df.fillna(df['category'].mode().iloc[0])\n",
    "df = df.fillna(df['accessibility'].mode().iloc[0])"
   ]
  },
  {
   "cell_type": "code",
   "execution_count": 48,
   "id": "0e16e589",
   "metadata": {},
   "outputs": [
    {
     "data": {
      "text/plain": [
       "name                 0\n",
       "functional_status    0\n",
       "type                 0\n",
       "ward_code            0\n",
       "category             0\n",
       "accessibility        0\n",
       "lga_name             0\n",
       "lga_code             0\n",
       "state_name           0\n",
       "dtype: int64"
      ]
     },
     "execution_count": 48,
     "metadata": {},
     "output_type": "execute_result"
    }
   ],
   "source": [
    "df.isna().sum()"
   ]
  },
  {
   "cell_type": "code",
   "execution_count": 49,
   "id": "360bdf84",
   "metadata": {},
   "outputs": [],
   "source": [
    "# Export current clean dataframe\n",
    "df.to_csv(\"data/df_clean.csv\" , index=False)"
   ]
  },
  {
   "cell_type": "code",
   "execution_count": 50,
   "id": "7ec3bdf0",
   "metadata": {},
   "outputs": [],
   "source": [
    "df = pd.read_csv(\"data/df_clean.csv\")"
   ]
  },
  {
   "cell_type": "code",
   "execution_count": 51,
   "id": "88fb7577",
   "metadata": {},
   "outputs": [
    {
     "data": {
      "text/html": [
       "<div>\n",
       "<style scoped>\n",
       "    .dataframe tbody tr th:only-of-type {\n",
       "        vertical-align: middle;\n",
       "    }\n",
       "\n",
       "    .dataframe tbody tr th {\n",
       "        vertical-align: top;\n",
       "    }\n",
       "\n",
       "    .dataframe thead th {\n",
       "        text-align: right;\n",
       "    }\n",
       "</style>\n",
       "<table border=\"1\" class=\"dataframe\">\n",
       "  <thead>\n",
       "    <tr style=\"text-align: right;\">\n",
       "      <th></th>\n",
       "      <th>name</th>\n",
       "      <th>functional_status</th>\n",
       "      <th>type</th>\n",
       "      <th>ward_code</th>\n",
       "      <th>category</th>\n",
       "      <th>accessibility</th>\n",
       "      <th>lga_name</th>\n",
       "      <th>lga_code</th>\n",
       "      <th>state_name</th>\n",
       "    </tr>\n",
       "  </thead>\n",
       "  <tbody>\n",
       "    <tr>\n",
       "      <th>0</th>\n",
       "      <td>G R A Nursing Home</td>\n",
       "      <td>Unknown</td>\n",
       "      <td>Primary</td>\n",
       "      <td>12413</td>\n",
       "      <td>Primary Health Center</td>\n",
       "      <td>Primary Health Center</td>\n",
       "      <td>Maiduguri</td>\n",
       "      <td>124</td>\n",
       "      <td>Borno</td>\n",
       "    </tr>\n",
       "    <tr>\n",
       "      <th>1</th>\n",
       "      <td>Gishili Health Center</td>\n",
       "      <td>Functional</td>\n",
       "      <td>Primary</td>\n",
       "      <td>12413</td>\n",
       "      <td>Primary Health Center</td>\n",
       "      <td>Unknown</td>\n",
       "      <td>Maiduguri</td>\n",
       "      <td>124</td>\n",
       "      <td>Borno</td>\n",
       "    </tr>\n",
       "    <tr>\n",
       "      <th>2</th>\n",
       "      <td>Lehobi Primary Health Care</td>\n",
       "      <td>Partially Functional</td>\n",
       "      <td>Primary</td>\n",
       "      <td>10207</td>\n",
       "      <td>Primary Health Center</td>\n",
       "      <td>Primary Health Center</td>\n",
       "      <td>Askira Uba</td>\n",
       "      <td>102</td>\n",
       "      <td>Borno</td>\n",
       "    </tr>\n",
       "    <tr>\n",
       "      <th>3</th>\n",
       "      <td>Dugja Idp Camp</td>\n",
       "      <td>Not Functional</td>\n",
       "      <td>Primary</td>\n",
       "      <td>10503</td>\n",
       "      <td>Primary Health Center</td>\n",
       "      <td>Unknown</td>\n",
       "      <td>Biu</td>\n",
       "      <td>105</td>\n",
       "      <td>Borno</td>\n",
       "    </tr>\n",
       "    <tr>\n",
       "      <th>4</th>\n",
       "      <td>Kopa Maikudiri Dispensary</td>\n",
       "      <td>Partially Functional</td>\n",
       "      <td>Primary</td>\n",
       "      <td>10209</td>\n",
       "      <td>Dispensary</td>\n",
       "      <td>Unknown</td>\n",
       "      <td>Askira Uba</td>\n",
       "      <td>102</td>\n",
       "      <td>Borno</td>\n",
       "    </tr>\n",
       "  </tbody>\n",
       "</table>\n",
       "</div>"
      ],
      "text/plain": [
       "                         name     functional_status     type ward_code  \\\n",
       "0          G R A Nursing Home               Unknown  Primary     12413   \n",
       "1       Gishili Health Center            Functional  Primary     12413   \n",
       "2  Lehobi Primary Health Care  Partially Functional  Primary     10207   \n",
       "3              Dugja Idp Camp        Not Functional  Primary     10503   \n",
       "4   Kopa Maikudiri Dispensary  Partially Functional  Primary     10209   \n",
       "\n",
       "                category          accessibility    lga_name  lga_code  \\\n",
       "0  Primary Health Center  Primary Health Center   Maiduguri       124   \n",
       "1  Primary Health Center                Unknown   Maiduguri       124   \n",
       "2  Primary Health Center  Primary Health Center  Askira Uba       102   \n",
       "3  Primary Health Center                Unknown         Biu       105   \n",
       "4             Dispensary                Unknown  Askira Uba       102   \n",
       "\n",
       "  state_name  \n",
       "0      Borno  \n",
       "1      Borno  \n",
       "2      Borno  \n",
       "3      Borno  \n",
       "4      Borno  "
      ]
     },
     "execution_count": 51,
     "metadata": {},
     "output_type": "execute_result"
    }
   ],
   "source": [
    "df.head()"
   ]
  },
  {
   "cell_type": "code",
   "execution_count": 20,
   "id": "b8c671e1",
   "metadata": {},
   "outputs": [
    {
     "data": {
      "text/html": [
       "<div>\n",
       "<style scoped>\n",
       "    .dataframe tbody tr th:only-of-type {\n",
       "        vertical-align: middle;\n",
       "    }\n",
       "\n",
       "    .dataframe tbody tr th {\n",
       "        vertical-align: top;\n",
       "    }\n",
       "\n",
       "    .dataframe thead th {\n",
       "        text-align: right;\n",
       "    }\n",
       "</style>\n",
       "<table border=\"1\" class=\"dataframe\">\n",
       "  <thead>\n",
       "    <tr style=\"text-align: right;\">\n",
       "      <th></th>\n",
       "      <th>lga_code</th>\n",
       "    </tr>\n",
       "  </thead>\n",
       "  <tbody>\n",
       "    <tr>\n",
       "      <th>count</th>\n",
       "      <td>46146.000000</td>\n",
       "    </tr>\n",
       "    <tr>\n",
       "      <th>mean</th>\n",
       "      <td>15658.749187</td>\n",
       "    </tr>\n",
       "    <tr>\n",
       "      <th>std</th>\n",
       "      <td>11386.058136</td>\n",
       "    </tr>\n",
       "    <tr>\n",
       "      <th>min</th>\n",
       "      <td>101.000000</td>\n",
       "    </tr>\n",
       "    <tr>\n",
       "      <th>25%</th>\n",
       "      <td>4016.000000</td>\n",
       "    </tr>\n",
       "    <tr>\n",
       "      <th>50%</th>\n",
       "      <td>16002.000000</td>\n",
       "    </tr>\n",
       "    <tr>\n",
       "      <th>75%</th>\n",
       "      <td>26013.000000</td>\n",
       "    </tr>\n",
       "    <tr>\n",
       "      <th>max</th>\n",
       "      <td>35016.000000</td>\n",
       "    </tr>\n",
       "  </tbody>\n",
       "</table>\n",
       "</div>"
      ],
      "text/plain": [
       "           lga_code\n",
       "count  46146.000000\n",
       "mean   15658.749187\n",
       "std    11386.058136\n",
       "min      101.000000\n",
       "25%     4016.000000\n",
       "50%    16002.000000\n",
       "75%    26013.000000\n",
       "max    35016.000000"
      ]
     },
     "execution_count": 20,
     "metadata": {},
     "output_type": "execute_result"
    }
   ],
   "source": [
    "df.describe()"
   ]
  },
  {
   "cell_type": "code",
   "execution_count": 21,
   "id": "60f11e2a",
   "metadata": {},
   "outputs": [],
   "source": [
    "df['functional_status'].replace('Unknown', 'Functional',inplace  = True)"
   ]
  },
  {
   "cell_type": "code",
   "execution_count": 22,
   "id": "39cc0a1b",
   "metadata": {},
   "outputs": [],
   "source": [
    "df['type'].replace('Primary Health Clinic', 'Primary',inplace  = True)\n",
    "df['type'].replace('Unknown', 'Primary',inplace  = True)\n",
    "df['type'].replace('Primary Health Center', 'Primary',inplace  = True)"
   ]
  },
  {
   "cell_type": "code",
   "execution_count": 23,
   "id": "f14459f0",
   "metadata": {},
   "outputs": [
    {
     "data": {
      "text/plain": [
       "Functional              46035\n",
       "Not Functional            104\n",
       "Partially Functional        7\n",
       "Name: functional_status, dtype: int64"
      ]
     },
     "execution_count": 23,
     "metadata": {},
     "output_type": "execute_result"
    }
   ],
   "source": [
    "df['functional_status'].value_counts()"
   ]
  },
  {
   "cell_type": "markdown",
   "id": "ab7101b0",
   "metadata": {},
   "source": [
    "### Functional Status of the health care"
   ]
  },
  {
   "cell_type": "code",
   "execution_count": 25,
   "id": "d8fc8367",
   "metadata": {},
   "outputs": [
    {
     "data": {
      "text/plain": [
       "array(['Functional', 'Partially Functional', 'Not Functional'],\n",
       "      dtype=object)"
      ]
     },
     "execution_count": 25,
     "metadata": {},
     "output_type": "execute_result"
    }
   ],
   "source": [
    "df['functional_status'].unique()"
   ]
  },
  {
   "cell_type": "code",
   "execution_count": 26,
   "id": "b7208de2",
   "metadata": {},
   "outputs": [
    {
     "data": {
      "text/plain": [
       "Functional              46035\n",
       "Not Functional            104\n",
       "Partially Functional        7\n",
       "Name: functional_status, dtype: int64"
      ]
     },
     "execution_count": 26,
     "metadata": {},
     "output_type": "execute_result"
    }
   ],
   "source": [
    "df['functional_status'].value_counts()"
   ]
  },
  {
   "cell_type": "code",
   "execution_count": 22,
   "id": "e599769f",
   "metadata": {},
   "outputs": [
    {
     "data": {
      "text/plain": [
       "<AxesSubplot:xlabel='functional_status', ylabel='count'>"
      ]
     },
     "execution_count": 22,
     "metadata": {},
     "output_type": "execute_result"
    },
    {
     "data": {
      "image/png": "[encoded data removed]",
      "text/plain": [
       "<Figure size 432x288 with 1 Axes>"
      ]
     },
     "metadata": {
      "needs_background": "light"
     },
     "output_type": "display_data"
    }
   ],
   "source": [
    "sns.countplot(x=\"functional_status\", data=df)"
   ]
  },
  {
   "cell_type": "code",
   "execution_count": 27,
   "id": "c28bac8e",
   "metadata": {},
   "outputs": [
    {
     "data": {
      "text/plain": [
       "<AxesSubplot:ylabel='functional_status'>"
      ]
     },
     "execution_count": 27,
     "metadata": {},
     "output_type": "execute_result"
    },
    {
     "data": {
      "image/png": "[encoded data removed]",
      "text/plain": [
       "<Figure size 432x288 with 1 Axes>"
      ]
     },
     "metadata": {},
     "output_type": "display_data"
    }
   ],
   "source": [
    "df['functional_status'].value_counts().plot(kind='pie',autopct='%1.1f%%')"
   ]
  },
  {
   "cell_type": "markdown",
   "id": "621b4a4c",
   "metadata": {},
   "source": [
    "### Type of the health care"
   ]
  },
  {
   "cell_type": "code",
   "execution_count": 28,
   "id": "7b9d7c8e",
   "metadata": {},
   "outputs": [
    {
     "data": {
      "text/plain": [
       "array(['Primary', 'Secondary', 'Health Post Dispensary', 'Tertiary'],\n",
       "      dtype=object)"
      ]
     },
     "execution_count": 28,
     "metadata": {},
     "output_type": "execute_result"
    }
   ],
   "source": [
    "df['type'].unique()"
   ]
  },
  {
   "cell_type": "code",
   "execution_count": 29,
   "id": "8c5b1615",
   "metadata": {},
   "outputs": [
    {
     "data": {
      "text/plain": [
       "Primary                   43995\n",
       "Secondary                  1338\n",
       "Tertiary                    800\n",
       "Health Post Dispensary       13\n",
       "Name: type, dtype: int64"
      ]
     },
     "execution_count": 29,
     "metadata": {},
     "output_type": "execute_result"
    }
   ],
   "source": [
    "df['type'].value_counts()"
   ]
  },
  {
   "cell_type": "code",
   "execution_count": 30,
   "id": "e1c28686",
   "metadata": {},
   "outputs": [
    {
     "data": {
      "text/plain": [
       "<AxesSubplot:xlabel='type', ylabel='count'>"
      ]
     },
     "execution_count": 30,
     "metadata": {},
     "output_type": "execute_result"
    },
    {
     "data": {
      "image/png": "[encoded data removed]",
      "text/plain": [
       "<Figure size 432x288 with 1 Axes>"
      ]
     },
     "metadata": {
      "needs_background": "light"
     },
     "output_type": "display_data"
    }
   ],
   "source": [
    "sns.countplot(x=\"type\", data=df)"
   ]
  },
  {
   "cell_type": "code",
   "execution_count": 31,
   "id": "fe47cd76",
   "metadata": {},
   "outputs": [
    {
     "data": {
      "text/plain": [
       "<AxesSubplot:ylabel='type'>"
      ]
     },
     "execution_count": 31,
     "metadata": {},
     "output_type": "execute_result"
    },
    {
     "data": {
      "image/png": "[encoded data removed]",
      "text/plain": [
       "<Figure size 432x288 with 1 Axes>"
      ]
     },
     "metadata": {},
     "output_type": "display_data"
    }
   ],
   "source": [
    "df['type'].value_counts().plot(kind='pie',autopct='%1.1f%%')"
   ]
  },
  {
   "cell_type": "code",
   "execution_count": 32,
   "id": "19c40896",
   "metadata": {},
   "outputs": [
    {
     "data": {
      "text/plain": [
       "array(['Primary Health Center', 'Dispensary', 'Medical Center',\n",
       "       'Federal Medical Center', 'Educational Clinic', 'General Hospital',\n",
       "       'Veterinary Clinic', 'Maternity Home', 'Federal Staff Clinic',\n",
       "       'Private Non Profit', 'Military and Paramilitary Clinic', 'Others',\n",
       "       'Comprehensive Health Center', 'Specialist Hospital',\n",
       "       'Teaching Hospital', 'Cottage Hospital', 'Pharmacy', 'Laboratory',\n",
       "       'Community Health Center', 'District Hospital',\n",
       "       'Research Hospital'], dtype=object)"
      ]
     },
     "execution_count": 32,
     "metadata": {},
     "output_type": "execute_result"
    }
   ],
   "source": [
    "df['category'].unique()"
   ]
  },
  {
   "cell_type": "code",
   "execution_count": 33,
   "id": "9b398157",
   "metadata": {},
   "outputs": [
    {
     "data": {
      "text/plain": [
       "Primary Health Center               28065\n",
       "Dispensary                           8626\n",
       "Maternity Home                       4423\n",
       "Private Non Profit                   1179\n",
       "Medical Center                        956\n",
       "Specialist Hospital                   673\n",
       "General Hospital                      637\n",
       "Comprehensive Health Center           458\n",
       "Educational Clinic                    249\n",
       "Laboratory                            234\n",
       "Cottage Hospital                      223\n",
       "Military and Paramilitary Clinic      143\n",
       "Federal Staff Clinic                  110\n",
       "Teaching Hospital                      51\n",
       "Federal Medical Center                 46\n",
       "District Hospital                      25\n",
       "Pharmacy                               21\n",
       "Veterinary Clinic                      14\n",
       "Community Health Center                 8\n",
       "Others                                  4\n",
       "Research Hospital                       1\n",
       "Name: category, dtype: int64"
      ]
     },
     "execution_count": 33,
     "metadata": {},
     "output_type": "execute_result"
    }
   ],
   "source": [
    "df['category'].value_counts()"
   ]
  },
  {
   "cell_type": "code",
   "execution_count": 35,
   "id": "38900bbb",
   "metadata": {},
   "outputs": [
    {
     "data": {
      "image/png": "[encoded data removed]",
      "text/plain": [
       "<Figure size 432x288 with 1 Axes>"
      ]
     },
     "metadata": {
      "needs_background": "light"
     },
     "output_type": "display_data"
    },
    {
     "data": {
      "text/plain": [
       "<Figure size 432x288 with 0 Axes>"
      ]
     },
     "metadata": {},
     "output_type": "display_data"
    }
   ],
   "source": [
    "import matplotlib.pyplot as plt\n",
    "import pandas as pd\n",
    "\n",
    "# Sample data\n",
    "data = df['category']\n",
    "\n",
    "# Count occurrences of each category\n",
    "category_counts = pd.Series(data).value_counts()\n",
    "\n",
    "\n",
    "# Create the horizontal bar plot\n",
    "plt.barh(category_counts.index, category_counts.values)\n",
    "\n",
    "# Add labels and title\n",
    "plt.xlabel('Count')\n",
    "plt.ylabel('Category')\n",
    "plt.title('Health Category')\n",
    "\n",
    "# Display the plot\n",
    "plt.show()"
   ]
  },
  {
   "cell_type": "code",
   "execution_count": 37,
   "id": "35f03fc4",
   "metadata": {},
   "outputs": [
    {
     "data": {
      "text/plain": [
       "<AxesSubplot:ylabel='category'>"
      ]
     },
     "execution_count": 37,
     "metadata": {},
     "output_type": "execute_result"
    },
    {
     "data": {
      "image/png": "[encoded data removed]",
      "text/plain": [
       "<Figure size 432x288 with 1 Axes>"
      ]
     },
     "metadata": {},
     "output_type": "display_data"
    }
   ],
   "source": [
    "df['category'].value_counts()[:5].plot(kind='pie',autopct='%1.1f%%')"
   ]
  },
  {
   "cell_type": "code",
   "execution_count": 38,
   "id": "28b9c34b",
   "metadata": {},
   "outputs": [
    {
     "data": {
      "text/plain": [
       "Primary Health Center    46012\n",
       "Unknown                    117\n",
       "Yes                         17\n",
       "Name: accessibility, dtype: int64"
      ]
     },
     "execution_count": 38,
     "metadata": {},
     "output_type": "execute_result"
    }
   ],
   "source": [
    "df['accessibility'].value_counts()"
   ]
  },
  {
   "cell_type": "code",
   "execution_count": 40,
   "id": "ee416ee8",
   "metadata": {},
   "outputs": [
    {
     "data": {
      "text/plain": [
       "Lagos          2320\n",
       "Katsina        2228\n",
       "Benue          2192\n",
       "Niger          2010\n",
       "Ogun           1721\n",
       "Oyo            1713\n",
       "Imo            1661\n",
       "Anambra        1648\n",
       "Osun           1607\n",
       "Adamawa        1575\n",
       "Kano           1561\n",
       "Kogi           1499\n",
       "Cross River    1470\n",
       "Enugu          1384\n",
       "Taraba         1380\n",
       "Plateau        1348\n",
       "Bauchi         1331\n",
       "Abia           1218\n",
       "Nasarawa       1126\n",
       "Ebonyi         1112\n",
       "Kaduna         1103\n",
       "Kebbi          1091\n",
       "Ondo           1025\n",
       "Edo             972\n",
       "Zamfara         916\n",
       "Sokoto          914\n",
       "Delta           909\n",
       "Kwara           891\n",
       "Borno           884\n",
       "Akwa Ibom       870\n",
       "Gombe           776\n",
       "Jigawa          729\n",
       "Rivers          723\n",
       "Ekiti           679\n",
       "Yobe            597\n",
       "Fct             576\n",
       "Bayelsa         387\n",
       "Name: state_name, dtype: int64"
      ]
     },
     "execution_count": 40,
     "metadata": {},
     "output_type": "execute_result"
    }
   ],
   "source": [
    "df['state_name'].value_counts()"
   ]
  },
  {
   "cell_type": "code",
   "execution_count": 52,
   "id": "32e8b5b2",
   "metadata": {},
   "outputs": [
    {
     "data": {
      "image/png": "[encoded data removed]",
      "text/plain": [
       "<Figure size 432x288 with 1 Axes>"
      ]
     },
     "metadata": {
      "needs_background": "light"
     },
     "output_type": "display_data"
    }
   ],
   "source": [
    "import matplotlib.pyplot as plt\n",
    "import pandas as pd\n",
    "\n",
    "# Sample data\n",
    "data = df['state_name']\n",
    "\n",
    "# Count occurrences of each category\n",
    "category_counts = pd.Series(data).value_counts()[:20]\n",
    "\n",
    "\n",
    "# Create the horizontal bar plot\n",
    "plt.barh(category_counts.index, category_counts.values)\n",
    "\n",
    "# Add labels and title\n",
    "plt.xlabel('Count')\n",
    "plt.ylabel('Category')\n",
    "plt.title('Health Category')\n",
    "\n",
    "# Display the plot\n",
    "plt.show()"
   ]
  },
  {
   "cell_type": "code",
   "execution_count": null,
   "id": "287ee360",
   "metadata": {},
   "outputs": [],
   "source": []
  }
 ],
 "metadata": {
  "kernelspec": {
   "display_name": "Python 3 (ipykernel)",
   "language": "python",
   "name": "python3"
  },
  "language_info": {
   "codemirror_mode": {
    "name": "ipython",
    "version": 3
   },
   "file_extension": ".py",
   "mimetype": "text/x-python",
   "name": "python",
   "nbconvert_exporter": "python",
   "pygments_lexer": "ipython3",
   "version": "3.9.7"
  }
 },
 "nbformat": 4,
 "nbformat_minor": 5
}
